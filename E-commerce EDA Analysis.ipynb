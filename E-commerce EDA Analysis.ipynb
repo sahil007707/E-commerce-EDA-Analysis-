{
 "cells": [
  {
   "cell_type": "markdown",
   "id": "30d7d954",
   "metadata": {},
   "source": [
    "# Importing Libraries"
   ]
  },
  {
   "cell_type": "code",
   "execution_count": null,
   "id": "d64c6c86",
   "metadata": {},
   "outputs": [],
   "source": [
    "import pandas as pd\n",
    "import seaborn as sns\n",
    "import matplotlib.pyplot as plt\n",
    "import numpy as np\n",
    "import plotly.express as px\n",
    "import warnings\n",
    "warnings.filterwarnings(\"ignore\")"
   ]
  },
  {
   "cell_type": "markdown",
   "id": "dba4eded",
   "metadata": {},
   "source": [
    "# Project \n",
    "## E-commerce EDA Analysis "
   ]
  },
  {
   "cell_type": "code",
   "execution_count": 35,
   "id": "74e9302e",
   "metadata": {},
   "outputs": [],
   "source": [
    "df=pd.read_csv(r\"c:\\Users\\user\\Desktop\\Kaggle Datasets\\eCommercePK.csv\")"
   ]
  },
  {
   "cell_type": "markdown",
   "id": "cfae1926",
   "metadata": {},
   "source": [
    "# Data Info "
   ]
  },
  {
   "cell_type": "code",
   "execution_count": 36,
   "id": "6a0a27ef",
   "metadata": {},
   "outputs": [
    {
     "data": {
      "text/plain": [
       "(797, 9)"
      ]
     },
     "execution_count": 36,
     "metadata": {},
     "output_type": "execute_result"
    }
   ],
   "source": [
    "df.shape"
   ]
  },
  {
   "cell_type": "code",
   "execution_count": 37,
   "id": "f36bc29f",
   "metadata": {},
   "outputs": [
    {
     "name": "stdout",
     "output_type": "stream",
     "text": [
      "<class 'pandas.core.frame.DataFrame'>\n",
      "RangeIndex: 797 entries, 0 to 796\n",
      "Data columns (total 9 columns):\n",
      " #   Column        Non-Null Count  Dtype \n",
      "---  ------        --------------  ----- \n",
      " 0   order_id      797 non-null    int64 \n",
      " 1   order_status  797 non-null    object\n",
      " 2   order_source  797 non-null    object\n",
      " 3   order_date    797 non-null    object\n",
      " 4   category      797 non-null    object\n",
      " 5   sku           797 non-null    object\n",
      " 6   quantity      797 non-null    int64 \n",
      " 7   sales         797 non-null    int64 \n",
      " 8   city          797 non-null    object\n",
      "dtypes: int64(3), object(6)\n",
      "memory usage: 56.2+ KB\n"
     ]
    }
   ],
   "source": [
    "df.info()"
   ]
  },
  {
   "cell_type": "code",
   "execution_count": 38,
   "id": "feeef4ff",
   "metadata": {},
   "outputs": [
    {
     "data": {
      "text/html": [
       "<div>\n",
       "<style scoped>\n",
       "    .dataframe tbody tr th:only-of-type {\n",
       "        vertical-align: middle;\n",
       "    }\n",
       "\n",
       "    .dataframe tbody tr th {\n",
       "        vertical-align: top;\n",
       "    }\n",
       "\n",
       "    .dataframe thead th {\n",
       "        text-align: right;\n",
       "    }\n",
       "</style>\n",
       "<table border=\"1\" class=\"dataframe\">\n",
       "  <thead>\n",
       "    <tr style=\"text-align: right;\">\n",
       "      <th></th>\n",
       "      <th>order_id</th>\n",
       "      <th>order_status</th>\n",
       "      <th>order_source</th>\n",
       "      <th>order_date</th>\n",
       "      <th>category</th>\n",
       "      <th>sku</th>\n",
       "      <th>quantity</th>\n",
       "      <th>sales</th>\n",
       "      <th>city</th>\n",
       "    </tr>\n",
       "  </thead>\n",
       "  <tbody>\n",
       "    <tr>\n",
       "      <th>0</th>\n",
       "      <td>5447</td>\n",
       "      <td>Shipped</td>\n",
       "      <td>Whatsapp</td>\n",
       "      <td>04/01/2025</td>\n",
       "      <td>CK</td>\n",
       "      <td>Dng</td>\n",
       "      <td>1</td>\n",
       "      <td>1590</td>\n",
       "      <td>Karachi</td>\n",
       "    </tr>\n",
       "    <tr>\n",
       "      <th>1</th>\n",
       "      <td>14127</td>\n",
       "      <td>Shipped</td>\n",
       "      <td>Web</td>\n",
       "      <td>08/01/2025</td>\n",
       "      <td>CK</td>\n",
       "      <td>DIY</td>\n",
       "      <td>1</td>\n",
       "      <td>899</td>\n",
       "      <td>Karachi</td>\n",
       "    </tr>\n",
       "    <tr>\n",
       "      <th>2</th>\n",
       "      <td>14213</td>\n",
       "      <td>Shipped</td>\n",
       "      <td>Web</td>\n",
       "      <td>19/01/2025</td>\n",
       "      <td>CK</td>\n",
       "      <td>DIY</td>\n",
       "      <td>1</td>\n",
       "      <td>899</td>\n",
       "      <td>Karachi</td>\n",
       "    </tr>\n",
       "    <tr>\n",
       "      <th>3</th>\n",
       "      <td>14333</td>\n",
       "      <td>Shipped</td>\n",
       "      <td>Web</td>\n",
       "      <td>05/02/2025</td>\n",
       "      <td>CK</td>\n",
       "      <td>Simply9</td>\n",
       "      <td>1</td>\n",
       "      <td>990</td>\n",
       "      <td>Karachi</td>\n",
       "    </tr>\n",
       "    <tr>\n",
       "      <th>4</th>\n",
       "      <td>14397</td>\n",
       "      <td>Shipped</td>\n",
       "      <td>Web</td>\n",
       "      <td>16/02/2025</td>\n",
       "      <td>CK</td>\n",
       "      <td>Simply9</td>\n",
       "      <td>1</td>\n",
       "      <td>990</td>\n",
       "      <td>Karachi</td>\n",
       "    </tr>\n",
       "  </tbody>\n",
       "</table>\n",
       "</div>"
      ],
      "text/plain": [
       "   order_id order_status order_source  order_date category      sku  quantity  \\\n",
       "0      5447      Shipped     Whatsapp  04/01/2025       CK      Dng         1   \n",
       "1     14127      Shipped          Web  08/01/2025       CK      DIY         1   \n",
       "2     14213      Shipped          Web  19/01/2025       CK      DIY         1   \n",
       "3     14333      Shipped          Web  05/02/2025       CK  Simply9         1   \n",
       "4     14397      Shipped          Web  16/02/2025       CK  Simply9         1   \n",
       "\n",
       "   sales     city  \n",
       "0   1590  Karachi  \n",
       "1    899  Karachi  \n",
       "2    899  Karachi  \n",
       "3    990  Karachi  \n",
       "4    990  Karachi  "
      ]
     },
     "execution_count": 38,
     "metadata": {},
     "output_type": "execute_result"
    }
   ],
   "source": [
    "df.head()"
   ]
  },
  {
   "cell_type": "markdown",
   "id": "18b2e5ec",
   "metadata": {},
   "source": [
    "# Data Handling & Cleaning"
   ]
  },
  {
   "cell_type": "code",
   "execution_count": 39,
   "id": "53697fd1",
   "metadata": {},
   "outputs": [],
   "source": [
    "df.isna().sum()\n",
    "df.duplicated().sum()\n",
    "df.drop_duplicates(inplace=True)"
   ]
  },
  {
   "cell_type": "code",
   "execution_count": 40,
   "id": "4d4d658f",
   "metadata": {},
   "outputs": [],
   "source": [
    "df[\"order_date\"]=pd.to_datetime(df[\"order_date\"],dayfirst=True)"
   ]
  },
  {
   "cell_type": "code",
   "execution_count": 41,
   "id": "3a60ace7",
   "metadata": {},
   "outputs": [],
   "source": [
    "df[\"order_month\"] = df[\"order_date\"].dt.month\n",
    "df[\"order_day\"] = df[\"order_date\"].dt.day\n",
    "df[\"order_weekday\"] = df[\"order_date\"].dt.weekday\n",
    "df[\"order_year\"] = df[\"order_date\"].dt.year\n"
   ]
  },
  {
   "cell_type": "code",
   "execution_count": 42,
   "id": "7206914b",
   "metadata": {},
   "outputs": [
    {
     "data": {
      "text/html": [
       "<div>\n",
       "<style scoped>\n",
       "    .dataframe tbody tr th:only-of-type {\n",
       "        vertical-align: middle;\n",
       "    }\n",
       "\n",
       "    .dataframe tbody tr th {\n",
       "        vertical-align: top;\n",
       "    }\n",
       "\n",
       "    .dataframe thead th {\n",
       "        text-align: right;\n",
       "    }\n",
       "</style>\n",
       "<table border=\"1\" class=\"dataframe\">\n",
       "  <thead>\n",
       "    <tr style=\"text-align: right;\">\n",
       "      <th></th>\n",
       "      <th>order_id</th>\n",
       "      <th>order_status</th>\n",
       "      <th>order_source</th>\n",
       "      <th>order_date</th>\n",
       "      <th>category</th>\n",
       "      <th>sku</th>\n",
       "      <th>quantity</th>\n",
       "      <th>sales</th>\n",
       "      <th>city</th>\n",
       "      <th>order_month</th>\n",
       "      <th>order_day</th>\n",
       "      <th>order_weekday</th>\n",
       "      <th>order_year</th>\n",
       "    </tr>\n",
       "  </thead>\n",
       "  <tbody>\n",
       "    <tr>\n",
       "      <th>0</th>\n",
       "      <td>5447</td>\n",
       "      <td>Shipped</td>\n",
       "      <td>Whatsapp</td>\n",
       "      <td>2025-01-04</td>\n",
       "      <td>CK</td>\n",
       "      <td>Dng</td>\n",
       "      <td>1</td>\n",
       "      <td>1590</td>\n",
       "      <td>Karachi</td>\n",
       "      <td>1</td>\n",
       "      <td>4</td>\n",
       "      <td>5</td>\n",
       "      <td>2025</td>\n",
       "    </tr>\n",
       "    <tr>\n",
       "      <th>1</th>\n",
       "      <td>14127</td>\n",
       "      <td>Shipped</td>\n",
       "      <td>Web</td>\n",
       "      <td>2025-01-08</td>\n",
       "      <td>CK</td>\n",
       "      <td>DIY</td>\n",
       "      <td>1</td>\n",
       "      <td>899</td>\n",
       "      <td>Karachi</td>\n",
       "      <td>1</td>\n",
       "      <td>8</td>\n",
       "      <td>2</td>\n",
       "      <td>2025</td>\n",
       "    </tr>\n",
       "    <tr>\n",
       "      <th>2</th>\n",
       "      <td>14213</td>\n",
       "      <td>Shipped</td>\n",
       "      <td>Web</td>\n",
       "      <td>2025-01-19</td>\n",
       "      <td>CK</td>\n",
       "      <td>DIY</td>\n",
       "      <td>1</td>\n",
       "      <td>899</td>\n",
       "      <td>Karachi</td>\n",
       "      <td>1</td>\n",
       "      <td>19</td>\n",
       "      <td>6</td>\n",
       "      <td>2025</td>\n",
       "    </tr>\n",
       "    <tr>\n",
       "      <th>3</th>\n",
       "      <td>14333</td>\n",
       "      <td>Shipped</td>\n",
       "      <td>Web</td>\n",
       "      <td>2025-02-05</td>\n",
       "      <td>CK</td>\n",
       "      <td>Simply9</td>\n",
       "      <td>1</td>\n",
       "      <td>990</td>\n",
       "      <td>Karachi</td>\n",
       "      <td>2</td>\n",
       "      <td>5</td>\n",
       "      <td>2</td>\n",
       "      <td>2025</td>\n",
       "    </tr>\n",
       "    <tr>\n",
       "      <th>4</th>\n",
       "      <td>14397</td>\n",
       "      <td>Shipped</td>\n",
       "      <td>Web</td>\n",
       "      <td>2025-02-16</td>\n",
       "      <td>CK</td>\n",
       "      <td>Simply9</td>\n",
       "      <td>1</td>\n",
       "      <td>990</td>\n",
       "      <td>Karachi</td>\n",
       "      <td>2</td>\n",
       "      <td>16</td>\n",
       "      <td>6</td>\n",
       "      <td>2025</td>\n",
       "    </tr>\n",
       "  </tbody>\n",
       "</table>\n",
       "</div>"
      ],
      "text/plain": [
       "   order_id order_status order_source order_date category      sku  quantity  \\\n",
       "0      5447      Shipped     Whatsapp 2025-01-04       CK      Dng         1   \n",
       "1     14127      Shipped          Web 2025-01-08       CK      DIY         1   \n",
       "2     14213      Shipped          Web 2025-01-19       CK      DIY         1   \n",
       "3     14333      Shipped          Web 2025-02-05       CK  Simply9         1   \n",
       "4     14397      Shipped          Web 2025-02-16       CK  Simply9         1   \n",
       "\n",
       "   sales     city  order_month  order_day  order_weekday  order_year  \n",
       "0   1590  Karachi            1          4              5        2025  \n",
       "1    899  Karachi            1          8              2        2025  \n",
       "2    899  Karachi            1         19              6        2025  \n",
       "3    990  Karachi            2          5              2        2025  \n",
       "4    990  Karachi            2         16              6        2025  "
      ]
     },
     "execution_count": 42,
     "metadata": {},
     "output_type": "execute_result"
    }
   ],
   "source": [
    "df.head()"
   ]
  },
  {
   "cell_type": "markdown",
   "id": "61dbf500",
   "metadata": {},
   "source": [
    "# EDA & Visualization"
   ]
  },
  {
   "cell_type": "code",
   "execution_count": null,
   "id": "2fef885d",
   "metadata": {},
   "outputs": [
    {
     "data": {
      "text/plain": [
       "<Axes: xlabel='category', ylabel='city'>"
      ]
     },
     "execution_count": 62,
     "metadata": {},
     "output_type": "execute_result"
    },
    {
     "data": {
      "image/png": "[encoded data removed]",
      "text/plain": [
       "<Figure size 1200x1500 with 2 Axes>"
      ]
     },
     "metadata": {},
     "output_type": "display_data"
    }
   ],
   "source": [
    "pivot = df.pivot_table(index=\"city\", columns=\"category\", values=\"quantity\", aggfunc=\"sum\")\n",
    "plt.figure(figsize=(12,15))\n",
    "sns.heatmap(pivot, annot=True, fmt=\"g\", cmap=\"Blues\")\n"
   ]
  },
  {
   "cell_type": "code",
   "execution_count": 55,
   "id": "22a6464f",
   "metadata": {},
   "outputs": [
    {
     "data": {
      "application/vnd.plotly.v1+json": {
       "config": {
        "plotlyServerURL": "https://plot.ly"
       },
       "data": [
        {
         "domain": {
          "x": [
           0,
           1
          ],
          "y": [
           0,
           1
          ]
         },
         "hovertemplate": "city=%{label}<br>sales=%{value}<extra></extra>",
         "labels": [
          "ABDUL HAKIM",
          "Abbottabad",
          "Arifwala",
          "BHAKKAR",
          "Bahawalnagar",
          "Bahawalpur",
          "Batkhela",
          "Batkhela Distt Malakand",
          "Burewala",
          "Chakwal",
          "Charsadda",
          "Chicha Watni",
          "Chistian",
          "DARGAI",
          "DAULAT PUR",
          "DIGRI",
          "Depalpur",
          "Dera Ghazi Khan",
          "Dera Ismail Khan",
          "Dera ala yar",
          "Dharki",
          "Faisalabad",
          "GILGIT",
          "Ghotki",
          "Gujar Khan",
          "Gujranwala",
          "Gujrat",
          "Hafizabad",
          "Hasilpur",
          "Hyderabad",
          "Islamabad",
          "Jampur",
          "Jamshoro",
          "Jhelum",
          "KAMBER ALI KHAN",
          "KHAIR PUR MEERU",
          "Kabir Wala",
          "Kamoki",
          "Kandhkot",
          "Karachi",
          "Kark",
          "Kasur",
          "Khairpur",
          "Khanewal",
          "Khanpur",
          "Kharian",
          "Lahore",
          "Lakki Marwat",
          "Larkana",
          "Liaqatpur",
          "Lodhran",
          "MIRAN SHAH",
          "Mailsi",
          "Mandi Bahauddin",
          "Mansehra",
          "Mardan",
          "Mianwali",
          "Mingora (swat)",
          "Mirpur (a. K)",
          "Mirpur Khas",
          "Moro",
          "Multan",
          "Muzaffargarh",
          "Nawab Shah",
          "Nowshera",
          "Nowshera virkan",
          "Okara",
          "Pakpattan",
          "Pattoki",
          "Peshawar",
          "Pindi bhattian",
          "Quetta",
          "RENALAKHURD",
          "Rahim yar khan",
          "Raiwind",
          "Rawalpindi",
          "Retra",
          "SANGHAR",
          "Sadiqabad",
          "Sahiwal",
          "Sambrial",
          "Sargodha",
          "Sehwan",
          "Sheikhupura",
          "Shikarpur",
          "Shorkot Cantt.",
          "Sialkot",
          "Sukkur",
          "Swabi",
          "Tando Adam",
          "Tando ala yar",
          "Taxila",
          "Toba Tek Sing",
          "Turbat",
          "Vehari",
          "Wah Cantt",
          "Zaida",
          "bannu",
          "kot addu",
          "کھڈیاں خاص"
         ],
         "legendgroup": "",
         "name": "",
         "showlegend": true,
         "type": "pie",
         "values": {
          "bdata": "dhEAAM4xAABuBQAANgYAAPwNAADBMwAAEhEAADYGAABCBAAAYgcAAOgIAAA8FAAANgYAAB4KAAAKBQAATAkAADYGAADMFQAAPg0AAGwMAACmBAAAu6cAABATAADYWQAANgYAAM9wAAC0IwAA/A0AADYGAAB5jQAAVO4BALkJAACmBAAAShAAANIFAACvBAAANgYAAHgKAADSBQAAoWoGABQKAADSBQAACAwAAFQQAADwDwAA0gUAAN6EBQAKBQAANgYAAD4NAAAYGgAACgUAAG4FAADeAwAACAwAAFMQAACiEgAAGh0AANwKAAA2BgAANgYAAL+PAAC8BwAAjggAAHgPAADcCgAA+Q8AAD4NAABuBQAAyWwAAAoFAAAGQAAAUBkAAGslAABACwAAJTsBAIMDAAA2BgAAsAkAACQiAACDAwAAHg8AADYGAAA+EgAAbgUAAKYEAACPiwAACAwAALkJAADEDgAANgYAACgPAAC8BwAACAwAAB4KAAAULQAAgwMAAOcDAAD+BgAANgYAAA==",
          "dtype": "i4"
         }
        }
       ],
       "layout": {
        "legend": {
         "tracegroupgap": 0
        },
        "template": {
         "data": {
          "bar": [
           {
            "error_x": {
             "color": "#2a3f5f"
            },
            "error_y": {
             "color": "#2a3f5f"
            },
            "marker": {
             "line": {
              "color": "#E5ECF6",
              "width": 0.5
             },
             "pattern": {
              "fillmode": "overlay",
              "size": 10,
              "solidity": 0.2
             }
            },
            "type": "bar"
           }
          ],
          "barpolar": [
           {
            "marker": {
             "line": {
              "color": "#E5ECF6",
              "width": 0.5
             },
             "pattern": {
              "fillmode": "overlay",
              "size": 10,
              "solidity": 0.2
             }
            },
            "type": "barpolar"
           }
          ],
          "carpet": [
           {
            "aaxis": {
             "endlinecolor": "#2a3f5f",
             "gridcolor": "white",
             "linecolor": "white",
             "minorgridcolor": "white",
             "startlinecolor": "#2a3f5f"
            },
            "baxis": {
             "endlinecolor": "#2a3f5f",
             "gridcolor": "white",
             "linecolor": "white",
             "minorgridcolor": "white",
             "startlinecolor": "#2a3f5f"
            },
            "type": "carpet"
           }
          ],
          "choropleth": [
           {
            "colorbar": {
             "outlinewidth": 0,
             "ticks": ""
            },
            "type": "choropleth"
           }
          ],
          "contour": [
           {
            "colorbar": {
             "outlinewidth": 0,
             "ticks": ""
            },
            "colorscale": [
             [
              0,
              "#0d0887"
             ],
             [
              0.1111111111111111,
              "#46039f"
             ],
             [
              0.2222222222222222,
              "#7201a8"
             ],
             [
              0.3333333333333333,
              "#9c179e"
             ],
             [
              0.4444444444444444,
              "#bd3786"
             ],
             [
              0.5555555555555556,
              "#d8576b"
             ],
             [
              0.6666666666666666,
              "#ed7953"
             ],
             [
              0.7777777777777778,
              "#fb9f3a"
             ],
             [
              0.8888888888888888,
              "#fdca26"
             ],
             [
              1,
              "#f0f921"
             ]
            ],
            "type": "contour"
           }
          ],
          "contourcarpet": [
           {
            "colorbar": {
             "outlinewidth": 0,
             "ticks": ""
            },
            "type": "contourcarpet"
           }
          ],
          "heatmap": [
           {
            "colorbar": {
             "outlinewidth": 0,
             "ticks": ""
            },
            "colorscale": [
             [
              0,
              "#0d0887"
             ],
             [
              0.1111111111111111,
              "#46039f"
             ],
             [
              0.2222222222222222,
              "#7201a8"
             ],
             [
              0.3333333333333333,
              "#9c179e"
             ],
             [
              0.4444444444444444,
              "#bd3786"
             ],
             [
              0.5555555555555556,
              "#d8576b"
             ],
             [
              0.6666666666666666,
              "#ed7953"
             ],
             [
              0.7777777777777778,
              "#fb9f3a"
             ],
             [
              0.8888888888888888,
              "#fdca26"
             ],
             [
              1,
              "#f0f921"
             ]
            ],
            "type": "heatmap"
           }
          ],
          "histogram": [
           {
            "marker": {
             "pattern": {
              "fillmode": "overlay",
              "size": 10,
              "solidity": 0.2
             }
            },
            "type": "histogram"
           }
          ],
          "histogram2d": [
           {
            "colorbar": {
             "outlinewidth": 0,
             "ticks": ""
            },
            "colorscale": [
             [
              0,
              "#0d0887"
             ],
             [
              0.1111111111111111,
              "#46039f"
             ],
             [
              0.2222222222222222,
              "#7201a8"
             ],
             [
              0.3333333333333333,
              "#9c179e"
             ],
             [
              0.4444444444444444,
              "#bd3786"
             ],
             [
              0.5555555555555556,
              "#d8576b"
             ],
             [
              0.6666666666666666,
              "#ed7953"
             ],
             [
              0.7777777777777778,
              "#fb9f3a"
             ],
             [
              0.8888888888888888,
              "#fdca26"
             ],
             [
              1,
              "#f0f921"
             ]
            ],
            "type": "histogram2d"
           }
          ],
          "histogram2dcontour": [
           {
            "colorbar": {
             "outlinewidth": 0,
             "ticks": ""
            },
            "colorscale": [
             [
              0,
              "#0d0887"
             ],
             [
              0.1111111111111111,
              "#46039f"
             ],
             [
              0.2222222222222222,
              "#7201a8"
             ],
             [
              0.3333333333333333,
              "#9c179e"
             ],
             [
              0.4444444444444444,
              "#bd3786"
             ],
             [
              0.5555555555555556,
              "#d8576b"
             ],
             [
              0.6666666666666666,
              "#ed7953"
             ],
             [
              0.7777777777777778,
              "#fb9f3a"
             ],
             [
              0.8888888888888888,
              "#fdca26"
             ],
             [
              1,
              "#f0f921"
             ]
            ],
            "type": "histogram2dcontour"
           }
          ],
          "mesh3d": [
           {
            "colorbar": {
             "outlinewidth": 0,
             "ticks": ""
            },
            "type": "mesh3d"
           }
          ],
          "parcoords": [
           {
            "line": {
             "colorbar": {
              "outlinewidth": 0,
              "ticks": ""
             }
            },
            "type": "parcoords"
           }
          ],
          "pie": [
           {
            "automargin": true,
            "type": "pie"
           }
          ],
          "scatter": [
           {
            "fillpattern": {
             "fillmode": "overlay",
             "size": 10,
             "solidity": 0.2
            },
            "type": "scatter"
           }
          ],
          "scatter3d": [
           {
            "line": {
             "colorbar": {
              "outlinewidth": 0,
              "ticks": ""
             }
            },
            "marker": {
             "colorbar": {
              "outlinewidth": 0,
              "ticks": ""
             }
            },
            "type": "scatter3d"
           }
          ],
          "scattercarpet": [
           {
            "marker": {
             "colorbar": {
              "outlinewidth": 0,
              "ticks": ""
             }
            },
            "type": "scattercarpet"
           }
          ],
          "scattergeo": [
           {
            "marker": {
             "colorbar": {
              "outlinewidth": 0,
              "ticks": ""
             }
            },
            "type": "scattergeo"
           }
          ],
          "scattergl": [
           {
            "marker": {
             "colorbar": {
              "outlinewidth": 0,
              "ticks": ""
             }
            },
            "type": "scattergl"
           }
          ],
          "scattermap": [
           {
            "marker": {
             "colorbar": {
              "outlinewidth": 0,
              "ticks": ""
             }
            },
            "type": "scattermap"
           }
          ],
          "scattermapbox": [
           {
            "marker": {
             "colorbar": {
              "outlinewidth": 0,
              "ticks": ""
             }
            },
            "type": "scattermapbox"
           }
          ],
          "scatterpolar": [
           {
            "marker": {
             "colorbar": {
              "outlinewidth": 0,
              "ticks": ""
             }
            },
            "type": "scatterpolar"
           }
          ],
          "scatterpolargl": [
           {
            "marker": {
             "colorbar": {
              "outlinewidth": 0,
              "ticks": ""
             }
            },
            "type": "scatterpolargl"
           }
          ],
          "scatterternary": [
           {
            "marker": {
             "colorbar": {
              "outlinewidth": 0,
              "ticks": ""
             }
            },
            "type": "scatterternary"
           }
          ],
          "surface": [
           {
            "colorbar": {
             "outlinewidth": 0,
             "ticks": ""
            },
            "colorscale": [
             [
              0,
              "#0d0887"
             ],
             [
              0.1111111111111111,
              "#46039f"
             ],
             [
              0.2222222222222222,
              "#7201a8"
             ],
             [
              0.3333333333333333,
              "#9c179e"
             ],
             [
              0.4444444444444444,
              "#bd3786"
             ],
             [
              0.5555555555555556,
              "#d8576b"
             ],
             [
              0.6666666666666666,
              "#ed7953"
             ],
             [
              0.7777777777777778,
              "#fb9f3a"
             ],
             [
              0.8888888888888888,
              "#fdca26"
             ],
             [
              1,
              "#f0f921"
             ]
            ],
            "type": "surface"
           }
          ],
          "table": [
           {
            "cells": {
             "fill": {
              "color": "#EBF0F8"
             },
             "line": {
              "color": "white"
             }
            },
            "header": {
             "fill": {
              "color": "#C8D4E3"
             },
             "line": {
              "color": "white"
             }
            },
            "type": "table"
           }
          ]
         },
         "layout": {
          "annotationdefaults": {
           "arrowcolor": "#2a3f5f",
           "arrowhead": 0,
           "arrowwidth": 1
          },
          "autotypenumbers": "strict",
          "coloraxis": {
           "colorbar": {
            "outlinewidth": 0,
            "ticks": ""
           }
          },
          "colorscale": {
           "diverging": [
            [
             0,
             "#8e0152"
            ],
            [
             0.1,
             "#c51b7d"
            ],
            [
             0.2,
             "#de77ae"
            ],
            [
             0.3,
             "#f1b6da"
            ],
            [
             0.4,
             "#fde0ef"
            ],
            [
             0.5,
             "#f7f7f7"
            ],
            [
             0.6,
             "#e6f5d0"
            ],
            [
             0.7,
             "#b8e186"
            ],
            [
             0.8,
             "#7fbc41"
            ],
            [
             0.9,
             "#4d9221"
            ],
            [
             1,
             "#276419"
            ]
           ],
           "sequential": [
            [
             0,
             "#0d0887"
            ],
            [
             0.1111111111111111,
             "#46039f"
            ],
            [
             0.2222222222222222,
             "#7201a8"
            ],
            [
             0.3333333333333333,
             "#9c179e"
            ],
            [
             0.4444444444444444,
             "#bd3786"
            ],
            [
             0.5555555555555556,
             "#d8576b"
            ],
            [
             0.6666666666666666,
             "#ed7953"
            ],
            [
             0.7777777777777778,
             "#fb9f3a"
            ],
            [
             0.8888888888888888,
             "#fdca26"
            ],
            [
             1,
             "#f0f921"
            ]
           ],
           "sequentialminus": [
            [
             0,
             "#0d0887"
            ],
            [
             0.1111111111111111,
             "#46039f"
            ],
            [
             0.2222222222222222,
             "#7201a8"
            ],
            [
             0.3333333333333333,
             "#9c179e"
            ],
            [
             0.4444444444444444,
             "#bd3786"
            ],
            [
             0.5555555555555556,
             "#d8576b"
            ],
            [
             0.6666666666666666,
             "#ed7953"
            ],
            [
             0.7777777777777778,
             "#fb9f3a"
            ],
            [
             0.8888888888888888,
             "#fdca26"
            ],
            [
             1,
             "#f0f921"
            ]
           ]
          },
          "colorway": [
           "#636efa",
           "#EF553B",
           "#00cc96",
           "#ab63fa",
           "#FFA15A",
           "#19d3f3",
           "#FF6692",
           "#B6E880",
           "#FF97FF",
           "#FECB52"
          ],
          "font": {
           "color": "#2a3f5f"
          },
          "geo": {
           "bgcolor": "white",
           "lakecolor": "white",
           "landcolor": "#E5ECF6",
           "showlakes": true,
           "showland": true,
           "subunitcolor": "white"
          },
          "hoverlabel": {
           "align": "left"
          },
          "hovermode": "closest",
          "mapbox": {
           "style": "light"
          },
          "paper_bgcolor": "white",
          "plot_bgcolor": "#E5ECF6",
          "polar": {
           "angularaxis": {
            "gridcolor": "white",
            "linecolor": "white",
            "ticks": ""
           },
           "bgcolor": "#E5ECF6",
           "radialaxis": {
            "gridcolor": "white",
            "linecolor": "white",
            "ticks": ""
           }
          },
          "scene": {
           "xaxis": {
            "backgroundcolor": "#E5ECF6",
            "gridcolor": "white",
            "gridwidth": 2,
            "linecolor": "white",
            "showbackground": true,
            "ticks": "",
            "zerolinecolor": "white"
           },
           "yaxis": {
            "backgroundcolor": "#E5ECF6",
            "gridcolor": "white",
            "gridwidth": 2,
            "linecolor": "white",
            "showbackground": true,
            "ticks": "",
            "zerolinecolor": "white"
           },
           "zaxis": {
            "backgroundcolor": "#E5ECF6",
            "gridcolor": "white",
            "gridwidth": 2,
            "linecolor": "white",
            "showbackground": true,
            "ticks": "",
            "zerolinecolor": "white"
           }
          },
          "shapedefaults": {
           "line": {
            "color": "#2a3f5f"
           }
          },
          "ternary": {
           "aaxis": {
            "gridcolor": "white",
            "linecolor": "white",
            "ticks": ""
           },
           "baxis": {
            "gridcolor": "white",
            "linecolor": "white",
            "ticks": ""
           },
           "bgcolor": "#E5ECF6",
           "caxis": {
            "gridcolor": "white",
            "linecolor": "white",
            "ticks": ""
           }
          },
          "title": {
           "x": 0.05
          },
          "xaxis": {
           "automargin": true,
           "gridcolor": "white",
           "linecolor": "white",
           "ticks": "",
           "title": {
            "standoff": 15
           },
           "zerolinecolor": "white",
           "zerolinewidth": 2
          },
          "yaxis": {
           "automargin": true,
           "gridcolor": "white",
           "linecolor": "white",
           "ticks": "",
           "title": {
            "standoff": 15
           },
           "zerolinecolor": "white",
           "zerolinewidth": 2
          }
         }
        },
        "title": {
         "text": "Sales Distribution by City"
        }
       }
      }
     },
     "metadata": {},
     "output_type": "display_data"
    }
   ],
   "source": [
    "px.bar(df.groupby(\"category\")[\"sales\"].sum().reset_index(), x=\"category\", y=\"sales\", title=\"Sales by Category\")\n",
    "px.pie(df.groupby(\"city\")[\"sales\"].sum().reset_index(), names=\"city\", values=\"sales\", title=\"Sales Distribution by City\")\n"
   ]
  },
  {
   "cell_type": "code",
   "execution_count": 72,
   "id": "5d2ba5e9",
   "metadata": {},
   "outputs": [
    {
     "data": {
      "application/vnd.plotly.v1+json": {
       "config": {
        "plotlyServerURL": "https://plot.ly"
       },
       "data": [
        {
         "hovertemplate": "category=CK<br>order_month=1<br>city=%{x}<br>sales=%{y}<extra></extra>",
         "legendgroup": "CK",
         "marker": {
          "color": "#636efa",
          "pattern": {
           "shape": ""
          }
         },
         "name": "CK",
         "orientation": "v",
         "showlegend": true,
         "textposition": "auto",
         "type": "bar",
         "x": [
          "Karachi",
          "Karachi",
          "Karachi",
          "Karachi",
          "Karachi",
          "Karachi",
          "Karachi",
          "Karachi",
          "Karachi",
          "Karachi",
          "Karachi",
          "Karachi",
          "Karachi",
          "Karachi",
          "Karachi",
          "Karachi",
          "Karachi",
          "Karachi",
          "Karachi",
          "Karachi",
          "Karachi",
          "Karachi",
          "Karachi",
          "Karachi",
          "Karachi",
          "Karachi",
          "Karachi",
          "Karachi",
          "Karachi",
          "Karachi",
          "Karachi",
          "Karachi",
          "Karachi",
          "Karachi",
          "Karachi",
          "Karachi",
          "Karachi",
          "Karachi",
          "Karachi",
          "Lahore",
          "Lahore",
          "Lahore",
          "Lahore",
          "Lahore",
          "Lahore",
          "Lahore",
          "Lahore",
          "Lahore",
          "Lahore",
          "Lahore",
          "Lahore",
          "Lahore",
          "Lahore",
          "Lahore",
          "Lahore",
          "Lahore",
          "Lahore",
          "Lahore",
          "Lahore",
          "Lahore",
          "Lahore",
          "Lahore",
          "Lahore",
          "Lahore",
          "Lahore",
          "Hyderabad",
          "Islamabad",
          "Jampur",
          "Swabi",
          "Sambrial",
          "Rawalpindi",
          "Muzaffargarh",
          "Muzaffargarh",
          "Sargodha",
          "Charsadda",
          "Rawalpindi",
          "Gujranwala",
          "Dharki",
          "Shorkot Cantt.",
          "Mirpur (a. K)",
          "Mianwali",
          "Jamshoro",
          "KHAIR PUR MEERU",
          "Peshawar",
          "Peshawar",
          "Pindi bhattian",
          "Raiwind",
          "MIRAN SHAH",
          "Sialkot",
          "Taxila",
          "Mansehra",
          "Rawalpindi",
          "Multan",
          "Hyderabad",
          "Sheikhupura",
          "Jhelum",
          "Sargodha",
          "Kasur",
          "Peshawar",
          "Sadiqabad",
          "Abbottabad",
          "Islamabad",
          "Quetta",
          "Sahiwal",
          "Hyderabad",
          "Wah Cantt",
          "Rawalpindi",
          "Sahiwal",
          "Quetta",
          "Mirpur (a. K)",
          "Quetta",
          "Quetta",
          "Tando ala yar",
          "Quetta",
          "Hasilpur",
          "Gujar Khan",
          "Islamabad",
          "Multan",
          "Mirpur Khas",
          "Rawalpindi",
          "BHAKKAR",
          "Kabir Wala",
          "Mingora (swat)",
          "Swabi",
          "Quetta",
          "Mingora (swat)",
          "Moro",
          "Hyderabad",
          "Mardan",
          "Rawalpindi",
          "Raiwind",
          "Wah Cantt",
          "Sheikhupura",
          "Chistian",
          "Rawalpindi",
          "Hyderabad",
          "Gujranwala",
          "Chakwal",
          "Rawalpindi",
          "Gujrat",
          "Tando Adam",
          "Hyderabad",
          "Karachi",
          "Islamabad",
          "Mandi Bahauddin",
          "Karachi",
          "Karachi",
          "Karachi",
          "Gujrat",
          "DIGRI",
          "Peshawar",
          "Lakki Marwat",
          "Karachi",
          "Karachi",
          "Karachi",
          "Karachi",
          "Islamabad",
          "Lahore",
          "Hyderabad",
          "Karachi",
          "Peshawar",
          "Karachi",
          "کھڈیاں خاص",
          "Larkana",
          "Lahore",
          "Lahore",
          "Faisalabad",
          "DIGRI",
          "Sheikhupura",
          "Hyderabad",
          "Lahore"
         ],
         "xaxis": "x",
         "y": {
          "bdata": "NgaDA4MDQgSmBKYEpgSmBAoFCgUKBQoFbgVuBdIF0gXSBdIF0gXSBdIF0gU2BjYGNgY2BjYGNgY2BjYGNgY2BjYGNgY2BjYGNgaOCI4IgwOEA94D3gOmBKYEpgQKBQoFCgVuBdIF0gXSBdIFNgY2BjYGNgY2BjYGNgY2BjYGNgY2BoMDgwODA4MDgwODA94D3gPeA94DQgSmBKYEpgSmBKYEpgSvBLAECgUKBQoFCgUKBQoFCgUKBW4F0gXSBdIF0gXSBdIF0gXSBdIF0gXSBdIF0gXSBTYGNgY2BjYGNgY2BjYGNgY2BjYGNgY2BjYGNgY2BjYGNgY2BjYGNgY2BjYGNgY2BjYGNgY2BjYGNgZiB2IHYgeOCI4IgwODA94D3gPeA94D3gNCBKYECgUKBW4FbgXSBTYGNgY2BjYGNgY2BjYGNgY2BjYGYgc2BqYENgakC2wM",
          "dtype": "i2"
         },
         "yaxis": "y"
        },
        {
         "hovertemplate": "category=WD<br>order_month=1<br>city=%{x}<br>sales=%{y}<extra></extra>",
         "legendgroup": "WD",
         "marker": {
          "color": "#00cc96",
          "pattern": {
           "shape": ""
          }
         },
         "name": "WD",
         "orientation": "v",
         "showlegend": true,
         "textposition": "auto",
         "type": "bar",
         "x": [
          "Karachi",
          "Karachi",
          "Lahore",
          "Lahore",
          "Lahore",
          "Lahore",
          "Lahore",
          "Sadiqabad",
          "Sialkot",
          "Rahim yar khan",
          "Rawalpindi",
          "Pattoki",
          "Islamabad",
          "Turbat",
          "Turbat",
          "Islamabad",
          "Bahawalnagar",
          "Karachi",
          "Multan",
          "Peshawar",
          "Rawalpindi"
         ],
         "xaxis": "x",
         "y": {
          "bdata": "CgVuBW4FbgX+Bv4Gog3eA6YEpgSmBG4FbgXSBTYG/gZuBf4GTAmYEvYi",
          "dtype": "i2"
         },
         "yaxis": "y"
        },
        {
         "hovertemplate": "category=HNS<br>order_month=1<br>city=%{x}<br>sales=%{y}<extra></extra>",
         "legendgroup": "HNS",
         "marker": {
          "color": "#ab63fa",
          "pattern": {
           "shape": ""
          }
         },
         "name": "HNS",
         "orientation": "v",
         "showlegend": true,
         "textposition": "auto",
         "type": "bar",
         "x": [
          "Karachi",
          "Karachi",
          "Karachi",
          "Karachi",
          "Karachi",
          "Karachi",
          "Karachi",
          "Karachi",
          "Karachi",
          "Karachi",
          "Karachi",
          "Karachi",
          "Karachi",
          "Karachi",
          "Karachi",
          "Karachi",
          "Karachi",
          "Karachi",
          "Karachi",
          "Karachi",
          "Lahore",
          "Lahore",
          "Lahore",
          "Lahore",
          "Lahore",
          "Lahore",
          "Lahore",
          "Lahore",
          "Lahore",
          "Lahore",
          "Peshawar",
          "Islamabad",
          "Sialkot",
          "Faisalabad",
          "Jhelum",
          "Khairpur",
          "Multan",
          "Hafizabad",
          "Hyderabad",
          "Hafizabad",
          "Wah Cantt",
          "Hyderabad",
          "Nawab Shah",
          "Islamabad",
          "Rawalpindi",
          "Lodhran",
          "Islamabad",
          "Gujranwala",
          "Hyderabad",
          "Islamabad",
          "Faisalabad",
          "Sialkot",
          "Gujranwala",
          "Hyderabad",
          "Wah Cantt",
          "Lahore",
          "Islamabad",
          "Lahore",
          "Islamabad",
          "Rawalpindi",
          "Sialkot",
          "Gujrat",
          "Faisalabad",
          "Lahore",
          "Faisalabad",
          "Ghotki"
         ],
         "xaxis": "x",
         "y": {
          "bdata": "pgRuBW4F0gXSBf4G/gb+Bv4GxgfGB8YHjgiOCB4KHgoeCh4Kdgw+DaYEpgRuBZoGmgaOCB4KHgpIDVAUbgVuBW4F0gXSBdIFmgb+Bv4G/gbGB44IjgiOCI4IjggeCh4KHgoeCigKSguuCz4N0gXSBZoGmgb+Bo4IXwkeCigKPg1IDRwl",
          "dtype": "i2"
         },
         "yaxis": "y"
        },
        {
         "hovertemplate": "category=Uncategorized<br>order_month=1<br>city=%{x}<br>sales=%{y}<extra></extra>",
         "legendgroup": "Uncategorized",
         "marker": {
          "color": "#FFA15A",
          "pattern": {
           "shape": ""
          }
         },
         "name": "Uncategorized",
         "orientation": "v",
         "showlegend": true,
         "textposition": "auto",
         "type": "bar",
         "x": [
          "Karachi",
          "Multan"
         ],
         "xaxis": "x",
         "y": {
          "bdata": "og2iDQ==",
          "dtype": "i2"
         },
         "yaxis": "y"
        }
       ],
       "frames": [
        {
         "data": [
          {
           "hovertemplate": "category=CK<br>order_month=1<br>city=%{x}<br>sales=%{y}<extra></extra>",
           "legendgroup": "CK",
           "marker": {
            "color": "#636efa",
            "pattern": {
             "shape": ""
            }
           },
           "name": "CK",
           "orientation": "v",
           "showlegend": true,
           "textposition": "auto",
           "type": "bar",
           "x": [
            "Karachi",
            "Karachi",
            "Karachi",
            "Karachi",
            "Karachi",
            "Karachi",
            "Karachi",
            "Karachi",
            "Karachi",
            "Karachi",
            "Karachi",
            "Karachi",
            "Karachi",
            "Karachi",
            "Karachi",
            "Karachi",
            "Karachi",
            "Karachi",
            "Karachi",
            "Karachi",
            "Karachi",
            "Karachi",
            "Karachi",
            "Karachi",
            "Karachi",
            "Karachi",
            "Karachi",
            "Karachi",
            "Karachi",
            "Karachi",
            "Karachi",
            "Karachi",
            "Karachi",
            "Karachi",
            "Karachi",
            "Karachi",
            "Karachi",
            "Karachi",
            "Karachi",
            "Lahore",
            "Lahore",
            "Lahore",
            "Lahore",
            "Lahore",
            "Lahore",
            "Lahore",
            "Lahore",
            "Lahore",
            "Lahore",
            "Lahore",
            "Lahore",
            "Lahore",
            "Lahore",
            "Lahore",
            "Lahore",
            "Lahore",
            "Lahore",
            "Lahore",
            "Lahore",
            "Lahore",
            "Lahore",
            "Lahore",
            "Lahore",
            "Lahore",
            "Lahore",
            "Hyderabad",
            "Islamabad",
            "Jampur",
            "Swabi",
            "Sambrial",
            "Rawalpindi",
            "Muzaffargarh",
            "Muzaffargarh",
            "Sargodha",
            "Charsadda",
            "Rawalpindi",
            "Gujranwala",
            "Dharki",
            "Shorkot Cantt.",
            "Mirpur (a. K)",
            "Mianwali",
            "Jamshoro",
            "KHAIR PUR MEERU",
            "Peshawar",
            "Peshawar",
            "Pindi bhattian",
            "Raiwind",
            "MIRAN SHAH",
            "Sialkot",
            "Taxila",
            "Mansehra",
            "Rawalpindi",
            "Multan",
            "Hyderabad",
            "Sheikhupura",
            "Jhelum",
            "Sargodha",
            "Kasur",
            "Peshawar",
            "Sadiqabad",
            "Abbottabad",
            "Islamabad",
            "Quetta",
            "Sahiwal",
            "Hyderabad",
            "Wah Cantt",
            "Rawalpindi",
            "Sahiwal",
            "Quetta",
            "Mirpur (a. K)",
            "Quetta",
            "Quetta",
            "Tando ala yar",
            "Quetta",
            "Hasilpur",
            "Gujar Khan",
            "Islamabad",
            "Multan",
            "Mirpur Khas",
            "Rawalpindi",
            "BHAKKAR",
            "Kabir Wala",
            "Mingora (swat)",
            "Swabi",
            "Quetta",
            "Mingora (swat)",
            "Moro",
            "Hyderabad",
            "Mardan",
            "Rawalpindi",
            "Raiwind",
            "Wah Cantt",
            "Sheikhupura",
            "Chistian",
            "Rawalpindi",
            "Hyderabad",
            "Gujranwala",
            "Chakwal",
            "Rawalpindi",
            "Gujrat",
            "Tando Adam",
            "Hyderabad",
            "Karachi",
            "Islamabad",
            "Mandi Bahauddin",
            "Karachi",
            "Karachi",
            "Karachi",
            "Gujrat",
            "DIGRI",
            "Peshawar",
            "Lakki Marwat",
            "Karachi",
            "Karachi",
            "Karachi",
            "Karachi",
            "Islamabad",
            "Lahore",
            "Hyderabad",
            "Karachi",
            "Peshawar",
            "Karachi",
            "کھڈیاں خاص",
            "Larkana",
            "Lahore",
            "Lahore",
            "Faisalabad",
            "DIGRI",
            "Sheikhupura",
            "Hyderabad",
            "Lahore"
           ],
           "xaxis": "x",
           "y": {
            "bdata": "NgaDA4MDQgSmBKYEpgSmBAoFCgUKBQoFbgVuBdIF0gXSBdIF0gXSBdIF0gU2BjYGNgY2BjYGNgY2BjYGNgY2BjYGNgY2BjYGNgaOCI4IgwOEA94D3gOmBKYEpgQKBQoFCgVuBdIF0gXSBdIFNgY2BjYGNgY2BjYGNgY2BjYGNgY2BoMDgwODA4MDgwODA94D3gPeA94DQgSmBKYEpgSmBKYEpgSvBLAECgUKBQoFCgUKBQoFCgUKBW4F0gXSBdIF0gXSBdIF0gXSBdIF0gXSBdIF0gXSBTYGNgY2BjYGNgY2BjYGNgY2BjYGNgY2BjYGNgY2BjYGNgY2BjYGNgY2BjYGNgY2BjYGNgY2BjYGNgZiB2IHYgeOCI4IgwODA94D3gPeA94D3gNCBKYECgUKBW4FbgXSBTYGNgY2BjYGNgY2BjYGNgY2BjYGYgc2BqYENgakC2wM",
            "dtype": "i2"
           },
           "yaxis": "y"
          },
          {
           "hovertemplate": "category=WD<br>order_month=1<br>city=%{x}<br>sales=%{y}<extra></extra>",
           "legendgroup": "WD",
           "marker": {
            "color": "#00cc96",
            "pattern": {
             "shape": ""
            }
           },
           "name": "WD",
           "orientation": "v",
           "showlegend": true,
           "textposition": "auto",
           "type": "bar",
           "x": [
            "Karachi",
            "Karachi",
            "Lahore",
            "Lahore",
            "Lahore",
            "Lahore",
            "Lahore",
            "Sadiqabad",
            "Sialkot",
            "Rahim yar khan",
            "Rawalpindi",
            "Pattoki",
            "Islamabad",
            "Turbat",
            "Turbat",
            "Islamabad",
            "Bahawalnagar",
            "Karachi",
            "Multan",
            "Peshawar",
            "Rawalpindi"
           ],
           "xaxis": "x",
           "y": {
            "bdata": "CgVuBW4FbgX+Bv4Gog3eA6YEpgSmBG4FbgXSBTYG/gZuBf4GTAmYEvYi",
            "dtype": "i2"
           },
           "yaxis": "y"
          },
          {
           "hovertemplate": "category=HNS<br>order_month=1<br>city=%{x}<br>sales=%{y}<extra></extra>",
           "legendgroup": "HNS",
           "marker": {
            "color": "#ab63fa",
            "pattern": {
             "shape": ""
            }
           },
           "name": "HNS",
           "orientation": "v",
           "showlegend": true,
           "textposition": "auto",
           "type": "bar",
           "x": [
            "Karachi",
            "Karachi",
            "Karachi",
            "Karachi",
            "Karachi",
            "Karachi",
            "Karachi",
            "Karachi",
            "Karachi",
            "Karachi",
            "Karachi",
            "Karachi",
            "Karachi",
            "Karachi",
            "Karachi",
            "Karachi",
            "Karachi",
            "Karachi",
            "Karachi",
            "Karachi",
            "Lahore",
            "Lahore",
            "Lahore",
            "Lahore",
            "Lahore",
            "Lahore",
            "Lahore",
            "Lahore",
            "Lahore",
            "Lahore",
            "Peshawar",
            "Islamabad",
            "Sialkot",
            "Faisalabad",
            "Jhelum",
            "Khairpur",
            "Multan",
            "Hafizabad",
            "Hyderabad",
            "Hafizabad",
            "Wah Cantt",
            "Hyderabad",
            "Nawab Shah",
            "Islamabad",
            "Rawalpindi",
            "Lodhran",
            "Islamabad",
            "Gujranwala",
            "Hyderabad",
            "Islamabad",
            "Faisalabad",
            "Sialkot",
            "Gujranwala",
            "Hyderabad",
            "Wah Cantt",
            "Lahore",
            "Islamabad",
            "Lahore",
            "Islamabad",
            "Rawalpindi",
            "Sialkot",
            "Gujrat",
            "Faisalabad",
            "Lahore",
            "Faisalabad",
            "Ghotki"
           ],
           "xaxis": "x",
           "y": {
            "bdata": "pgRuBW4F0gXSBf4G/gb+Bv4GxgfGB8YHjgiOCB4KHgoeCh4Kdgw+DaYEpgRuBZoGmgaOCB4KHgpIDVAUbgVuBW4F0gXSBdIFmgb+Bv4G/gbGB44IjgiOCI4IjggeCh4KHgoeCigKSguuCz4N0gXSBZoGmgb+Bo4IXwkeCigKPg1IDRwl",
            "dtype": "i2"
           },
           "yaxis": "y"
          },
          {
           "hovertemplate": "category=Uncategorized<br>order_month=1<br>city=%{x}<br>sales=%{y}<extra></extra>",
           "legendgroup": "Uncategorized",
           "marker": {
            "color": "#FFA15A",
            "pattern": {
             "shape": ""
            }
           },
           "name": "Uncategorized",
           "orientation": "v",
           "showlegend": true,
           "textposition": "auto",
           "type": "bar",
           "x": [
            "Karachi",
            "Multan"
           ],
           "xaxis": "x",
           "y": {
            "bdata": "og2iDQ==",
            "dtype": "i2"
           },
           "yaxis": "y"
          }
         ],
         "name": "1"
        },
        {
         "data": [
          {
           "hovertemplate": "category=CK<br>order_month=2<br>city=%{x}<br>sales=%{y}<extra></extra>",
           "legendgroup": "CK",
           "marker": {
            "color": "#636efa",
            "pattern": {
             "shape": ""
            }
           },
           "name": "CK",
           "orientation": "v",
           "showlegend": true,
           "textposition": "auto",
           "type": "bar",
           "x": [
            "Karachi",
            "Karachi",
            "Karachi",
            "Karachi",
            "Karachi",
            "Karachi",
            "Karachi",
            "Karachi",
            "Karachi",
            "Karachi",
            "Karachi",
            "Karachi",
            "Karachi",
            "Karachi",
            "Karachi",
            "Karachi",
            "Karachi",
            "Karachi",
            "Karachi",
            "Karachi",
            "Karachi",
            "Karachi",
            "Karachi",
            "Karachi",
            "Karachi",
            "Karachi",
            "Karachi",
            "Karachi",
            "Lahore",
            "Lahore",
            "Lahore",
            "Lahore",
            "Lahore",
            "Lahore",
            "Lahore",
            "Lahore",
            "Lahore",
            "Lahore",
            "Lahore",
            "Lahore",
            "Lahore",
            "Lahore",
            "Lahore",
            "Lahore",
            "Lahore",
            "Sialkot",
            "Gujrat",
            "Mingora (swat)",
            "Islamabad",
            "Islamabad",
            "Faisalabad",
            "Islamabad",
            "Quetta",
            "Nowshera virkan",
            "Rawalpindi",
            "Quetta",
            "Charsadda",
            "Islamabad",
            "DAULAT PUR",
            "Peshawar",
            "Islamabad",
            "Hyderabad",
            "Mailsi",
            "Arifwala",
            "Shikarpur",
            "Rawalpindi",
            "Islamabad",
            "KAMBER ALI KHAN",
            "Kandhkot",
            "GILGIT",
            "Sukkur",
            "Faisalabad",
            "Gujranwala",
            "Khanpur",
            "Mardan",
            "Hyderabad",
            "Rawalpindi",
            "Sialkot",
            "Rawalpindi",
            "Kark",
            "Wah Cantt",
            "Sehwan",
            "Khairpur",
            "Gujranwala",
            "Depalpur",
            "Nowshera virkan",
            "Tando Adam",
            "Islamabad",
            "Dera ala yar",
            "Quetta",
            "Batkhela",
            "Retra",
            "Okara",
            "Zaida",
            "Islamabad",
            "Islamabad",
            "Rawalpindi",
            "ABDUL HAKIM",
            "ABDUL HAKIM",
            "Karachi",
            "Batkhela",
            "Batkhela Distt Malakand",
            "Karachi",
            "Sukkur",
            "Rawalpindi",
            "Islamabad",
            "Karachi",
            "Toba Tek Sing",
            "Lahore"
           ],
           "xaxis": "x",
           "y": {
            "bdata": "3gPeA0IEQgRCBKYEpgSmBKYEpgQKBQoFCgXSBdIF0gXSBTYGNgY2BjYGNgY2BjYGNgaOCI4IjggKBdIF0gXSBdIF0gXSBTYGNgY2BjYG/gZiB2IHYgeOCOAVgwPeA94D3gPeA94DpgSmBKYEpgQKBQoFCgUKBQoFCgVuBW4FbgVuBdIF0gXSBdIF0gXSBdIF0gXSBTYGNgY2BjYGNgY2BjYGNgY2BjYGNgY2BjYGNgY2BjYG3AqDA4MDgwOmBKYECgXSBdIFNgY2BjYGNgY2Bo4I0gU2BrwH5go=",
            "dtype": "i2"
           },
           "yaxis": "y"
          },
          {
           "hovertemplate": "category=WD<br>order_month=2<br>city=%{x}<br>sales=%{y}<extra></extra>",
           "legendgroup": "WD",
           "marker": {
            "color": "#00cc96",
            "pattern": {
             "shape": ""
            }
           },
           "name": "WD",
           "orientation": "v",
           "showlegend": true,
           "textposition": "auto",
           "type": "bar",
           "x": [
            "Karachi",
            "Karachi",
            "Karachi",
            "Karachi",
            "Lahore",
            "Lahore",
            "Lahore",
            "Gujrat",
            "Rawalpindi",
            "Gujrat",
            "Multan",
            "Chicha Watni",
            "Rawalpindi"
           ],
           "xaxis": "x",
           "y": {
            "bdata": "pgRuBdIFNgbeAwoF0gVCBJwEpgRuBf4G8g0=",
            "dtype": "i2"
           },
           "yaxis": "y"
          },
          {
           "hovertemplate": "category=HNS<br>order_month=2<br>city=%{x}<br>sales=%{y}<extra></extra>",
           "legendgroup": "HNS",
           "marker": {
            "color": "#ab63fa",
            "pattern": {
             "shape": ""
            }
           },
           "name": "HNS",
           "orientation": "v",
           "showlegend": true,
           "textposition": "auto",
           "type": "bar",
           "x": [
            "Karachi",
            "Karachi",
            "Karachi",
            "Karachi",
            "Karachi",
            "Karachi",
            "Karachi",
            "Karachi",
            "Karachi",
            "Karachi",
            "Lahore",
            "Lahore",
            "Lahore",
            "Lahore",
            "Lahore",
            "Lahore",
            "Rawalpindi",
            "Rawalpindi",
            "Sargodha",
            "Sialkot",
            "Hyderabad",
            "Faisalabad",
            "Islamabad",
            "Kamoki",
            "Faisalabad",
            "Islamabad",
            "Rawalpindi",
            "Khanewal",
            "Faisalabad",
            "Multan",
            "Sialkot",
            "Bahawalpur",
            "Rawalpindi",
            "Multan",
            "Hyderabad",
            "Karachi",
            "Lahore"
           ],
           "xaxis": "x",
           "y": {
            "bdata": "pgRuBcYHxgeOCB4KHgoeCh4KSgtuBW4FmgaaBsYHHgqmBKYEbgVuBW4FbgXSBdIF0gX+Bo4IjgiOCB4KHgo+DT4Npg6mBEoLvCA=",
            "dtype": "i2"
           },
           "yaxis": "y"
          },
          {
           "hovertemplate": "category=Uncategorized<br>order_month=2<br>city=%{x}<br>sales=%{y}<extra></extra>",
           "legendgroup": "Uncategorized",
           "marker": {
            "color": "#FFA15A",
            "pattern": {
             "shape": ""
            }
           },
           "name": "Uncategorized",
           "orientation": "v",
           "showlegend": true,
           "textposition": "auto",
           "type": "bar",
           "x": [
            "Rahim yar khan",
            "Karachi",
            "Rawalpindi"
           ],
           "xaxis": "x",
           "y": {
            "bdata": "5AyiDU4b",
            "dtype": "i2"
           },
           "yaxis": "y"
          }
         ],
         "name": "2"
        },
        {
         "data": [
          {
           "hovertemplate": "category=CK<br>order_month=3<br>city=%{x}<br>sales=%{y}<extra></extra>",
           "legendgroup": "CK",
           "marker": {
            "color": "#636efa",
            "pattern": {
             "shape": ""
            }
           },
           "name": "CK",
           "orientation": "v",
           "showlegend": true,
           "textposition": "auto",
           "type": "bar",
           "x": [
            "Karachi",
            "Lahore",
            "Burewala"
           ],
           "xaxis": "x",
           "y": {
            "bdata": "/gY2BkIE",
            "dtype": "i2"
           },
           "yaxis": "y"
          },
          {
           "hovertemplate": "category=GfT<br>order_month=3<br>city=%{x}<br>sales=%{y}<extra></extra>",
           "legendgroup": "GfT",
           "marker": {
            "color": "#EF553B",
            "pattern": {
             "shape": ""
            }
           },
           "name": "GfT",
           "orientation": "v",
           "showlegend": true,
           "textposition": "auto",
           "type": "bar",
           "x": [
            "Karachi",
            "Karachi",
            "Lahore",
            "Lahore",
            "Lahore",
            "Lahore",
            "Lahore",
            "Lahore",
            "Lahore",
            "Gujranwala",
            "Sialkot",
            "Islamabad",
            "Bahawalpur",
            "Rahim yar khan",
            "Mardan",
            "bannu",
            "Rawalpindi",
            "Multan",
            "Dera Ghazi Khan",
            "Gujranwala",
            "Rahim yar khan",
            "Faisalabad",
            "Lahore",
            "Peshawar",
            "Rawalpindi",
            "Karachi",
            "Karachi",
            "Karachi",
            "Kamoki",
            "Hyderabad",
            "Gujranwala",
            "Lodhran",
            "Karachi"
           ],
           "xaxis": "x",
           "y": {
            "bdata": "5wOOCOcD5wOmBK8ErwTWBo4I5wPnA+cD5wPnA+cD5wPnA+cDjgj6D/oP5wPnA+cDrwTnA+cD5wOmBK8EjgiKEaYE",
            "dtype": "i2"
           },
           "yaxis": "y"
          },
          {
           "hovertemplate": "category=WD<br>order_month=3<br>city=%{x}<br>sales=%{y}<extra></extra>",
           "legendgroup": "WD",
           "marker": {
            "color": "#00cc96",
            "pattern": {
             "shape": ""
            }
           },
           "name": "WD",
           "orientation": "v",
           "showlegend": true,
           "textposition": "auto",
           "type": "bar",
           "x": [
            "Karachi"
           ],
           "xaxis": "x",
           "y": {
            "bdata": "QgQ=",
            "dtype": "i2"
           },
           "yaxis": "y"
          },
          {
           "hovertemplate": "category=HNS<br>order_month=3<br>city=%{x}<br>sales=%{y}<extra></extra>",
           "legendgroup": "HNS",
           "marker": {
            "color": "#ab63fa",
            "pattern": {
             "shape": ""
            }
           },
           "name": "HNS",
           "orientation": "v",
           "showlegend": true,
           "textposition": "auto",
           "type": "bar",
           "x": [
            "Karachi",
            "Karachi",
            "Karachi",
            "Karachi",
            "Karachi",
            "Lahore",
            "Lahore",
            "Lahore",
            "Sahiwal",
            "Sialkot",
            "Faisalabad",
            "Islamabad",
            "Islamabad",
            "Sialkot",
            "Islamabad",
            "Khanewal",
            "Multan",
            "Rawalpindi",
            "Islamabad",
            "Lahore",
            "Sialkot",
            "kot addu",
            "Multan",
            "Karachi",
            "Faisalabad",
            "Karachi",
            "Lahore"
           ],
           "xaxis": "x",
           "y": {
            "bdata": "pgSmBG4FjgiCCqYExgdKC6YE0gXSBZoG/gb+Bv4GxgceCkoLPg1uBdIF/gaOCI4IHgr8DXwu",
            "dtype": "i2"
           },
           "yaxis": "y"
          }
         ],
         "name": "3"
        },
        {
         "data": [
          {
           "hovertemplate": "category=CK<br>order_month=5<br>city=%{x}<br>sales=%{y}<extra></extra>",
           "legendgroup": "CK",
           "marker": {
            "color": "#636efa",
            "pattern": {
             "shape": ""
            }
           },
           "name": "CK",
           "orientation": "v",
           "showlegend": true,
           "textposition": "auto",
           "type": "bar",
           "x": [
            "Karachi"
           ],
           "xaxis": "x",
           "y": {
            "bdata": "QgQ=",
            "dtype": "i2"
           },
           "yaxis": "y"
          },
          {
           "hovertemplate": "category=HNS<br>order_month=5<br>city=%{x}<br>sales=%{y}<extra></extra>",
           "legendgroup": "HNS",
           "marker": {
            "color": "#ab63fa",
            "pattern": {
             "shape": ""
            }
           },
           "name": "HNS",
           "orientation": "v",
           "showlegend": true,
           "textposition": "auto",
           "type": "bar",
           "x": [
            "Karachi",
            "Karachi",
            "Karachi",
            "Karachi",
            "Karachi",
            "Karachi",
            "Karachi",
            "Karachi",
            "Karachi",
            "Karachi",
            "Karachi",
            "Karachi",
            "Karachi",
            "Karachi",
            "Karachi",
            "Karachi",
            "Karachi",
            "Karachi",
            "Karachi",
            "Karachi",
            "Karachi",
            "Karachi",
            "Karachi",
            "Karachi",
            "Karachi",
            "Karachi",
            "Karachi",
            "Karachi",
            "Karachi",
            "Karachi",
            "Karachi",
            "Lahore",
            "Lahore",
            "Lahore",
            "Lahore",
            "Lahore",
            "Lahore",
            "Lahore",
            "Lahore",
            "Lahore",
            "Lahore",
            "Lahore",
            "Lahore",
            "Lahore",
            "Lahore",
            "Lahore",
            "Lahore",
            "Lahore",
            "Lahore",
            "Lahore",
            "Lahore",
            "Lahore",
            "Jhelum",
            "Islamabad",
            "Quetta",
            "Sialkot",
            "Sahiwal",
            "Islamabad",
            "Islamabad",
            "Islamabad",
            "Islamabad",
            "Sialkot",
            "Faisalabad",
            "Rawalpindi",
            "Mansehra",
            "Islamabad",
            "Sialkot",
            "Sahiwal",
            "DARGAI",
            "Islamabad",
            "Khanpur",
            "Islamabad",
            "Peshawar",
            "Abbottabad",
            "Gujranwala",
            "Abbottabad",
            "Islamabad",
            "RENALAKHURD",
            "Islamabad",
            "Wah Cantt",
            "Peshawar",
            "Chicha Watni",
            "Dera Ismail Khan",
            "Lahore",
            "Lahore",
            "Lahore",
            "Mingora (swat)",
            "Islamabad",
            "Mingora (swat)",
            "Islamabad",
            "Lahore",
            "Gujranwala",
            "Gujranwala",
            "Gujranwala",
            "Islamabad",
            "Islamabad",
            "Lahore",
            "Abbottabad",
            "Lahore",
            "Islamabad",
            "Karachi",
            "Lahore",
            "Karachi"
           ],
           "xaxis": "x",
           "y": {
            "bdata": "pgSmBKYEpgSmBG4FbgVuBdIF0gXSBdIFmgaaBv4G/gb+Bv4GxgeOCI4IHgoeCh4KHgoeCh4KSgs+DT4NPg1uBW4F0gXSBZoGmgb+BsYHjgi6CR4KHgoeCh4KSgtKCz4NPg0+DWoOqBamBKYEbgXSBdIFmgaaBpoGmgb+Bv4G/gb+Bv4G/gb+Bh4KHgoeCh4KHgpKC0oLSgtKCxIMPg0+DT4NPg0+DW4F0gXSBdIF0gX+Bv4GxgeOCI4IHgoeCkoLSgtKCxIMSgs+DT4NfBo=",
            "dtype": "i2"
           },
           "yaxis": "y"
          }
         ],
         "name": "5"
        },
        {
         "data": [
          {
           "hovertemplate": "category=CK<br>order_month=4<br>city=%{x}<br>sales=%{y}<extra></extra>",
           "legendgroup": "CK",
           "marker": {
            "color": "#636efa",
            "pattern": {
             "shape": ""
            }
           },
           "name": "CK",
           "orientation": "v",
           "showlegend": true,
           "textposition": "auto",
           "type": "bar",
           "x": [
            "Karachi",
            "Karachi",
            "Karachi",
            "Karachi",
            "Karachi",
            "Karachi",
            "Karachi",
            "Lahore",
            "Lahore",
            "Lahore",
            "Lahore",
            "Lahore",
            "Lahore",
            "Lahore",
            "Lahore",
            "Lahore",
            "Islamabad",
            "Rawalpindi",
            "Kark",
            "Sahiwal",
            "Islamabad",
            "ABDUL HAKIM",
            "Islamabad",
            "Jampur",
            "SANGHAR",
            "Dera ala yar",
            "Islamabad",
            "Karachi",
            "Lahore",
            "Karachi",
            "Karachi",
            "Lahore",
            "Lahore",
            "Karachi",
            "Bahawalnagar",
            "Nowshera"
           ],
           "xaxis": "x",
           "y": {
            "bdata": "pgQKBW4FNgY2BjYGNgZCBEIEpgQKBdIF0gXSBTYGYgfeA94D3gOmBG4F0gU2BjYGNgY2Bt4DQgSmBAoF0gXSBTYGNgaOCHgP",
            "dtype": "i2"
           },
           "yaxis": "y"
          },
          {
           "hovertemplate": "category=HNS<br>order_month=4<br>city=%{x}<br>sales=%{y}<extra></extra>",
           "legendgroup": "HNS",
           "marker": {
            "color": "#ab63fa",
            "pattern": {
             "shape": ""
            }
           },
           "name": "HNS",
           "orientation": "v",
           "showlegend": true,
           "textposition": "auto",
           "type": "bar",
           "x": [
            "Karachi",
            "Karachi",
            "Karachi",
            "Karachi",
            "Karachi",
            "Karachi",
            "Karachi",
            "Karachi",
            "Karachi",
            "Karachi",
            "Karachi",
            "Karachi",
            "Karachi",
            "Karachi",
            "Karachi",
            "Karachi",
            "Karachi",
            "Karachi",
            "Karachi",
            "Karachi",
            "Karachi",
            "Karachi",
            "Karachi",
            "Karachi",
            "Karachi",
            "Karachi",
            "Karachi",
            "Karachi",
            "Karachi",
            "Karachi",
            "Karachi",
            "Karachi",
            "Karachi",
            "Karachi",
            "Karachi",
            "Karachi",
            "Karachi",
            "Karachi",
            "Karachi",
            "Karachi",
            "Karachi",
            "Karachi",
            "Lahore",
            "Lahore",
            "Lahore",
            "Lahore",
            "Lahore",
            "Lahore",
            "Lahore",
            "Lahore",
            "Lahore",
            "Lahore",
            "Lahore",
            "Lahore",
            "Lahore",
            "Lahore",
            "Lahore",
            "Lahore",
            "Lahore",
            "Lahore",
            "Lahore",
            "Lahore",
            "Lahore",
            "Lahore",
            "Lahore",
            "Lahore",
            "Lahore",
            "Lahore",
            "Lahore",
            "Lahore",
            "Lahore",
            "Lahore",
            "Sialkot",
            "Islamabad",
            "Islamabad",
            "Rawalpindi",
            "Multan",
            "Islamabad",
            "Kharian",
            "Islamabad",
            "Islamabad",
            "Faisalabad",
            "Islamabad",
            "Peshawar",
            "Islamabad",
            "Islamabad",
            "Islamabad",
            "Peshawar",
            "Rawalpindi",
            "Rawalpindi",
            "Hyderabad",
            "Peshawar",
            "Rawalpindi",
            "Multan",
            "Abbottabad",
            "Vehari",
            "Islamabad",
            "Rawalpindi",
            "Sialkot",
            "Faisalabad",
            "Islamabad",
            "Hyderabad",
            "Multan",
            "Liaqatpur",
            "Multan",
            "GILGIT",
            "RENALAKHURD",
            "Islamabad",
            "Islamabad",
            "Karachi",
            "Islamabad",
            "Islamabad",
            "Quetta",
            "Karachi",
            "Lahore",
            "Rawalpindi",
            "Karachi",
            "Taxila",
            "Bahawalpur",
            "Lahore",
            "Karachi",
            "Islamabad",
            "Sialkot",
            "Rawalpindi",
            "Pakpattan",
            "Dera Ghazi Khan",
            "Karachi",
            "Lahore",
            "Ghotki"
           ],
           "xaxis": "x",
           "y": {
            "bdata": "pgSmBKYEbgVuBW4FbgV4BdIF0gXSBdIF0gWaBpoGmgb+Bv4G/gb+Bv4G/gb+BsYHxgfGB44IjgiOCI4IHgoeCh4KHgoeCh4KHgoeCkoLSgs+DT4N6AOmBKYE0gXSBdIFmgb+Bo4IjgiOCI4IjgiOCPIIHgoeCh4KHgoeCh4KHgoeCkoLPg0+DT4NPg0+DfAjpgRuBdIF0gXSBdIF0gXSBZoGmgb+Bv4G/gb+Bv4GjgiOCI4IjggeCh4KHgoeCh4KHgoeCh4KggpKC0oLPg0+DT4NPg0+DT4NaBDSBdIF0gXSBf4G0AceCh4KHgoeCkoLSgtKC0oLSgs+DT4N0gWOCLw0",
            "dtype": "i2"
           },
           "yaxis": "y"
          }
         ],
         "name": "4"
        },
        {
         "data": [
          {
           "hovertemplate": "category=WD<br>order_month=6<br>city=%{x}<br>sales=%{y}<extra></extra>",
           "legendgroup": "WD",
           "marker": {
            "color": "#00cc96",
            "pattern": {
             "shape": ""
            }
           },
           "name": "WD",
           "orientation": "v",
           "showlegend": true,
           "textposition": "auto",
           "type": "bar",
           "x": [
            "Mianwali"
           ],
           "xaxis": "x",
           "y": {
            "bdata": "pgQ=",
            "dtype": "i2"
           },
           "yaxis": "y"
          },
          {
           "hovertemplate": "category=HNS<br>order_month=6<br>city=%{x}<br>sales=%{y}<extra></extra>",
           "legendgroup": "HNS",
           "marker": {
            "color": "#ab63fa",
            "pattern": {
             "shape": ""
            }
           },
           "name": "HNS",
           "orientation": "v",
           "showlegend": true,
           "textposition": "auto",
           "type": "bar",
           "x": [
            "Karachi",
            "Karachi",
            "Karachi",
            "Karachi",
            "Lahore",
            "Lahore",
            "Lahore",
            "Lahore",
            "Lahore",
            "Lahore",
            "Bahawalpur",
            "Rawalpindi",
            "Faisalabad",
            "Islamabad",
            "Faisalabad",
            "Faisalabad",
            "Bahawalpur",
            "Bahawalpur",
            "Sialkot",
            "Islamabad",
            "Faisalabad",
            "Karachi",
            "Karachi",
            "Islamabad",
            "Hyderabad",
            "Multan",
            "Mianwali",
            "Okara",
            "Karachi"
           ],
           "xaxis": "x",
           "y": {
            "bdata": "CgX+BmIHag4KBVYJugl2DGoOLhimBAoFYgdiB2IHugm6CR4KHgrmCi4YpgSmBOYKYgdiB1YJdgxqDg==",
            "dtype": "i2"
           },
           "yaxis": "y"
          }
         ],
         "name": "6"
        }
       ],
       "layout": {
        "barmode": "relative",
        "legend": {
         "title": {
          "text": "category"
         },
         "tracegroupgap": 0
        },
        "sliders": [
         {
          "active": 0,
          "currentvalue": {
           "prefix": "order_month="
          },
          "len": 0.9,
          "pad": {
           "b": 10,
           "t": 60
          },
          "steps": [
           {
            "args": [
             [
              "1"
             ],
             {
              "frame": {
               "duration": 0,
               "redraw": true
              },
              "fromcurrent": true,
              "mode": "immediate",
              "transition": {
               "duration": 0,
               "easing": "linear"
              }
             }
            ],
            "label": "1",
            "method": "animate"
           },
           {
            "args": [
             [
              "2"
             ],
             {
              "frame": {
               "duration": 0,
               "redraw": true
              },
              "fromcurrent": true,
              "mode": "immediate",
              "transition": {
               "duration": 0,
               "easing": "linear"
              }
             }
            ],
            "label": "2",
            "method": "animate"
           },
           {
            "args": [
             [
              "3"
             ],
             {
              "frame": {
               "duration": 0,
               "redraw": true
              },
              "fromcurrent": true,
              "mode": "immediate",
              "transition": {
               "duration": 0,
               "easing": "linear"
              }
             }
            ],
            "label": "3",
            "method": "animate"
           },
           {
            "args": [
             [
              "5"
             ],
             {
              "frame": {
               "duration": 0,
               "redraw": true
              },
              "fromcurrent": true,
              "mode": "immediate",
              "transition": {
               "duration": 0,
               "easing": "linear"
              }
             }
            ],
            "label": "5",
            "method": "animate"
           },
           {
            "args": [
             [
              "4"
             ],
             {
              "frame": {
               "duration": 0,
               "redraw": true
              },
              "fromcurrent": true,
              "mode": "immediate",
              "transition": {
               "duration": 0,
               "easing": "linear"
              }
             }
            ],
            "label": "4",
            "method": "animate"
           },
           {
            "args": [
             [
              "6"
             ],
             {
              "frame": {
               "duration": 0,
               "redraw": true
              },
              "fromcurrent": true,
              "mode": "immediate",
              "transition": {
               "duration": 0,
               "easing": "linear"
              }
             }
            ],
            "label": "6",
            "method": "animate"
           }
          ],
          "x": 0.1,
          "xanchor": "left",
          "y": 0,
          "yanchor": "top"
         }
        ],
        "template": {
         "data": {
          "bar": [
           {
            "error_x": {
             "color": "#2a3f5f"
            },
            "error_y": {
             "color": "#2a3f5f"
            },
            "marker": {
             "line": {
              "color": "#E5ECF6",
              "width": 0.5
             },
             "pattern": {
              "fillmode": "overlay",
              "size": 10,
              "solidity": 0.2
             }
            },
            "type": "bar"
           }
          ],
          "barpolar": [
           {
            "marker": {
             "line": {
              "color": "#E5ECF6",
              "width": 0.5
             },
             "pattern": {
              "fillmode": "overlay",
              "size": 10,
              "solidity": 0.2
             }
            },
            "type": "barpolar"
           }
          ],
          "carpet": [
           {
            "aaxis": {
             "endlinecolor": "#2a3f5f",
             "gridcolor": "white",
             "linecolor": "white",
             "minorgridcolor": "white",
             "startlinecolor": "#2a3f5f"
            },
            "baxis": {
             "endlinecolor": "#2a3f5f",
             "gridcolor": "white",
             "linecolor": "white",
             "minorgridcolor": "white",
             "startlinecolor": "#2a3f5f"
            },
            "type": "carpet"
           }
          ],
          "choropleth": [
           {
            "colorbar": {
             "outlinewidth": 0,
             "ticks": ""
            },
            "type": "choropleth"
           }
          ],
          "contour": [
           {
            "colorbar": {
             "outlinewidth": 0,
             "ticks": ""
            },
            "colorscale": [
             [
              0,
              "#0d0887"
             ],
             [
              0.1111111111111111,
              "#46039f"
             ],
             [
              0.2222222222222222,
              "#7201a8"
             ],
             [
              0.3333333333333333,
              "#9c179e"
             ],
             [
              0.4444444444444444,
              "#bd3786"
             ],
             [
              0.5555555555555556,
              "#d8576b"
             ],
             [
              0.6666666666666666,
              "#ed7953"
             ],
             [
              0.7777777777777778,
              "#fb9f3a"
             ],
             [
              0.8888888888888888,
              "#fdca26"
             ],
             [
              1,
              "#f0f921"
             ]
            ],
            "type": "contour"
           }
          ],
          "contourcarpet": [
           {
            "colorbar": {
             "outlinewidth": 0,
             "ticks": ""
            },
            "type": "contourcarpet"
           }
          ],
          "heatmap": [
           {
            "colorbar": {
             "outlinewidth": 0,
             "ticks": ""
            },
            "colorscale": [
             [
              0,
              "#0d0887"
             ],
             [
              0.1111111111111111,
              "#46039f"
             ],
             [
              0.2222222222222222,
              "#7201a8"
             ],
             [
              0.3333333333333333,
              "#9c179e"
             ],
             [
              0.4444444444444444,
              "#bd3786"
             ],
             [
              0.5555555555555556,
              "#d8576b"
             ],
             [
              0.6666666666666666,
              "#ed7953"
             ],
             [
              0.7777777777777778,
              "#fb9f3a"
             ],
             [
              0.8888888888888888,
              "#fdca26"
             ],
             [
              1,
              "#f0f921"
             ]
            ],
            "type": "heatmap"
           }
          ],
          "histogram": [
           {
            "marker": {
             "pattern": {
              "fillmode": "overlay",
              "size": 10,
              "solidity": 0.2
             }
            },
            "type": "histogram"
           }
          ],
          "histogram2d": [
           {
            "colorbar": {
             "outlinewidth": 0,
             "ticks": ""
            },
            "colorscale": [
             [
              0,
              "#0d0887"
             ],
             [
              0.1111111111111111,
              "#46039f"
             ],
             [
              0.2222222222222222,
              "#7201a8"
             ],
             [
              0.3333333333333333,
              "#9c179e"
             ],
             [
              0.4444444444444444,
              "#bd3786"
             ],
             [
              0.5555555555555556,
              "#d8576b"
             ],
             [
              0.6666666666666666,
              "#ed7953"
             ],
             [
              0.7777777777777778,
              "#fb9f3a"
             ],
             [
              0.8888888888888888,
              "#fdca26"
             ],
             [
              1,
              "#f0f921"
             ]
            ],
            "type": "histogram2d"
           }
          ],
          "histogram2dcontour": [
           {
            "colorbar": {
             "outlinewidth": 0,
             "ticks": ""
            },
            "colorscale": [
             [
              0,
              "#0d0887"
             ],
             [
              0.1111111111111111,
              "#46039f"
             ],
             [
              0.2222222222222222,
              "#7201a8"
             ],
             [
              0.3333333333333333,
              "#9c179e"
             ],
             [
              0.4444444444444444,
              "#bd3786"
             ],
             [
              0.5555555555555556,
              "#d8576b"
             ],
             [
              0.6666666666666666,
              "#ed7953"
             ],
             [
              0.7777777777777778,
              "#fb9f3a"
             ],
             [
              0.8888888888888888,
              "#fdca26"
             ],
             [
              1,
              "#f0f921"
             ]
            ],
            "type": "histogram2dcontour"
           }
          ],
          "mesh3d": [
           {
            "colorbar": {
             "outlinewidth": 0,
             "ticks": ""
            },
            "type": "mesh3d"
           }
          ],
          "parcoords": [
           {
            "line": {
             "colorbar": {
              "outlinewidth": 0,
              "ticks": ""
             }
            },
            "type": "parcoords"
           }
          ],
          "pie": [
           {
            "automargin": true,
            "type": "pie"
           }
          ],
          "scatter": [
           {
            "fillpattern": {
             "fillmode": "overlay",
             "size": 10,
             "solidity": 0.2
            },
            "type": "scatter"
           }
          ],
          "scatter3d": [
           {
            "line": {
             "colorbar": {
              "outlinewidth": 0,
              "ticks": ""
             }
            },
            "marker": {
             "colorbar": {
              "outlinewidth": 0,
              "ticks": ""
             }
            },
            "type": "scatter3d"
           }
          ],
          "scattercarpet": [
           {
            "marker": {
             "colorbar": {
              "outlinewidth": 0,
              "ticks": ""
             }
            },
            "type": "scattercarpet"
           }
          ],
          "scattergeo": [
           {
            "marker": {
             "colorbar": {
              "outlinewidth": 0,
              "ticks": ""
             }
            },
            "type": "scattergeo"
           }
          ],
          "scattergl": [
           {
            "marker": {
             "colorbar": {
              "outlinewidth": 0,
              "ticks": ""
             }
            },
            "type": "scattergl"
           }
          ],
          "scattermap": [
           {
            "marker": {
             "colorbar": {
              "outlinewidth": 0,
              "ticks": ""
             }
            },
            "type": "scattermap"
           }
          ],
          "scattermapbox": [
           {
            "marker": {
             "colorbar": {
              "outlinewidth": 0,
              "ticks": ""
             }
            },
            "type": "scattermapbox"
           }
          ],
          "scatterpolar": [
           {
            "marker": {
             "colorbar": {
              "outlinewidth": 0,
              "ticks": ""
             }
            },
            "type": "scatterpolar"
           }
          ],
          "scatterpolargl": [
           {
            "marker": {
             "colorbar": {
              "outlinewidth": 0,
              "ticks": ""
             }
            },
            "type": "scatterpolargl"
           }
          ],
          "scatterternary": [
           {
            "marker": {
             "colorbar": {
              "outlinewidth": 0,
              "ticks": ""
             }
            },
            "type": "scatterternary"
           }
          ],
          "surface": [
           {
            "colorbar": {
             "outlinewidth": 0,
             "ticks": ""
            },
            "colorscale": [
             [
              0,
              "#0d0887"
             ],
             [
              0.1111111111111111,
              "#46039f"
             ],
             [
              0.2222222222222222,
              "#7201a8"
             ],
             [
              0.3333333333333333,
              "#9c179e"
             ],
             [
              0.4444444444444444,
              "#bd3786"
             ],
             [
              0.5555555555555556,
              "#d8576b"
             ],
             [
              0.6666666666666666,
              "#ed7953"
             ],
             [
              0.7777777777777778,
              "#fb9f3a"
             ],
             [
              0.8888888888888888,
              "#fdca26"
             ],
             [
              1,
              "#f0f921"
             ]
            ],
            "type": "surface"
           }
          ],
          "table": [
           {
            "cells": {
             "fill": {
              "color": "#EBF0F8"
             },
             "line": {
              "color": "white"
             }
            },
            "header": {
             "fill": {
              "color": "#C8D4E3"
             },
             "line": {
              "color": "white"
             }
            },
            "type": "table"
           }
          ]
         },
         "layout": {
          "annotationdefaults": {
           "arrowcolor": "#2a3f5f",
           "arrowhead": 0,
           "arrowwidth": 1
          },
          "autotypenumbers": "strict",
          "coloraxis": {
           "colorbar": {
            "outlinewidth": 0,
            "ticks": ""
           }
          },
          "colorscale": {
           "diverging": [
            [
             0,
             "#8e0152"
            ],
            [
             0.1,
             "#c51b7d"
            ],
            [
             0.2,
             "#de77ae"
            ],
            [
             0.3,
             "#f1b6da"
            ],
            [
             0.4,
             "#fde0ef"
            ],
            [
             0.5,
             "#f7f7f7"
            ],
            [
             0.6,
             "#e6f5d0"
            ],
            [
             0.7,
             "#b8e186"
            ],
            [
             0.8,
             "#7fbc41"
            ],
            [
             0.9,
             "#4d9221"
            ],
            [
             1,
             "#276419"
            ]
           ],
           "sequential": [
            [
             0,
             "#0d0887"
            ],
            [
             0.1111111111111111,
             "#46039f"
            ],
            [
             0.2222222222222222,
             "#7201a8"
            ],
            [
             0.3333333333333333,
             "#9c179e"
            ],
            [
             0.4444444444444444,
             "#bd3786"
            ],
            [
             0.5555555555555556,
             "#d8576b"
            ],
            [
             0.6666666666666666,
             "#ed7953"
            ],
            [
             0.7777777777777778,
             "#fb9f3a"
            ],
            [
             0.8888888888888888,
             "#fdca26"
            ],
            [
             1,
             "#f0f921"
            ]
           ],
           "sequentialminus": [
            [
             0,
             "#0d0887"
            ],
            [
             0.1111111111111111,
             "#46039f"
            ],
            [
             0.2222222222222222,
             "#7201a8"
            ],
            [
             0.3333333333333333,
             "#9c179e"
            ],
            [
             0.4444444444444444,
             "#bd3786"
            ],
            [
             0.5555555555555556,
             "#d8576b"
            ],
            [
             0.6666666666666666,
             "#ed7953"
            ],
            [
             0.7777777777777778,
             "#fb9f3a"
            ],
            [
             0.8888888888888888,
             "#fdca26"
            ],
            [
             1,
             "#f0f921"
            ]
           ]
          },
          "colorway": [
           "#636efa",
           "#EF553B",
           "#00cc96",
           "#ab63fa",
           "#FFA15A",
           "#19d3f3",
           "#FF6692",
           "#B6E880",
           "#FF97FF",
           "#FECB52"
          ],
          "font": {
           "color": "#2a3f5f"
          },
          "geo": {
           "bgcolor": "white",
           "lakecolor": "white",
           "landcolor": "#E5ECF6",
           "showlakes": true,
           "showland": true,
           "subunitcolor": "white"
          },
          "hoverlabel": {
           "align": "left"
          },
          "hovermode": "closest",
          "mapbox": {
           "style": "light"
          },
          "paper_bgcolor": "white",
          "plot_bgcolor": "#E5ECF6",
          "polar": {
           "angularaxis": {
            "gridcolor": "white",
            "linecolor": "white",
            "ticks": ""
           },
           "bgcolor": "#E5ECF6",
           "radialaxis": {
            "gridcolor": "white",
            "linecolor": "white",
            "ticks": ""
           }
          },
          "scene": {
           "xaxis": {
            "backgroundcolor": "#E5ECF6",
            "gridcolor": "white",
            "gridwidth": 2,
            "linecolor": "white",
            "showbackground": true,
            "ticks": "",
            "zerolinecolor": "white"
           },
           "yaxis": {
            "backgroundcolor": "#E5ECF6",
            "gridcolor": "white",
            "gridwidth": 2,
            "linecolor": "white",
            "showbackground": true,
            "ticks": "",
            "zerolinecolor": "white"
           },
           "zaxis": {
            "backgroundcolor": "#E5ECF6",
            "gridcolor": "white",
            "gridwidth": 2,
            "linecolor": "white",
            "showbackground": true,
            "ticks": "",
            "zerolinecolor": "white"
           }
          },
          "shapedefaults": {
           "line": {
            "color": "#2a3f5f"
           }
          },
          "ternary": {
           "aaxis": {
            "gridcolor": "white",
            "linecolor": "white",
            "ticks": ""
           },
           "baxis": {
            "gridcolor": "white",
            "linecolor": "white",
            "ticks": ""
           },
           "bgcolor": "#E5ECF6",
           "caxis": {
            "gridcolor": "white",
            "linecolor": "white",
            "ticks": ""
           }
          },
          "title": {
           "x": 0.05
          },
          "xaxis": {
           "automargin": true,
           "gridcolor": "white",
           "linecolor": "white",
           "ticks": "",
           "title": {
            "standoff": 15
           },
           "zerolinecolor": "white",
           "zerolinewidth": 2
          },
          "yaxis": {
           "automargin": true,
           "gridcolor": "white",
           "linecolor": "white",
           "ticks": "",
           "title": {
            "standoff": 15
           },
           "zerolinecolor": "white",
           "zerolinewidth": 2
          }
         }
        },
        "title": {
         "text": "Monthly City Sales by Category"
        },
        "updatemenus": [
         {
          "buttons": [
           {
            "args": [
             null,
             {
              "frame": {
               "duration": 500,
               "redraw": true
              },
              "fromcurrent": true,
              "mode": "immediate",
              "transition": {
               "duration": 500,
               "easing": "linear"
              }
             }
            ],
            "label": "&#9654;",
            "method": "animate"
           },
           {
            "args": [
             [
              null
             ],
             {
              "frame": {
               "duration": 0,
               "redraw": true
              },
              "fromcurrent": true,
              "mode": "immediate",
              "transition": {
               "duration": 0,
               "easing": "linear"
              }
             }
            ],
            "label": "&#9724;",
            "method": "animate"
           }
          ],
          "direction": "left",
          "pad": {
           "r": 10,
           "t": 70
          },
          "showactive": false,
          "type": "buttons",
          "x": 0.1,
          "xanchor": "right",
          "y": 0,
          "yanchor": "top"
         }
        ],
        "xaxis": {
         "anchor": "y",
         "domain": [
          0,
          1
         ],
         "title": {
          "text": "city"
         }
        },
        "yaxis": {
         "anchor": "x",
         "domain": [
          0,
          1
         ],
         "title": {
          "text": "sales"
         }
        }
       }
      }
     },
     "metadata": {},
     "output_type": "display_data"
    }
   ],
   "source": [
    "fig = px.bar(df, x=\"city\", y=\"sales\", color=\"category\", animation_frame=\"order_month\",\n",
    "             title=\"Monthly City Sales by Category\")\n",
    "fig.show()\n"
   ]
  },
  {
   "cell_type": "code",
   "execution_count": 71,
   "id": "9e22a238",
   "metadata": {},
   "outputs": [
    {
     "data": {
      "application/vnd.plotly.v1+json": {
       "config": {
        "plotlyServerURL": "https://plot.ly"
       },
       "data": [
        {
         "branchvalues": "total",
         "domain": {
          "x": [
           0,
           1
          ],
          "y": [
           0,
           1
          ]
         },
         "hovertemplate": "labels=%{label}<br>sales=%{value}<br>parent=%{parent}<br>id=%{id}<extra></extra>",
         "ids": [
          "Whatsapp/Shipped/CK",
          "Web/Shipped/CK",
          "Web/Shipped/GfT",
          "Whatsapp/Shipped/WD",
          "Web/Shipped/HNS",
          "Web/Shipped/WD",
          "Whatsapp/Shipped/HNS",
          "Whatsapp/Shipped/GfT",
          "Whatsapp/Shipped/Uncategorized",
          "Web/Cancelled/CK",
          "Web/Cancelled/GfT",
          "Whatsapp/Cancelled/HNS",
          "Web/Cancelled/HNS",
          "Whatsapp/Cancelled/GfT",
          "Web/Cancelled/WD",
          "Whatsapp/Cancelled/CK",
          "Web/Cancelled/Uncategorized",
          "Web/Hold/GfT",
          "Web/Hold/HNS",
          "Web/Pickup/CK",
          "Whatsapp/Hold/HNS",
          "Web/Booked/HNS",
          "Web/Shipped/Uncategorized",
          "Whatsapp/Shipped",
          "Web/Shipped",
          "Web/Cancelled",
          "Whatsapp/Cancelled",
          "Web/Hold",
          "Web/Pickup",
          "Whatsapp/Hold",
          "Web/Booked",
          "Whatsapp",
          "Web"
         ],
         "labels": [
          "CK",
          "CK",
          "GfT",
          "WD",
          "HNS",
          "WD",
          "HNS",
          "GfT",
          "Uncategorized",
          "CK",
          "GfT",
          "HNS",
          "HNS",
          "GfT",
          "WD",
          "CK",
          "Uncategorized",
          "GfT",
          "HNS",
          "CK",
          "HNS",
          "HNS",
          "Uncategorized",
          "Shipped",
          "Shipped",
          "Cancelled",
          "Cancelled",
          "Hold",
          "Pickup",
          "Hold",
          "Booked",
          "Whatsapp",
          "Web"
         ],
         "name": "",
         "parents": [
          "Whatsapp/Shipped",
          "Web/Shipped",
          "Web/Shipped",
          "Whatsapp/Shipped",
          "Web/Shipped",
          "Web/Shipped",
          "Whatsapp/Shipped",
          "Whatsapp/Shipped",
          "Whatsapp/Shipped",
          "Web/Cancelled",
          "Web/Cancelled",
          "Whatsapp/Cancelled",
          "Web/Cancelled",
          "Whatsapp/Cancelled",
          "Web/Cancelled",
          "Whatsapp/Cancelled",
          "Web/Cancelled",
          "Web/Hold",
          "Web/Hold",
          "Web/Pickup",
          "Whatsapp/Hold",
          "Web/Booked",
          "Web/Shipped",
          "Whatsapp",
          "Web",
          "Web",
          "Whatsapp",
          "Web",
          "Web",
          "Whatsapp",
          "Web",
          "",
          ""
         ],
         "type": "sunburst",
         "values": {
          "bdata": "AAAAAADvxUAAAAAArIMXQQAAAADAL91AAAAAAADQoUAAAAAArJUjQQAAAABAXexAAAAAAKBB/kAAAAAAABqhQAAAAAAAyKlAAAAAADAZ8UAAAAAAAGqnQAAAAAAALbhAAAAAAAA/+0AAAAAAALySQAAAAAAAuLVAAAAAAACInUAAAAAAAHPEQAAAAAAA5MlAAAAAAAAd1UAAAAAAANiYQAAAAAAAiJ1AAAAAAACUpkAAAAAAAE67QAAAAACIcgFBAAAAALgeMUEAAAAAsH4IQQAAAAAAH8JAAAAAAIAH4UAAAAAAANiYQAAAAAAAiJ1AAAAAAACUpkAAAAAAiM8CQQAAAABKyDRB",
          "dtype": "f8"
         }
        }
       ],
       "layout": {
        "legend": {
         "tracegroupgap": 0
        },
        "template": {
         "data": {
          "bar": [
           {
            "error_x": {
             "color": "#2a3f5f"
            },
            "error_y": {
             "color": "#2a3f5f"
            },
            "marker": {
             "line": {
              "color": "#E5ECF6",
              "width": 0.5
             },
             "pattern": {
              "fillmode": "overlay",
              "size": 10,
              "solidity": 0.2
             }
            },
            "type": "bar"
           }
          ],
          "barpolar": [
           {
            "marker": {
             "line": {
              "color": "#E5ECF6",
              "width": 0.5
             },
             "pattern": {
              "fillmode": "overlay",
              "size": 10,
              "solidity": 0.2
             }
            },
            "type": "barpolar"
           }
          ],
          "carpet": [
           {
            "aaxis": {
             "endlinecolor": "#2a3f5f",
             "gridcolor": "white",
             "linecolor": "white",
             "minorgridcolor": "white",
             "startlinecolor": "#2a3f5f"
            },
            "baxis": {
             "endlinecolor": "#2a3f5f",
             "gridcolor": "white",
             "linecolor": "white",
             "minorgridcolor": "white",
             "startlinecolor": "#2a3f5f"
            },
            "type": "carpet"
           }
          ],
          "choropleth": [
           {
            "colorbar": {
             "outlinewidth": 0,
             "ticks": ""
            },
            "type": "choropleth"
           }
          ],
          "contour": [
           {
            "colorbar": {
             "outlinewidth": 0,
             "ticks": ""
            },
            "colorscale": [
             [
              0,
              "#0d0887"
             ],
             [
              0.1111111111111111,
              "#46039f"
             ],
             [
              0.2222222222222222,
              "#7201a8"
             ],
             [
              0.3333333333333333,
              "#9c179e"
             ],
             [
              0.4444444444444444,
              "#bd3786"
             ],
             [
              0.5555555555555556,
              "#d8576b"
             ],
             [
              0.6666666666666666,
              "#ed7953"
             ],
             [
              0.7777777777777778,
              "#fb9f3a"
             ],
             [
              0.8888888888888888,
              "#fdca26"
             ],
             [
              1,
              "#f0f921"
             ]
            ],
            "type": "contour"
           }
          ],
          "contourcarpet": [
           {
            "colorbar": {
             "outlinewidth": 0,
             "ticks": ""
            },
            "type": "contourcarpet"
           }
          ],
          "heatmap": [
           {
            "colorbar": {
             "outlinewidth": 0,
             "ticks": ""
            },
            "colorscale": [
             [
              0,
              "#0d0887"
             ],
             [
              0.1111111111111111,
              "#46039f"
             ],
             [
              0.2222222222222222,
              "#7201a8"
             ],
             [
              0.3333333333333333,
              "#9c179e"
             ],
             [
              0.4444444444444444,
              "#bd3786"
             ],
             [
              0.5555555555555556,
              "#d8576b"
             ],
             [
              0.6666666666666666,
              "#ed7953"
             ],
             [
              0.7777777777777778,
              "#fb9f3a"
             ],
             [
              0.8888888888888888,
              "#fdca26"
             ],
             [
              1,
              "#f0f921"
             ]
            ],
            "type": "heatmap"
           }
          ],
          "histogram": [
           {
            "marker": {
             "pattern": {
              "fillmode": "overlay",
              "size": 10,
              "solidity": 0.2
             }
            },
            "type": "histogram"
           }
          ],
          "histogram2d": [
           {
            "colorbar": {
             "outlinewidth": 0,
             "ticks": ""
            },
            "colorscale": [
             [
              0,
              "#0d0887"
             ],
             [
              0.1111111111111111,
              "#46039f"
             ],
             [
              0.2222222222222222,
              "#7201a8"
             ],
             [
              0.3333333333333333,
              "#9c179e"
             ],
             [
              0.4444444444444444,
              "#bd3786"
             ],
             [
              0.5555555555555556,
              "#d8576b"
             ],
             [
              0.6666666666666666,
              "#ed7953"
             ],
             [
              0.7777777777777778,
              "#fb9f3a"
             ],
             [
              0.8888888888888888,
              "#fdca26"
             ],
             [
              1,
              "#f0f921"
             ]
            ],
            "type": "histogram2d"
           }
          ],
          "histogram2dcontour": [
           {
            "colorbar": {
             "outlinewidth": 0,
             "ticks": ""
            },
            "colorscale": [
             [
              0,
              "#0d0887"
             ],
             [
              0.1111111111111111,
              "#46039f"
             ],
             [
              0.2222222222222222,
              "#7201a8"
             ],
             [
              0.3333333333333333,
              "#9c179e"
             ],
             [
              0.4444444444444444,
              "#bd3786"
             ],
             [
              0.5555555555555556,
              "#d8576b"
             ],
             [
              0.6666666666666666,
              "#ed7953"
             ],
             [
              0.7777777777777778,
              "#fb9f3a"
             ],
             [
              0.8888888888888888,
              "#fdca26"
             ],
             [
              1,
              "#f0f921"
             ]
            ],
            "type": "histogram2dcontour"
           }
          ],
          "mesh3d": [
           {
            "colorbar": {
             "outlinewidth": 0,
             "ticks": ""
            },
            "type": "mesh3d"
           }
          ],
          "parcoords": [
           {
            "line": {
             "colorbar": {
              "outlinewidth": 0,
              "ticks": ""
             }
            },
            "type": "parcoords"
           }
          ],
          "pie": [
           {
            "automargin": true,
            "type": "pie"
           }
          ],
          "scatter": [
           {
            "fillpattern": {
             "fillmode": "overlay",
             "size": 10,
             "solidity": 0.2
            },
            "type": "scatter"
           }
          ],
          "scatter3d": [
           {
            "line": {
             "colorbar": {
              "outlinewidth": 0,
              "ticks": ""
             }
            },
            "marker": {
             "colorbar": {
              "outlinewidth": 0,
              "ticks": ""
             }
            },
            "type": "scatter3d"
           }
          ],
          "scattercarpet": [
           {
            "marker": {
             "colorbar": {
              "outlinewidth": 0,
              "ticks": ""
             }
            },
            "type": "scattercarpet"
           }
          ],
          "scattergeo": [
           {
            "marker": {
             "colorbar": {
              "outlinewidth": 0,
              "ticks": ""
             }
            },
            "type": "scattergeo"
           }
          ],
          "scattergl": [
           {
            "marker": {
             "colorbar": {
              "outlinewidth": 0,
              "ticks": ""
             }
            },
            "type": "scattergl"
           }
          ],
          "scattermap": [
           {
            "marker": {
             "colorbar": {
              "outlinewidth": 0,
              "ticks": ""
             }
            },
            "type": "scattermap"
           }
          ],
          "scattermapbox": [
           {
            "marker": {
             "colorbar": {
              "outlinewidth": 0,
              "ticks": ""
             }
            },
            "type": "scattermapbox"
           }
          ],
          "scatterpolar": [
           {
            "marker": {
             "colorbar": {
              "outlinewidth": 0,
              "ticks": ""
             }
            },
            "type": "scatterpolar"
           }
          ],
          "scatterpolargl": [
           {
            "marker": {
             "colorbar": {
              "outlinewidth": 0,
              "ticks": ""
             }
            },
            "type": "scatterpolargl"
           }
          ],
          "scatterternary": [
           {
            "marker": {
             "colorbar": {
              "outlinewidth": 0,
              "ticks": ""
             }
            },
            "type": "scatterternary"
           }
          ],
          "surface": [
           {
            "colorbar": {
             "outlinewidth": 0,
             "ticks": ""
            },
            "colorscale": [
             [
              0,
              "#0d0887"
             ],
             [
              0.1111111111111111,
              "#46039f"
             ],
             [
              0.2222222222222222,
              "#7201a8"
             ],
             [
              0.3333333333333333,
              "#9c179e"
             ],
             [
              0.4444444444444444,
              "#bd3786"
             ],
             [
              0.5555555555555556,
              "#d8576b"
             ],
             [
              0.6666666666666666,
              "#ed7953"
             ],
             [
              0.7777777777777778,
              "#fb9f3a"
             ],
             [
              0.8888888888888888,
              "#fdca26"
             ],
             [
              1,
              "#f0f921"
             ]
            ],
            "type": "surface"
           }
          ],
          "table": [
           {
            "cells": {
             "fill": {
              "color": "#EBF0F8"
             },
             "line": {
              "color": "white"
             }
            },
            "header": {
             "fill": {
              "color": "#C8D4E3"
             },
             "line": {
              "color": "white"
             }
            },
            "type": "table"
           }
          ]
         },
         "layout": {
          "annotationdefaults": {
           "arrowcolor": "#2a3f5f",
           "arrowhead": 0,
           "arrowwidth": 1
          },
          "autotypenumbers": "strict",
          "coloraxis": {
           "colorbar": {
            "outlinewidth": 0,
            "ticks": ""
           }
          },
          "colorscale": {
           "diverging": [
            [
             0,
             "#8e0152"
            ],
            [
             0.1,
             "#c51b7d"
            ],
            [
             0.2,
             "#de77ae"
            ],
            [
             0.3,
             "#f1b6da"
            ],
            [
             0.4,
             "#fde0ef"
            ],
            [
             0.5,
             "#f7f7f7"
            ],
            [
             0.6,
             "#e6f5d0"
            ],
            [
             0.7,
             "#b8e186"
            ],
            [
             0.8,
             "#7fbc41"
            ],
            [
             0.9,
             "#4d9221"
            ],
            [
             1,
             "#276419"
            ]
           ],
           "sequential": [
            [
             0,
             "#0d0887"
            ],
            [
             0.1111111111111111,
             "#46039f"
            ],
            [
             0.2222222222222222,
             "#7201a8"
            ],
            [
             0.3333333333333333,
             "#9c179e"
            ],
            [
             0.4444444444444444,
             "#bd3786"
            ],
            [
             0.5555555555555556,
             "#d8576b"
            ],
            [
             0.6666666666666666,
             "#ed7953"
            ],
            [
             0.7777777777777778,
             "#fb9f3a"
            ],
            [
             0.8888888888888888,
             "#fdca26"
            ],
            [
             1,
             "#f0f921"
            ]
           ],
           "sequentialminus": [
            [
             0,
             "#0d0887"
            ],
            [
             0.1111111111111111,
             "#46039f"
            ],
            [
             0.2222222222222222,
             "#7201a8"
            ],
            [
             0.3333333333333333,
             "#9c179e"
            ],
            [
             0.4444444444444444,
             "#bd3786"
            ],
            [
             0.5555555555555556,
             "#d8576b"
            ],
            [
             0.6666666666666666,
             "#ed7953"
            ],
            [
             0.7777777777777778,
             "#fb9f3a"
            ],
            [
             0.8888888888888888,
             "#fdca26"
            ],
            [
             1,
             "#f0f921"
            ]
           ]
          },
          "colorway": [
           "#636efa",
           "#EF553B",
           "#00cc96",
           "#ab63fa",
           "#FFA15A",
           "#19d3f3",
           "#FF6692",
           "#B6E880",
           "#FF97FF",
           "#FECB52"
          ],
          "font": {
           "color": "#2a3f5f"
          },
          "geo": {
           "bgcolor": "white",
           "lakecolor": "white",
           "landcolor": "#E5ECF6",
           "showlakes": true,
           "showland": true,
           "subunitcolor": "white"
          },
          "hoverlabel": {
           "align": "left"
          },
          "hovermode": "closest",
          "mapbox": {
           "style": "light"
          },
          "paper_bgcolor": "white",
          "plot_bgcolor": "#E5ECF6",
          "polar": {
           "angularaxis": {
            "gridcolor": "white",
            "linecolor": "white",
            "ticks": ""
           },
           "bgcolor": "#E5ECF6",
           "radialaxis": {
            "gridcolor": "white",
            "linecolor": "white",
            "ticks": ""
           }
          },
          "scene": {
           "xaxis": {
            "backgroundcolor": "#E5ECF6",
            "gridcolor": "white",
            "gridwidth": 2,
            "linecolor": "white",
            "showbackground": true,
            "ticks": "",
            "zerolinecolor": "white"
           },
           "yaxis": {
            "backgroundcolor": "#E5ECF6",
            "gridcolor": "white",
            "gridwidth": 2,
            "linecolor": "white",
            "showbackground": true,
            "ticks": "",
            "zerolinecolor": "white"
           },
           "zaxis": {
            "backgroundcolor": "#E5ECF6",
            "gridcolor": "white",
            "gridwidth": 2,
            "linecolor": "white",
            "showbackground": true,
            "ticks": "",
            "zerolinecolor": "white"
           }
          },
          "shapedefaults": {
           "line": {
            "color": "#2a3f5f"
           }
          },
          "ternary": {
           "aaxis": {
            "gridcolor": "white",
            "linecolor": "white",
            "ticks": ""
           },
           "baxis": {
            "gridcolor": "white",
            "linecolor": "white",
            "ticks": ""
           },
           "bgcolor": "#E5ECF6",
           "caxis": {
            "gridcolor": "white",
            "linecolor": "white",
            "ticks": ""
           }
          },
          "title": {
           "x": 0.05
          },
          "xaxis": {
           "automargin": true,
           "gridcolor": "white",
           "linecolor": "white",
           "ticks": "",
           "title": {
            "standoff": 15
           },
           "zerolinecolor": "white",
           "zerolinewidth": 2
          },
          "yaxis": {
           "automargin": true,
           "gridcolor": "white",
           "linecolor": "white",
           "ticks": "",
           "title": {
            "standoff": 15
           },
           "zerolinecolor": "white",
           "zerolinewidth": 2
          }
         }
        },
        "title": {
         "text": "Order Flow Sunburst"
        }
       }
      }
     },
     "metadata": {},
     "output_type": "display_data"
    }
   ],
   "source": [
    "fig = px.sunburst(df, path=[\"order_source\", \"order_status\", \"category\"], values=\"sales\",\n",
    "                  title=\"Order Flow Sunburst\")\n",
    "fig.show()\n"
   ]
  },
  {
   "cell_type": "code",
   "execution_count": 70,
   "id": "ae225fb9",
   "metadata": {},
   "outputs": [
    {
     "data": {
      "application/vnd.plotly.v1+json": {
       "config": {
        "plotlyServerURL": "https://plot.ly"
       },
       "data": [
        {
         "branchvalues": "total",
         "domain": {
          "x": [
           0,
           1
          ],
          "y": [
           0,
           1
          ]
         },
         "hovertemplate": "labels=%{label}<br>sales=%{value}<br>parent=%{parent}<br>id=%{id}<extra></extra>",
         "ids": [
          "CK/Dng",
          "CK/DIY",
          "CK/Simply9",
          "GfT/Eidi2p",
          "CK/Geo12",
          "CK/Simply12",
          "WD/Triangle",
          "CK/Minim12",
          "CK/Gear12",
          "HNS/201-12",
          "CK/Swirl15",
          "WD/Circles",
          "CK/Crclr12",
          "CK/Zen12",
          "CK/YY12",
          "CK/Geo15",
          "CK/BoldS15",
          "WD/pta",
          "CK/Simply15",
          "HNS/101-12",
          "CK/Minim15",
          "CK/Gear15",
          "CK/Crclr15",
          "WD/PD",
          "HNS/001-9",
          "CK/Zen16",
          "CK/Silent12",
          "WD/Rectangles",
          "CK/YY16",
          "HNS/201-15",
          "HNS/201-18",
          "CK/Silent18",
          "HNS/101-15",
          "GfT/Eidi5p",
          "HNS/001-12",
          "HNS/101-18",
          "HNS/103-18",
          "HNS/001-15",
          "CK/Minim9",
          "WD/Oval",
          "WD/SunFlower",
          "WD/SunClouds",
          "CK/Cat15",
          "CK/PacMan16",
          "CK/Silent15",
          "GfT/Eidi4p",
          "WD/Neon",
          "CK/201-18",
          "WD/BF",
          "CK/Gear9",
          "WD/Birds",
          "WD/Strips",
          "WD/SunCloud",
          "CK/OG16",
          "WD/Hexa",
          "HNS/18x11 matt",
          "Uncategorized/Neon",
          "GfT/Eidi10p",
          "CK/Simply18",
          "HNS/15x9",
          "WD/Hearts",
          "CK",
          "GfT",
          "WD",
          "HNS",
          "Uncategorized"
         ],
         "labels": [
          "Dng",
          "DIY",
          "Simply9",
          "Eidi2p",
          "Geo12",
          "Simply12",
          "Triangle",
          "Minim12",
          "Gear12",
          "201-12",
          "Swirl15",
          "Circles",
          "Crclr12",
          "Zen12",
          "YY12",
          "Geo15",
          "BoldS15",
          "pta",
          "Simply15",
          "101-12",
          "Minim15",
          "Gear15",
          "Crclr15",
          "PD",
          "001-9",
          "Zen16",
          "Silent12",
          "Rectangles",
          "YY16",
          "201-15",
          "201-18",
          "Silent18",
          "101-15",
          "Eidi5p",
          "001-12",
          "101-18",
          "103-18",
          "001-15",
          "Minim9",
          "Oval",
          "SunFlower",
          "SunClouds",
          "Cat15",
          "PacMan16",
          "Silent15",
          "Eidi4p",
          "Neon",
          "201-18",
          "BF",
          "Gear9",
          "Birds",
          "Strips",
          "SunCloud",
          "OG16",
          "Hexa",
          "18x11 matt",
          "Neon",
          "Eidi10p",
          "Simply18",
          "15x9",
          "Hearts",
          "CK",
          "GfT",
          "WD",
          "HNS",
          "Uncategorized"
         ],
         "name": "",
         "parents": [
          "CK",
          "CK",
          "CK",
          "GfT",
          "CK",
          "CK",
          "WD",
          "CK",
          "CK",
          "HNS",
          "CK",
          "WD",
          "CK",
          "CK",
          "CK",
          "CK",
          "CK",
          "WD",
          "CK",
          "HNS",
          "CK",
          "CK",
          "CK",
          "WD",
          "HNS",
          "CK",
          "CK",
          "WD",
          "CK",
          "HNS",
          "HNS",
          "CK",
          "HNS",
          "GfT",
          "HNS",
          "HNS",
          "HNS",
          "HNS",
          "CK",
          "WD",
          "WD",
          "WD",
          "CK",
          "CK",
          "CK",
          "GfT",
          "WD",
          "CK",
          "WD",
          "CK",
          "WD",
          "WD",
          "WD",
          "CK",
          "WD",
          "HNS",
          "Uncategorized",
          "GfT",
          "CK",
          "HNS",
          "WD",
          "",
          "",
          "",
          "",
          ""
         ],
         "type": "treemap",
         "values": {
          "bdata": "AAAAAEAu/kAAAAAAgBjMQAAAAAAARcVAAAAAAAC72UAAAAAAAM69QAAAAAAACLFAAAAAAAA0skAAAAAAwIbeQAAAAAAA5KtAAAAAAIBE80AAAAAAABy2QAAAAAAA/LJAAAAAAADkq0AAAAAAAKPhQAAAAAAAPK5AAAAAAAC4tUAAAAAAALi1QAAAAACARNhAAAAAAABPwEAAAAAAiCUDQQAAAABAAuhAAAAAAABfxEAAAAAAAHbRQAAAAAAAKcNAAAAAAACfykAAAAAAgC/kQAAAAAAAPMlAAAAAAADYmEAAAAAAANi4QAAAAACA0/BAAAAAAOCV+0AAAAAAABzRQAAAAABwdAZBAAAAAAAcwUAAAAAAAOPcQAAAAADg4glBAAAAAIAn3EAAAAAAAH/SQAAAAAAA8M5AAAAAAABgo0AAAAAAALilQAAAAAAASJdAAAAAAABIl0AAAAAAANiYQAAAAAAAEdJAAAAAAABYm0AAAAAAAESrQAAAAAAAbr5AAAAAAAAIoUAAAAAAAPCOQAAAAAAAmJJAAAAAAACYkkAAAAAAALiVQAAAAAAA2JhAAAAAAADYmEAAAAAAAFCkQAAAAAAARtRAAAAAAAC/yEAAAAAAAByhQAAAAAAAUKRAAAAAAACYokAAAAAA0K8cQQAAAAAAL+hAAAAAAKAY8EAAAAAAWsQrQQAAAAAARtRA",
          "dtype": "f8"
         }
        }
       ],
       "layout": {
        "legend": {
         "tracegroupgap": 0
        },
        "template": {
         "data": {
          "bar": [
           {
            "error_x": {
             "color": "#2a3f5f"
            },
            "error_y": {
             "color": "#2a3f5f"
            },
            "marker": {
             "line": {
              "color": "#E5ECF6",
              "width": 0.5
             },
             "pattern": {
              "fillmode": "overlay",
              "size": 10,
              "solidity": 0.2
             }
            },
            "type": "bar"
           }
          ],
          "barpolar": [
           {
            "marker": {
             "line": {
              "color": "#E5ECF6",
              "width": 0.5
             },
             "pattern": {
              "fillmode": "overlay",
              "size": 10,
              "solidity": 0.2
             }
            },
            "type": "barpolar"
           }
          ],
          "carpet": [
           {
            "aaxis": {
             "endlinecolor": "#2a3f5f",
             "gridcolor": "white",
             "linecolor": "white",
             "minorgridcolor": "white",
             "startlinecolor": "#2a3f5f"
            },
            "baxis": {
             "endlinecolor": "#2a3f5f",
             "gridcolor": "white",
             "linecolor": "white",
             "minorgridcolor": "white",
             "startlinecolor": "#2a3f5f"
            },
            "type": "carpet"
           }
          ],
          "choropleth": [
           {
            "colorbar": {
             "outlinewidth": 0,
             "ticks": ""
            },
            "type": "choropleth"
           }
          ],
          "contour": [
           {
            "colorbar": {
             "outlinewidth": 0,
             "ticks": ""
            },
            "colorscale": [
             [
              0,
              "#0d0887"
             ],
             [
              0.1111111111111111,
              "#46039f"
             ],
             [
              0.2222222222222222,
              "#7201a8"
             ],
             [
              0.3333333333333333,
              "#9c179e"
             ],
             [
              0.4444444444444444,
              "#bd3786"
             ],
             [
              0.5555555555555556,
              "#d8576b"
             ],
             [
              0.6666666666666666,
              "#ed7953"
             ],
             [
              0.7777777777777778,
              "#fb9f3a"
             ],
             [
              0.8888888888888888,
              "#fdca26"
             ],
             [
              1,
              "#f0f921"
             ]
            ],
            "type": "contour"
           }
          ],
          "contourcarpet": [
           {
            "colorbar": {
             "outlinewidth": 0,
             "ticks": ""
            },
            "type": "contourcarpet"
           }
          ],
          "heatmap": [
           {
            "colorbar": {
             "outlinewidth": 0,
             "ticks": ""
            },
            "colorscale": [
             [
              0,
              "#0d0887"
             ],
             [
              0.1111111111111111,
              "#46039f"
             ],
             [
              0.2222222222222222,
              "#7201a8"
             ],
             [
              0.3333333333333333,
              "#9c179e"
             ],
             [
              0.4444444444444444,
              "#bd3786"
             ],
             [
              0.5555555555555556,
              "#d8576b"
             ],
             [
              0.6666666666666666,
              "#ed7953"
             ],
             [
              0.7777777777777778,
              "#fb9f3a"
             ],
             [
              0.8888888888888888,
              "#fdca26"
             ],
             [
              1,
              "#f0f921"
             ]
            ],
            "type": "heatmap"
           }
          ],
          "histogram": [
           {
            "marker": {
             "pattern": {
              "fillmode": "overlay",
              "size": 10,
              "solidity": 0.2
             }
            },
            "type": "histogram"
           }
          ],
          "histogram2d": [
           {
            "colorbar": {
             "outlinewidth": 0,
             "ticks": ""
            },
            "colorscale": [
             [
              0,
              "#0d0887"
             ],
             [
              0.1111111111111111,
              "#46039f"
             ],
             [
              0.2222222222222222,
              "#7201a8"
             ],
             [
              0.3333333333333333,
              "#9c179e"
             ],
             [
              0.4444444444444444,
              "#bd3786"
             ],
             [
              0.5555555555555556,
              "#d8576b"
             ],
             [
              0.6666666666666666,
              "#ed7953"
             ],
             [
              0.7777777777777778,
              "#fb9f3a"
             ],
             [
              0.8888888888888888,
              "#fdca26"
             ],
             [
              1,
              "#f0f921"
             ]
            ],
            "type": "histogram2d"
           }
          ],
          "histogram2dcontour": [
           {
            "colorbar": {
             "outlinewidth": 0,
             "ticks": ""
            },
            "colorscale": [
             [
              0,
              "#0d0887"
             ],
             [
              0.1111111111111111,
              "#46039f"
             ],
             [
              0.2222222222222222,
              "#7201a8"
             ],
             [
              0.3333333333333333,
              "#9c179e"
             ],
             [
              0.4444444444444444,
              "#bd3786"
             ],
             [
              0.5555555555555556,
              "#d8576b"
             ],
             [
              0.6666666666666666,
              "#ed7953"
             ],
             [
              0.7777777777777778,
              "#fb9f3a"
             ],
             [
              0.8888888888888888,
              "#fdca26"
             ],
             [
              1,
              "#f0f921"
             ]
            ],
            "type": "histogram2dcontour"
           }
          ],
          "mesh3d": [
           {
            "colorbar": {
             "outlinewidth": 0,
             "ticks": ""
            },
            "type": "mesh3d"
           }
          ],
          "parcoords": [
           {
            "line": {
             "colorbar": {
              "outlinewidth": 0,
              "ticks": ""
             }
            },
            "type": "parcoords"
           }
          ],
          "pie": [
           {
            "automargin": true,
            "type": "pie"
           }
          ],
          "scatter": [
           {
            "fillpattern": {
             "fillmode": "overlay",
             "size": 10,
             "solidity": 0.2
            },
            "type": "scatter"
           }
          ],
          "scatter3d": [
           {
            "line": {
             "colorbar": {
              "outlinewidth": 0,
              "ticks": ""
             }
            },
            "marker": {
             "colorbar": {
              "outlinewidth": 0,
              "ticks": ""
             }
            },
            "type": "scatter3d"
           }
          ],
          "scattercarpet": [
           {
            "marker": {
             "colorbar": {
              "outlinewidth": 0,
              "ticks": ""
             }
            },
            "type": "scattercarpet"
           }
          ],
          "scattergeo": [
           {
            "marker": {
             "colorbar": {
              "outlinewidth": 0,
              "ticks": ""
             }
            },
            "type": "scattergeo"
           }
          ],
          "scattergl": [
           {
            "marker": {
             "colorbar": {
              "outlinewidth": 0,
              "ticks": ""
             }
            },
            "type": "scattergl"
           }
          ],
          "scattermap": [
           {
            "marker": {
             "colorbar": {
              "outlinewidth": 0,
              "ticks": ""
             }
            },
            "type": "scattermap"
           }
          ],
          "scattermapbox": [
           {
            "marker": {
             "colorbar": {
              "outlinewidth": 0,
              "ticks": ""
             }
            },
            "type": "scattermapbox"
           }
          ],
          "scatterpolar": [
           {
            "marker": {
             "colorbar": {
              "outlinewidth": 0,
              "ticks": ""
             }
            },
            "type": "scatterpolar"
           }
          ],
          "scatterpolargl": [
           {
            "marker": {
             "colorbar": {
              "outlinewidth": 0,
              "ticks": ""
             }
            },
            "type": "scatterpolargl"
           }
          ],
          "scatterternary": [
           {
            "marker": {
             "colorbar": {
              "outlinewidth": 0,
              "ticks": ""
             }
            },
            "type": "scatterternary"
           }
          ],
          "surface": [
           {
            "colorbar": {
             "outlinewidth": 0,
             "ticks": ""
            },
            "colorscale": [
             [
              0,
              "#0d0887"
             ],
             [
              0.1111111111111111,
              "#46039f"
             ],
             [
              0.2222222222222222,
              "#7201a8"
             ],
             [
              0.3333333333333333,
              "#9c179e"
             ],
             [
              0.4444444444444444,
              "#bd3786"
             ],
             [
              0.5555555555555556,
              "#d8576b"
             ],
             [
              0.6666666666666666,
              "#ed7953"
             ],
             [
              0.7777777777777778,
              "#fb9f3a"
             ],
             [
              0.8888888888888888,
              "#fdca26"
             ],
             [
              1,
              "#f0f921"
             ]
            ],
            "type": "surface"
           }
          ],
          "table": [
           {
            "cells": {
             "fill": {
              "color": "#EBF0F8"
             },
             "line": {
              "color": "white"
             }
            },
            "header": {
             "fill": {
              "color": "#C8D4E3"
             },
             "line": {
              "color": "white"
             }
            },
            "type": "table"
           }
          ]
         },
         "layout": {
          "annotationdefaults": {
           "arrowcolor": "#2a3f5f",
           "arrowhead": 0,
           "arrowwidth": 1
          },
          "autotypenumbers": "strict",
          "coloraxis": {
           "colorbar": {
            "outlinewidth": 0,
            "ticks": ""
           }
          },
          "colorscale": {
           "diverging": [
            [
             0,
             "#8e0152"
            ],
            [
             0.1,
             "#c51b7d"
            ],
            [
             0.2,
             "#de77ae"
            ],
            [
             0.3,
             "#f1b6da"
            ],
            [
             0.4,
             "#fde0ef"
            ],
            [
             0.5,
             "#f7f7f7"
            ],
            [
             0.6,
             "#e6f5d0"
            ],
            [
             0.7,
             "#b8e186"
            ],
            [
             0.8,
             "#7fbc41"
            ],
            [
             0.9,
             "#4d9221"
            ],
            [
             1,
             "#276419"
            ]
           ],
           "sequential": [
            [
             0,
             "#0d0887"
            ],
            [
             0.1111111111111111,
             "#46039f"
            ],
            [
             0.2222222222222222,
             "#7201a8"
            ],
            [
             0.3333333333333333,
             "#9c179e"
            ],
            [
             0.4444444444444444,
             "#bd3786"
            ],
            [
             0.5555555555555556,
             "#d8576b"
            ],
            [
             0.6666666666666666,
             "#ed7953"
            ],
            [
             0.7777777777777778,
             "#fb9f3a"
            ],
            [
             0.8888888888888888,
             "#fdca26"
            ],
            [
             1,
             "#f0f921"
            ]
           ],
           "sequentialminus": [
            [
             0,
             "#0d0887"
            ],
            [
             0.1111111111111111,
             "#46039f"
            ],
            [
             0.2222222222222222,
             "#7201a8"
            ],
            [
             0.3333333333333333,
             "#9c179e"
            ],
            [
             0.4444444444444444,
             "#bd3786"
            ],
            [
             0.5555555555555556,
             "#d8576b"
            ],
            [
             0.6666666666666666,
             "#ed7953"
            ],
            [
             0.7777777777777778,
             "#fb9f3a"
            ],
            [
             0.8888888888888888,
             "#fdca26"
            ],
            [
             1,
             "#f0f921"
            ]
           ]
          },
          "colorway": [
           "#636efa",
           "#EF553B",
           "#00cc96",
           "#ab63fa",
           "#FFA15A",
           "#19d3f3",
           "#FF6692",
           "#B6E880",
           "#FF97FF",
           "#FECB52"
          ],
          "font": {
           "color": "#2a3f5f"
          },
          "geo": {
           "bgcolor": "white",
           "lakecolor": "white",
           "landcolor": "#E5ECF6",
           "showlakes": true,
           "showland": true,
           "subunitcolor": "white"
          },
          "hoverlabel": {
           "align": "left"
          },
          "hovermode": "closest",
          "mapbox": {
           "style": "light"
          },
          "paper_bgcolor": "white",
          "plot_bgcolor": "#E5ECF6",
          "polar": {
           "angularaxis": {
            "gridcolor": "white",
            "linecolor": "white",
            "ticks": ""
           },
           "bgcolor": "#E5ECF6",
           "radialaxis": {
            "gridcolor": "white",
            "linecolor": "white",
            "ticks": ""
           }
          },
          "scene": {
           "xaxis": {
            "backgroundcolor": "#E5ECF6",
            "gridcolor": "white",
            "gridwidth": 2,
            "linecolor": "white",
            "showbackground": true,
            "ticks": "",
            "zerolinecolor": "white"
           },
           "yaxis": {
            "backgroundcolor": "#E5ECF6",
            "gridcolor": "white",
            "gridwidth": 2,
            "linecolor": "white",
            "showbackground": true,
            "ticks": "",
            "zerolinecolor": "white"
           },
           "zaxis": {
            "backgroundcolor": "#E5ECF6",
            "gridcolor": "white",
            "gridwidth": 2,
            "linecolor": "white",
            "showbackground": true,
            "ticks": "",
            "zerolinecolor": "white"
           }
          },
          "shapedefaults": {
           "line": {
            "color": "#2a3f5f"
           }
          },
          "ternary": {
           "aaxis": {
            "gridcolor": "white",
            "linecolor": "white",
            "ticks": ""
           },
           "baxis": {
            "gridcolor": "white",
            "linecolor": "white",
            "ticks": ""
           },
           "bgcolor": "#E5ECF6",
           "caxis": {
            "gridcolor": "white",
            "linecolor": "white",
            "ticks": ""
           }
          },
          "title": {
           "x": 0.05
          },
          "xaxis": {
           "automargin": true,
           "gridcolor": "white",
           "linecolor": "white",
           "ticks": "",
           "title": {
            "standoff": 15
           },
           "zerolinecolor": "white",
           "zerolinewidth": 2
          },
          "yaxis": {
           "automargin": true,
           "gridcolor": "white",
           "linecolor": "white",
           "ticks": "",
           "title": {
            "standoff": 15
           },
           "zerolinecolor": "white",
           "zerolinewidth": 2
          }
         }
        },
        "title": {
         "text": "Sales Distribution: Category → SKU"
        }
       }
      }
     },
     "metadata": {},
     "output_type": "display_data"
    }
   ],
   "source": [
    "fig = px.treemap(df, path=[\"category\", \"sku\"], values=\"sales\", title=\"Sales Distribution: Category → SKU\")\n",
    "fig.show()\n"
   ]
  },
  {
   "cell_type": "code",
   "execution_count": 69,
   "id": "43fd8356",
   "metadata": {},
   "outputs": [
    {
     "data": {
      "application/vnd.plotly.v1+json": {
       "config": {
        "plotlyServerURL": "https://plot.ly"
       },
       "data": [
        {
         "hovertemplate": "<b>%{hovertext}</b><br><br>city=ABDUL HAKIM<br>sales=%{x}<br>quantity=%{y}<br>avg_quantity=%{marker.size}<extra></extra>",
         "hovertext": [
          "ABDUL HAKIM"
         ],
         "legendgroup": "ABDUL HAKIM",
         "marker": {
          "color": "#636efa",
          "size": {
           "bdata": "Alos+JdObz8=",
           "dtype": "f8"
          },
          "sizemode": "area",
          "sizeref": 0.00008457183297947629,
          "symbol": "circle"
         },
         "mode": "markers",
         "name": "ABDUL HAKIM",
         "orientation": "v",
         "showlegend": true,
         "type": "scatter",
         "x": {
          "bdata": "dhE=",
          "dtype": "i2"
         },
         "xaxis": "x",
         "y": {
          "bdata": "Aw==",
          "dtype": "i1"
         },
         "yaxis": "y"
        },
        {
         "hovertemplate": "<b>%{hovertext}</b><br><br>city=Abbottabad<br>sales=%{x}<br>quantity=%{y}<br>avg_quantity=%{marker.size}<extra></extra>",
         "hovertext": [
          "Abbottabad"
         ],
         "legendgroup": "Abbottabad",
         "marker": {
          "color": "#EF553B",
          "size": {
           "bdata": "Akt6+dMWej8=",
           "dtype": "f8"
          },
          "sizemode": "area",
          "sizeref": 0.00008457183297947629,
          "symbol": "circle"
         },
         "mode": "markers",
         "name": "Abbottabad",
         "orientation": "v",
         "showlegend": true,
         "type": "scatter",
         "x": {
          "bdata": "zjE=",
          "dtype": "i2"
         },
         "xaxis": "x",
         "y": {
          "bdata": "BQ==",
          "dtype": "i1"
         },
         "yaxis": "y"
        },
        {
         "hovertemplate": "<b>%{hovertext}</b><br><br>city=Arifwala<br>sales=%{x}<br>quantity=%{y}<br>avg_quantity=%{marker.size}<extra></extra>",
         "hovertext": [
          "Arifwala"
         ],
         "legendgroup": "Arifwala",
         "marker": {
          "color": "#00cc96",
          "size": {
           "bdata": "ATzI+g/fVD8=",
           "dtype": "f8"
          },
          "sizemode": "area",
          "sizeref": 0.00008457183297947629,
          "symbol": "circle"
         },
         "mode": "markers",
         "name": "Arifwala",
         "orientation": "v",
         "showlegend": true,
         "type": "scatter",
         "x": {
          "bdata": "bgU=",
          "dtype": "i2"
         },
         "xaxis": "x",
         "y": {
          "bdata": "AQ==",
          "dtype": "i1"
         },
         "yaxis": "y"
        },
        {
         "hovertemplate": "<b>%{hovertext}</b><br><br>city=BHAKKAR<br>sales=%{x}<br>quantity=%{y}<br>avg_quantity=%{marker.size}<extra></extra>",
         "hovertext": [
          "BHAKKAR"
         ],
         "legendgroup": "BHAKKAR",
         "marker": {
          "color": "#ab63fa",
          "size": {
           "bdata": "ATzI+g/fVD8=",
           "dtype": "f8"
          },
          "sizemode": "area",
          "sizeref": 0.00008457183297947629,
          "symbol": "circle"
         },
         "mode": "markers",
         "name": "BHAKKAR",
         "orientation": "v",
         "showlegend": true,
         "type": "scatter",
         "x": {
          "bdata": "NgY=",
          "dtype": "i2"
         },
         "xaxis": "x",
         "y": {
          "bdata": "AQ==",
          "dtype": "i1"
         },
         "yaxis": "y"
        },
        {
         "hovertemplate": "<b>%{hovertext}</b><br><br>city=Bahawalnagar<br>sales=%{x}<br>quantity=%{y}<br>avg_quantity=%{marker.size}<extra></extra>",
         "hovertext": [
          "Bahawalnagar"
         ],
         "legendgroup": "Bahawalnagar",
         "marker": {
          "color": "#FFA15A",
          "size": {
           "bdata": "ATzI+g/fZD8=",
           "dtype": "f8"
          },
          "sizemode": "area",
          "sizeref": 0.00008457183297947629,
          "symbol": "circle"
         },
         "mode": "markers",
         "name": "Bahawalnagar",
         "orientation": "v",
         "showlegend": true,
         "type": "scatter",
         "x": {
          "bdata": "/A0=",
          "dtype": "i2"
         },
         "xaxis": "x",
         "y": {
          "bdata": "Ag==",
          "dtype": "i1"
         },
         "yaxis": "y"
        },
        {
         "hovertemplate": "<b>%{hovertext}</b><br><br>city=Bahawalpur<br>sales=%{x}<br>quantity=%{y}<br>avg_quantity=%{marker.size}<extra></extra>",
         "hovertext": [
          "Bahawalpur"
         ],
         "legendgroup": "Bahawalpur",
         "marker": {
          "color": "#19d3f3",
          "size": {
           "bdata": "Alos+JdOfz8=",
           "dtype": "f8"
          },
          "sizemode": "area",
          "sizeref": 0.00008457183297947629,
          "symbol": "circle"
         },
         "mode": "markers",
         "name": "Bahawalpur",
         "orientation": "v",
         "showlegend": true,
         "type": "scatter",
         "x": {
          "bdata": "wTM=",
          "dtype": "i2"
         },
         "xaxis": "x",
         "y": {
          "bdata": "Bg==",
          "dtype": "i1"
         },
         "yaxis": "y"
        },
        {
         "hovertemplate": "<b>%{hovertext}</b><br><br>city=Batkhela<br>sales=%{x}<br>quantity=%{y}<br>avg_quantity=%{marker.size}<extra></extra>",
         "hovertext": [
          "Batkhela"
         ],
         "legendgroup": "Batkhela",
         "marker": {
          "color": "#FF6692",
          "size": {
           "bdata": "ATzI+g/fZD8=",
           "dtype": "f8"
          },
          "sizemode": "area",
          "sizeref": 0.00008457183297947629,
          "symbol": "circle"
         },
         "mode": "markers",
         "name": "Batkhela",
         "orientation": "v",
         "showlegend": true,
         "type": "scatter",
         "x": {
          "bdata": "EhE=",
          "dtype": "i2"
         },
         "xaxis": "x",
         "y": {
          "bdata": "Ag==",
          "dtype": "i1"
         },
         "yaxis": "y"
        },
        {
         "hovertemplate": "<b>%{hovertext}</b><br><br>city=Batkhela Distt Malakand<br>sales=%{x}<br>quantity=%{y}<br>avg_quantity=%{marker.size}<extra></extra>",
         "hovertext": [
          "Batkhela Distt Malakand"
         ],
         "legendgroup": "Batkhela Distt Malakand",
         "marker": {
          "color": "#B6E880",
          "size": {
           "bdata": "ATzI+g/fVD8=",
           "dtype": "f8"
          },
          "sizemode": "area",
          "sizeref": 0.00008457183297947629,
          "symbol": "circle"
         },
         "mode": "markers",
         "name": "Batkhela Distt Malakand",
         "orientation": "v",
         "showlegend": true,
         "type": "scatter",
         "x": {
          "bdata": "NgY=",
          "dtype": "i2"
         },
         "xaxis": "x",
         "y": {
          "bdata": "AQ==",
          "dtype": "i1"
         },
         "yaxis": "y"
        },
        {
         "hovertemplate": "<b>%{hovertext}</b><br><br>city=Burewala<br>sales=%{x}<br>quantity=%{y}<br>avg_quantity=%{marker.size}<extra></extra>",
         "hovertext": [
          "Burewala"
         ],
         "legendgroup": "Burewala",
         "marker": {
          "color": "#FF97FF",
          "size": {
           "bdata": "ATzI+g/fVD8=",
           "dtype": "f8"
          },
          "sizemode": "area",
          "sizeref": 0.00008457183297947629,
          "symbol": "circle"
         },
         "mode": "markers",
         "name": "Burewala",
         "orientation": "v",
         "showlegend": true,
         "type": "scatter",
         "x": {
          "bdata": "QgQ=",
          "dtype": "i2"
         },
         "xaxis": "x",
         "y": {
          "bdata": "AQ==",
          "dtype": "i1"
         },
         "yaxis": "y"
        },
        {
         "hovertemplate": "<b>%{hovertext}</b><br><br>city=Chakwal<br>sales=%{x}<br>quantity=%{y}<br>avg_quantity=%{marker.size}<extra></extra>",
         "hovertext": [
          "Chakwal"
         ],
         "legendgroup": "Chakwal",
         "marker": {
          "color": "#FECB52",
          "size": {
           "bdata": "ATzI+g/fVD8=",
           "dtype": "f8"
          },
          "sizemode": "area",
          "sizeref": 0.00008457183297947629,
          "symbol": "circle"
         },
         "mode": "markers",
         "name": "Chakwal",
         "orientation": "v",
         "showlegend": true,
         "type": "scatter",
         "x": {
          "bdata": "Ygc=",
          "dtype": "i2"
         },
         "xaxis": "x",
         "y": {
          "bdata": "AQ==",
          "dtype": "i1"
         },
         "yaxis": "y"
        },
        {
         "hovertemplate": "<b>%{hovertext}</b><br><br>city=Charsadda<br>sales=%{x}<br>quantity=%{y}<br>avg_quantity=%{marker.size}<extra></extra>",
         "hovertext": [
          "Charsadda"
         ],
         "legendgroup": "Charsadda",
         "marker": {
          "color": "#636efa",
          "size": {
           "bdata": "ATzI+g/fZD8=",
           "dtype": "f8"
          },
          "sizemode": "area",
          "sizeref": 0.00008457183297947629,
          "symbol": "circle"
         },
         "mode": "markers",
         "name": "Charsadda",
         "orientation": "v",
         "showlegend": true,
         "type": "scatter",
         "x": {
          "bdata": "6Ag=",
          "dtype": "i2"
         },
         "xaxis": "x",
         "y": {
          "bdata": "Ag==",
          "dtype": "i1"
         },
         "yaxis": "y"
        },
        {
         "hovertemplate": "<b>%{hovertext}</b><br><br>city=Chicha Watni<br>sales=%{x}<br>quantity=%{y}<br>avg_quantity=%{marker.size}<extra></extra>",
         "hovertext": [
          "Chicha Watni"
         ],
         "legendgroup": "Chicha Watni",
         "marker": {
          "color": "#EF553B",
          "size": {
           "bdata": "ATzI+g/fZD8=",
           "dtype": "f8"
          },
          "sizemode": "area",
          "sizeref": 0.00008457183297947629,
          "symbol": "circle"
         },
         "mode": "markers",
         "name": "Chicha Watni",
         "orientation": "v",
         "showlegend": true,
         "type": "scatter",
         "x": {
          "bdata": "PBQ=",
          "dtype": "i2"
         },
         "xaxis": "x",
         "y": {
          "bdata": "Ag==",
          "dtype": "i1"
         },
         "yaxis": "y"
        },
        {
         "hovertemplate": "<b>%{hovertext}</b><br><br>city=Chistian<br>sales=%{x}<br>quantity=%{y}<br>avg_quantity=%{marker.size}<extra></extra>",
         "hovertext": [
          "Chistian"
         ],
         "legendgroup": "Chistian",
         "marker": {
          "color": "#00cc96",
          "size": {
           "bdata": "ATzI+g/fVD8=",
           "dtype": "f8"
          },
          "sizemode": "area",
          "sizeref": 0.00008457183297947629,
          "symbol": "circle"
         },
         "mode": "markers",
         "name": "Chistian",
         "orientation": "v",
         "showlegend": true,
         "type": "scatter",
         "x": {
          "bdata": "NgY=",
          "dtype": "i2"
         },
         "xaxis": "x",
         "y": {
          "bdata": "AQ==",
          "dtype": "i1"
         },
         "yaxis": "y"
        },
        {
         "hovertemplate": "<b>%{hovertext}</b><br><br>city=DARGAI<br>sales=%{x}<br>quantity=%{y}<br>avg_quantity=%{marker.size}<extra></extra>",
         "hovertext": [
          "DARGAI"
         ],
         "legendgroup": "DARGAI",
         "marker": {
          "color": "#ab63fa",
          "size": {
           "bdata": "ATzI+g/fVD8=",
           "dtype": "f8"
          },
          "sizemode": "area",
          "sizeref": 0.00008457183297947629,
          "symbol": "circle"
         },
         "mode": "markers",
         "name": "DARGAI",
         "orientation": "v",
         "showlegend": true,
         "type": "scatter",
         "x": {
          "bdata": "Hgo=",
          "dtype": "i2"
         },
         "xaxis": "x",
         "y": {
          "bdata": "AQ==",
          "dtype": "i1"
         },
         "yaxis": "y"
        },
        {
         "hovertemplate": "<b>%{hovertext}</b><br><br>city=DAULAT PUR<br>sales=%{x}<br>quantity=%{y}<br>avg_quantity=%{marker.size}<extra></extra>",
         "hovertext": [
          "DAULAT PUR"
         ],
         "legendgroup": "DAULAT PUR",
         "marker": {
          "color": "#FFA15A",
          "size": {
           "bdata": "ATzI+g/fVD8=",
           "dtype": "f8"
          },
          "sizemode": "area",
          "sizeref": 0.00008457183297947629,
          "symbol": "circle"
         },
         "mode": "markers",
         "name": "DAULAT PUR",
         "orientation": "v",
         "showlegend": true,
         "type": "scatter",
         "x": {
          "bdata": "CgU=",
          "dtype": "i2"
         },
         "xaxis": "x",
         "y": {
          "bdata": "AQ==",
          "dtype": "i1"
         },
         "yaxis": "y"
        },
        {
         "hovertemplate": "<b>%{hovertext}</b><br><br>city=DIGRI<br>sales=%{x}<br>quantity=%{y}<br>avg_quantity=%{marker.size}<extra></extra>",
         "hovertext": [
          "DIGRI"
         ],
         "legendgroup": "DIGRI",
         "marker": {
          "color": "#19d3f3",
          "size": {
           "bdata": "Alos+JdOfz8=",
           "dtype": "f8"
          },
          "sizemode": "area",
          "sizeref": 0.00008457183297947629,
          "symbol": "circle"
         },
         "mode": "markers",
         "name": "DIGRI",
         "orientation": "v",
         "showlegend": true,
         "type": "scatter",
         "x": {
          "bdata": "TAk=",
          "dtype": "i2"
         },
         "xaxis": "x",
         "y": {
          "bdata": "Bg==",
          "dtype": "i1"
         },
         "yaxis": "y"
        },
        {
         "hovertemplate": "<b>%{hovertext}</b><br><br>city=Depalpur<br>sales=%{x}<br>quantity=%{y}<br>avg_quantity=%{marker.size}<extra></extra>",
         "hovertext": [
          "Depalpur"
         ],
         "legendgroup": "Depalpur",
         "marker": {
          "color": "#FF6692",
          "size": {
           "bdata": "ATzI+g/fVD8=",
           "dtype": "f8"
          },
          "sizemode": "area",
          "sizeref": 0.00008457183297947629,
          "symbol": "circle"
         },
         "mode": "markers",
         "name": "Depalpur",
         "orientation": "v",
         "showlegend": true,
         "type": "scatter",
         "x": {
          "bdata": "NgY=",
          "dtype": "i2"
         },
         "xaxis": "x",
         "y": {
          "bdata": "AQ==",
          "dtype": "i1"
         },
         "yaxis": "y"
        },
        {
         "hovertemplate": "<b>%{hovertext}</b><br><br>city=Dera Ghazi Khan<br>sales=%{x}<br>quantity=%{y}<br>avg_quantity=%{marker.size}<extra></extra>",
         "hovertext": [
          "Dera Ghazi Khan"
         ],
         "legendgroup": "Dera Ghazi Khan",
         "marker": {
          "color": "#B6E880",
          "size": {
           "bdata": "ATzI+g/fZD8=",
           "dtype": "f8"
          },
          "sizemode": "area",
          "sizeref": 0.00008457183297947629,
          "symbol": "circle"
         },
         "mode": "markers",
         "name": "Dera Ghazi Khan",
         "orientation": "v",
         "showlegend": true,
         "type": "scatter",
         "x": {
          "bdata": "zBU=",
          "dtype": "i2"
         },
         "xaxis": "x",
         "y": {
          "bdata": "Ag==",
          "dtype": "i1"
         },
         "yaxis": "y"
        },
        {
         "hovertemplate": "<b>%{hovertext}</b><br><br>city=Dera Ismail Khan<br>sales=%{x}<br>quantity=%{y}<br>avg_quantity=%{marker.size}<extra></extra>",
         "hovertext": [
          "Dera Ismail Khan"
         ],
         "legendgroup": "Dera Ismail Khan",
         "marker": {
          "color": "#FF97FF",
          "size": {
           "bdata": "ATzI+g/fVD8=",
           "dtype": "f8"
          },
          "sizemode": "area",
          "sizeref": 0.00008457183297947629,
          "symbol": "circle"
         },
         "mode": "markers",
         "name": "Dera Ismail Khan",
         "orientation": "v",
         "showlegend": true,
         "type": "scatter",
         "x": {
          "bdata": "Pg0=",
          "dtype": "i2"
         },
         "xaxis": "x",
         "y": {
          "bdata": "AQ==",
          "dtype": "i1"
         },
         "yaxis": "y"
        },
        {
         "hovertemplate": "<b>%{hovertext}</b><br><br>city=Dera ala yar<br>sales=%{x}<br>quantity=%{y}<br>avg_quantity=%{marker.size}<extra></extra>",
         "hovertext": [
          "Dera ala yar"
         ],
         "legendgroup": "Dera ala yar",
         "marker": {
          "color": "#FECB52",
          "size": {
           "bdata": "ATzI+g/fZD8=",
           "dtype": "f8"
          },
          "sizemode": "area",
          "sizeref": 0.00008457183297947629,
          "symbol": "circle"
         },
         "mode": "markers",
         "name": "Dera ala yar",
         "orientation": "v",
         "showlegend": true,
         "type": "scatter",
         "x": {
          "bdata": "bAw=",
          "dtype": "i2"
         },
         "xaxis": "x",
         "y": {
          "bdata": "Ag==",
          "dtype": "i1"
         },
         "yaxis": "y"
        },
        {
         "hovertemplate": "<b>%{hovertext}</b><br><br>city=Dharki<br>sales=%{x}<br>quantity=%{y}<br>avg_quantity=%{marker.size}<extra></extra>",
         "hovertext": [
          "Dharki"
         ],
         "legendgroup": "Dharki",
         "marker": {
          "color": "#636efa",
          "size": {
           "bdata": "ATzI+g/fVD8=",
           "dtype": "f8"
          },
          "sizemode": "area",
          "sizeref": 0.00008457183297947629,
          "symbol": "circle"
         },
         "mode": "markers",
         "name": "Dharki",
         "orientation": "v",
         "showlegend": true,
         "type": "scatter",
         "x": {
          "bdata": "pgQ=",
          "dtype": "i2"
         },
         "xaxis": "x",
         "y": {
          "bdata": "AQ==",
          "dtype": "i1"
         },
         "yaxis": "y"
        },
        {
         "hovertemplate": "<b>%{hovertext}</b><br><br>city=Faisalabad<br>sales=%{x}<br>quantity=%{y}<br>avg_quantity=%{marker.size}<extra></extra>",
         "hovertext": [
          "Faisalabad"
         ],
         "legendgroup": "Faisalabad",
         "marker": {
          "color": "#EF553B",
          "size": {
           "bdata": "glLT+LWynD8=",
           "dtype": "f8"
          },
          "sizemode": "area",
          "sizeref": 0.00008457183297947629,
          "symbol": "circle"
         },
         "mode": "markers",
         "name": "Faisalabad",
         "orientation": "v",
         "showlegend": true,
         "type": "scatter",
         "x": {
          "bdata": "u6cAAA==",
          "dtype": "i4"
         },
         "xaxis": "x",
         "y": {
          "bdata": "Fg==",
          "dtype": "i1"
         },
         "yaxis": "y"
        },
        {
         "hovertemplate": "<b>%{hovertext}</b><br><br>city=GILGIT<br>sales=%{x}<br>quantity=%{y}<br>avg_quantity=%{marker.size}<extra></extra>",
         "hovertext": [
          "GILGIT"
         ],
         "legendgroup": "GILGIT",
         "marker": {
          "color": "#00cc96",
          "size": {
           "bdata": "ATzI+g/fZD8=",
           "dtype": "f8"
          },
          "sizemode": "area",
          "sizeref": 0.00008457183297947629,
          "symbol": "circle"
         },
         "mode": "markers",
         "name": "GILGIT",
         "orientation": "v",
         "showlegend": true,
         "type": "scatter",
         "x": {
          "bdata": "EBM=",
          "dtype": "i2"
         },
         "xaxis": "x",
         "y": {
          "bdata": "Ag==",
          "dtype": "i1"
         },
         "yaxis": "y"
        },
        {
         "hovertemplate": "<b>%{hovertext}</b><br><br>city=Ghotki<br>sales=%{x}<br>quantity=%{y}<br>avg_quantity=%{marker.size}<extra></extra>",
         "hovertext": [
          "Ghotki"
         ],
         "legendgroup": "Ghotki",
         "marker": {
          "color": "#ab63fa",
          "size": {
           "bdata": "ATzI+g/fhD8=",
           "dtype": "f8"
          },
          "sizemode": "area",
          "sizeref": 0.00008457183297947629,
          "symbol": "circle"
         },
         "mode": "markers",
         "name": "Ghotki",
         "orientation": "v",
         "showlegend": true,
         "type": "scatter",
         "x": {
          "bdata": "2Fk=",
          "dtype": "i2"
         },
         "xaxis": "x",
         "y": {
          "bdata": "CA==",
          "dtype": "i1"
         },
         "yaxis": "y"
        },
        {
         "hovertemplate": "<b>%{hovertext}</b><br><br>city=Gujar Khan<br>sales=%{x}<br>quantity=%{y}<br>avg_quantity=%{marker.size}<extra></extra>",
         "hovertext": [
          "Gujar Khan"
         ],
         "legendgroup": "Gujar Khan",
         "marker": {
          "color": "#FFA15A",
          "size": {
           "bdata": "ATzI+g/fVD8=",
           "dtype": "f8"
          },
          "sizemode": "area",
          "sizeref": 0.00008457183297947629,
          "symbol": "circle"
         },
         "mode": "markers",
         "name": "Gujar Khan",
         "orientation": "v",
         "showlegend": true,
         "type": "scatter",
         "x": {
          "bdata": "NgY=",
          "dtype": "i2"
         },
         "xaxis": "x",
         "y": {
          "bdata": "AQ==",
          "dtype": "i1"
         },
         "yaxis": "y"
        },
        {
         "hovertemplate": "<b>%{hovertext}</b><br><br>city=Gujranwala<br>sales=%{x}<br>quantity=%{y}<br>avg_quantity=%{marker.size}<extra></extra>",
         "hovertext": [
          "Gujranwala"
         ],
         "legendgroup": "Gujranwala",
         "marker": {
          "color": "#19d3f3",
          "size": {
           "bdata": "wbDC+zz1kD8=",
           "dtype": "f8"
          },
          "sizemode": "area",
          "sizeref": 0.00008457183297947629,
          "symbol": "circle"
         },
         "mode": "markers",
         "name": "Gujranwala",
         "orientation": "v",
         "showlegend": true,
         "type": "scatter",
         "x": {
          "bdata": "z3A=",
          "dtype": "i2"
         },
         "xaxis": "x",
         "y": {
          "bdata": "DQ==",
          "dtype": "i1"
         },
         "yaxis": "y"
        },
        {
         "hovertemplate": "<b>%{hovertext}</b><br><br>city=Gujrat<br>sales=%{x}<br>quantity=%{y}<br>avg_quantity=%{marker.size}<extra></extra>",
         "hovertext": [
          "Gujrat"
         ],
         "legendgroup": "Gujrat",
         "marker": {
          "color": "#FF6692",
          "size": {
           "bdata": "Alos+JdOfz8=",
           "dtype": "f8"
          },
          "sizemode": "area",
          "sizeref": 0.00008457183297947629,
          "symbol": "circle"
         },
         "mode": "markers",
         "name": "Gujrat",
         "orientation": "v",
         "showlegend": true,
         "type": "scatter",
         "x": {
          "bdata": "tCM=",
          "dtype": "i2"
         },
         "xaxis": "x",
         "y": {
          "bdata": "Bg==",
          "dtype": "i1"
         },
         "yaxis": "y"
        },
        {
         "hovertemplate": "<b>%{hovertext}</b><br><br>city=Hafizabad<br>sales=%{x}<br>quantity=%{y}<br>avg_quantity=%{marker.size}<extra></extra>",
         "hovertext": [
          "Hafizabad"
         ],
         "legendgroup": "Hafizabad",
         "marker": {
          "color": "#B6E880",
          "size": {
           "bdata": "ATzI+g/fZD8=",
           "dtype": "f8"
          },
          "sizemode": "area",
          "sizeref": 0.00008457183297947629,
          "symbol": "circle"
         },
         "mode": "markers",
         "name": "Hafizabad",
         "orientation": "v",
         "showlegend": true,
         "type": "scatter",
         "x": {
          "bdata": "/A0=",
          "dtype": "i2"
         },
         "xaxis": "x",
         "y": {
          "bdata": "Ag==",
          "dtype": "i1"
         },
         "yaxis": "y"
        },
        {
         "hovertemplate": "<b>%{hovertext}</b><br><br>city=Hasilpur<br>sales=%{x}<br>quantity=%{y}<br>avg_quantity=%{marker.size}<extra></extra>",
         "hovertext": [
          "Hasilpur"
         ],
         "legendgroup": "Hasilpur",
         "marker": {
          "color": "#FF97FF",
          "size": {
           "bdata": "ATzI+g/fVD8=",
           "dtype": "f8"
          },
          "sizemode": "area",
          "sizeref": 0.00008457183297947629,
          "symbol": "circle"
         },
         "mode": "markers",
         "name": "Hasilpur",
         "orientation": "v",
         "showlegend": true,
         "type": "scatter",
         "x": {
          "bdata": "NgY=",
          "dtype": "i2"
         },
         "xaxis": "x",
         "y": {
          "bdata": "AQ==",
          "dtype": "i1"
         },
         "yaxis": "y"
        },
        {
         "hovertemplate": "<b>%{hovertext}</b><br><br>city=Hyderabad<br>sales=%{x}<br>quantity=%{y}<br>avg_quantity=%{marker.size}<extra></extra>",
         "hovertext": [
          "Hyderabad"
         ],
         "legendgroup": "Hyderabad",
         "marker": {
          "color": "#FECB52",
          "size": {
           "bdata": "ws4m+cRkmz8=",
           "dtype": "f8"
          },
          "sizemode": "area",
          "sizeref": 0.00008457183297947629,
          "symbol": "circle"
         },
         "mode": "markers",
         "name": "Hyderabad",
         "orientation": "v",
         "showlegend": true,
         "type": "scatter",
         "x": {
          "bdata": "eY0AAA==",
          "dtype": "i4"
         },
         "xaxis": "x",
         "y": {
          "bdata": "FQ==",
          "dtype": "i1"
         },
         "yaxis": "y"
        },
        {
         "hovertemplate": "<b>%{hovertext}</b><br><br>city=Islamabad<br>sales=%{x}<br>quantity=%{y}<br>avg_quantity=%{marker.size}<extra></extra>",
         "hovertext": [
          "Islamabad"
         ],
         "legendgroup": "Islamabad",
         "marker": {
          "color": "#636efa",
          "size": {
           "bdata": "oQFLevnTtj8=",
           "dtype": "f8"
          },
          "sizemode": "area",
          "sizeref": 0.00008457183297947629,
          "symbol": "circle"
         },
         "mode": "markers",
         "name": "Islamabad",
         "orientation": "v",
         "showlegend": true,
         "type": "scatter",
         "x": {
          "bdata": "VO4BAA==",
          "dtype": "i4"
         },
         "xaxis": "x",
         "y": {
          "bdata": "Rg==",
          "dtype": "i1"
         },
         "yaxis": "y"
        },
        {
         "hovertemplate": "<b>%{hovertext}</b><br><br>city=Jampur<br>sales=%{x}<br>quantity=%{y}<br>avg_quantity=%{marker.size}<extra></extra>",
         "hovertext": [
          "Jampur"
         ],
         "legendgroup": "Jampur",
         "marker": {
          "color": "#EF553B",
          "size": {
           "bdata": "ATzI+g/fZD8=",
           "dtype": "f8"
          },
          "sizemode": "area",
          "sizeref": 0.00008457183297947629,
          "symbol": "circle"
         },
         "mode": "markers",
         "name": "Jampur",
         "orientation": "v",
         "showlegend": true,
         "type": "scatter",
         "x": {
          "bdata": "uQk=",
          "dtype": "i2"
         },
         "xaxis": "x",
         "y": {
          "bdata": "Ag==",
          "dtype": "i1"
         },
         "yaxis": "y"
        },
        {
         "hovertemplate": "<b>%{hovertext}</b><br><br>city=Jamshoro<br>sales=%{x}<br>quantity=%{y}<br>avg_quantity=%{marker.size}<extra></extra>",
         "hovertext": [
          "Jamshoro"
         ],
         "legendgroup": "Jamshoro",
         "marker": {
          "color": "#00cc96",
          "size": {
           "bdata": "ATzI+g/fVD8=",
           "dtype": "f8"
          },
          "sizemode": "area",
          "sizeref": 0.00008457183297947629,
          "symbol": "circle"
         },
         "mode": "markers",
         "name": "Jamshoro",
         "orientation": "v",
         "showlegend": true,
         "type": "scatter",
         "x": {
          "bdata": "pgQ=",
          "dtype": "i2"
         },
         "xaxis": "x",
         "y": {
          "bdata": "AQ==",
          "dtype": "i1"
         },
         "yaxis": "y"
        },
        {
         "hovertemplate": "<b>%{hovertext}</b><br><br>city=Jhelum<br>sales=%{x}<br>quantity=%{y}<br>avg_quantity=%{marker.size}<extra></extra>",
         "hovertext": [
          "Jhelum"
         ],
         "legendgroup": "Jhelum",
         "marker": {
          "color": "#ab63fa",
          "size": {
           "bdata": "Alos+JdObz8=",
           "dtype": "f8"
          },
          "sizemode": "area",
          "sizeref": 0.00008457183297947629,
          "symbol": "circle"
         },
         "mode": "markers",
         "name": "Jhelum",
         "orientation": "v",
         "showlegend": true,
         "type": "scatter",
         "x": {
          "bdata": "ShA=",
          "dtype": "i2"
         },
         "xaxis": "x",
         "y": {
          "bdata": "Aw==",
          "dtype": "i1"
         },
         "yaxis": "y"
        },
        {
         "hovertemplate": "<b>%{hovertext}</b><br><br>city=KAMBER ALI KHAN<br>sales=%{x}<br>quantity=%{y}<br>avg_quantity=%{marker.size}<extra></extra>",
         "hovertext": [
          "KAMBER ALI KHAN"
         ],
         "legendgroup": "KAMBER ALI KHAN",
         "marker": {
          "color": "#FFA15A",
          "size": {
           "bdata": "ATzI+g/fVD8=",
           "dtype": "f8"
          },
          "sizemode": "area",
          "sizeref": 0.00008457183297947629,
          "symbol": "circle"
         },
         "mode": "markers",
         "name": "KAMBER ALI KHAN",
         "orientation": "v",
         "showlegend": true,
         "type": "scatter",
         "x": {
          "bdata": "0gU=",
          "dtype": "i2"
         },
         "xaxis": "x",
         "y": {
          "bdata": "AQ==",
          "dtype": "i1"
         },
         "yaxis": "y"
        },
        {
         "hovertemplate": "<b>%{hovertext}</b><br><br>city=KHAIR PUR MEERU<br>sales=%{x}<br>quantity=%{y}<br>avg_quantity=%{marker.size}<extra></extra>",
         "hovertext": [
          "KHAIR PUR MEERU"
         ],
         "legendgroup": "KHAIR PUR MEERU",
         "marker": {
          "color": "#19d3f3",
          "size": {
           "bdata": "ATzI+g/fVD8=",
           "dtype": "f8"
          },
          "sizemode": "area",
          "sizeref": 0.00008457183297947629,
          "symbol": "circle"
         },
         "mode": "markers",
         "name": "KHAIR PUR MEERU",
         "orientation": "v",
         "showlegend": true,
         "type": "scatter",
         "x": {
          "bdata": "rwQ=",
          "dtype": "i2"
         },
         "xaxis": "x",
         "y": {
          "bdata": "AQ==",
          "dtype": "i1"
         },
         "yaxis": "y"
        },
        {
         "hovertemplate": "<b>%{hovertext}</b><br><br>city=Kabir Wala<br>sales=%{x}<br>quantity=%{y}<br>avg_quantity=%{marker.size}<extra></extra>",
         "hovertext": [
          "Kabir Wala"
         ],
         "legendgroup": "Kabir Wala",
         "marker": {
          "color": "#FF6692",
          "size": {
           "bdata": "ATzI+g/fVD8=",
           "dtype": "f8"
          },
          "sizemode": "area",
          "sizeref": 0.00008457183297947629,
          "symbol": "circle"
         },
         "mode": "markers",
         "name": "Kabir Wala",
         "orientation": "v",
         "showlegend": true,
         "type": "scatter",
         "x": {
          "bdata": "NgY=",
          "dtype": "i2"
         },
         "xaxis": "x",
         "y": {
          "bdata": "AQ==",
          "dtype": "i1"
         },
         "yaxis": "y"
        },
        {
         "hovertemplate": "<b>%{hovertext}</b><br><br>city=Kamoki<br>sales=%{x}<br>quantity=%{y}<br>avg_quantity=%{marker.size}<extra></extra>",
         "hovertext": [
          "Kamoki"
         ],
         "legendgroup": "Kamoki",
         "marker": {
          "color": "#B6E880",
          "size": {
           "bdata": "ATzI+g/fZD8=",
           "dtype": "f8"
          },
          "sizemode": "area",
          "sizeref": 0.00008457183297947629,
          "symbol": "circle"
         },
         "mode": "markers",
         "name": "Kamoki",
         "orientation": "v",
         "showlegend": true,
         "type": "scatter",
         "x": {
          "bdata": "eAo=",
          "dtype": "i2"
         },
         "xaxis": "x",
         "y": {
          "bdata": "Ag==",
          "dtype": "i1"
         },
         "yaxis": "y"
        },
        {
         "hovertemplate": "<b>%{hovertext}</b><br><br>city=Kandhkot<br>sales=%{x}<br>quantity=%{y}<br>avg_quantity=%{marker.size}<extra></extra>",
         "hovertext": [
          "Kandhkot"
         ],
         "legendgroup": "Kandhkot",
         "marker": {
          "color": "#FF97FF",
          "size": {
           "bdata": "ATzI+g/fVD8=",
           "dtype": "f8"
          },
          "sizemode": "area",
          "sizeref": 0.00008457183297947629,
          "symbol": "circle"
         },
         "mode": "markers",
         "name": "Kandhkot",
         "orientation": "v",
         "showlegend": true,
         "type": "scatter",
         "x": {
          "bdata": "0gU=",
          "dtype": "i2"
         },
         "xaxis": "x",
         "y": {
          "bdata": "AQ==",
          "dtype": "i1"
         },
         "yaxis": "y"
        },
        {
         "hovertemplate": "<b>%{hovertext}</b><br><br>city=Karachi<br>sales=%{x}<br>quantity=%{y}<br>avg_quantity=%{marker.size}<extra></extra>",
         "hovertext": [
          "Karachi"
         ],
         "legendgroup": "Karachi",
         "marker": {
          "color": "#FECB52",
          "size": {
           "bdata": "BfAg6z980z8=",
           "dtype": "f8"
          },
          "sizemode": "area",
          "sizeref": 0.00008457183297947629,
          "symbol": "circle"
         },
         "mode": "markers",
         "name": "Karachi",
         "orientation": "v",
         "showlegend": true,
         "type": "scatter",
         "x": {
          "bdata": "oWoGAA==",
          "dtype": "i4"
         },
         "xaxis": "x",
         "y": {
          "bdata": "7wA=",
          "dtype": "i2"
         },
         "yaxis": "y"
        },
        {
         "hovertemplate": "<b>%{hovertext}</b><br><br>city=Kark<br>sales=%{x}<br>quantity=%{y}<br>avg_quantity=%{marker.size}<extra></extra>",
         "hovertext": [
          "Kark"
         ],
         "legendgroup": "Kark",
         "marker": {
          "color": "#636efa",
          "size": {
           "bdata": "ATzI+g/fZD8=",
           "dtype": "f8"
          },
          "sizemode": "area",
          "sizeref": 0.00008457183297947629,
          "symbol": "circle"
         },
         "mode": "markers",
         "name": "Kark",
         "orientation": "v",
         "showlegend": true,
         "type": "scatter",
         "x": {
          "bdata": "FAo=",
          "dtype": "i2"
         },
         "xaxis": "x",
         "y": {
          "bdata": "Ag==",
          "dtype": "i1"
         },
         "yaxis": "y"
        },
        {
         "hovertemplate": "<b>%{hovertext}</b><br><br>city=Kasur<br>sales=%{x}<br>quantity=%{y}<br>avg_quantity=%{marker.size}<extra></extra>",
         "hovertext": [
          "Kasur"
         ],
         "legendgroup": "Kasur",
         "marker": {
          "color": "#EF553B",
          "size": {
           "bdata": "ATzI+g/fVD8=",
           "dtype": "f8"
          },
          "sizemode": "area",
          "sizeref": 0.00008457183297947629,
          "symbol": "circle"
         },
         "mode": "markers",
         "name": "Kasur",
         "orientation": "v",
         "showlegend": true,
         "type": "scatter",
         "x": {
          "bdata": "0gU=",
          "dtype": "i2"
         },
         "xaxis": "x",
         "y": {
          "bdata": "AQ==",
          "dtype": "i1"
         },
         "yaxis": "y"
        },
        {
         "hovertemplate": "<b>%{hovertext}</b><br><br>city=Khairpur<br>sales=%{x}<br>quantity=%{y}<br>avg_quantity=%{marker.size}<extra></extra>",
         "hovertext": [
          "Khairpur"
         ],
         "legendgroup": "Khairpur",
         "marker": {
          "color": "#00cc96",
          "size": {
           "bdata": "ATzI+g/fZD8=",
           "dtype": "f8"
          },
          "sizemode": "area",
          "sizeref": 0.00008457183297947629,
          "symbol": "circle"
         },
         "mode": "markers",
         "name": "Khairpur",
         "orientation": "v",
         "showlegend": true,
         "type": "scatter",
         "x": {
          "bdata": "CAw=",
          "dtype": "i2"
         },
         "xaxis": "x",
         "y": {
          "bdata": "Ag==",
          "dtype": "i1"
         },
         "yaxis": "y"
        },
        {
         "hovertemplate": "<b>%{hovertext}</b><br><br>city=Khanewal<br>sales=%{x}<br>quantity=%{y}<br>avg_quantity=%{marker.size}<extra></extra>",
         "hovertext": [
          "Khanewal"
         ],
         "legendgroup": "Khanewal",
         "marker": {
          "color": "#ab63fa",
          "size": {
           "bdata": "ATzI+g/fZD8=",
           "dtype": "f8"
          },
          "sizemode": "area",
          "sizeref": 0.00008457183297947629,
          "symbol": "circle"
         },
         "mode": "markers",
         "name": "Khanewal",
         "orientation": "v",
         "showlegend": true,
         "type": "scatter",
         "x": {
          "bdata": "VBA=",
          "dtype": "i2"
         },
         "xaxis": "x",
         "y": {
          "bdata": "Ag==",
          "dtype": "i1"
         },
         "yaxis": "y"
        },
        {
         "hovertemplate": "<b>%{hovertext}</b><br><br>city=Khanpur<br>sales=%{x}<br>quantity=%{y}<br>avg_quantity=%{marker.size}<extra></extra>",
         "hovertext": [
          "Khanpur"
         ],
         "legendgroup": "Khanpur",
         "marker": {
          "color": "#FFA15A",
          "size": {
           "bdata": "ATzI+g/fZD8=",
           "dtype": "f8"
          },
          "sizemode": "area",
          "sizeref": 0.00008457183297947629,
          "symbol": "circle"
         },
         "mode": "markers",
         "name": "Khanpur",
         "orientation": "v",
         "showlegend": true,
         "type": "scatter",
         "x": {
          "bdata": "8A8=",
          "dtype": "i2"
         },
         "xaxis": "x",
         "y": {
          "bdata": "Ag==",
          "dtype": "i1"
         },
         "yaxis": "y"
        },
        {
         "hovertemplate": "<b>%{hovertext}</b><br><br>city=Kharian<br>sales=%{x}<br>quantity=%{y}<br>avg_quantity=%{marker.size}<extra></extra>",
         "hovertext": [
          "Kharian"
         ],
         "legendgroup": "Kharian",
         "marker": {
          "color": "#19d3f3",
          "size": {
           "bdata": "ATzI+g/fVD8=",
           "dtype": "f8"
          },
          "sizemode": "area",
          "sizeref": 0.00008457183297947629,
          "symbol": "circle"
         },
         "mode": "markers",
         "name": "Kharian",
         "orientation": "v",
         "showlegend": true,
         "type": "scatter",
         "x": {
          "bdata": "0gU=",
          "dtype": "i2"
         },
         "xaxis": "x",
         "y": {
          "bdata": "AQ==",
          "dtype": "i1"
         },
         "yaxis": "y"
        },
        {
         "hovertemplate": "<b>%{hovertext}</b><br><br>city=Lahore<br>sales=%{x}<br>quantity=%{y}<br>avg_quantity=%{marker.size}<extra></extra>",
         "hovertext": [
          "Lahore"
         ],
         "legendgroup": "Lahore",
         "marker": {
          "color": "#FF6692",
          "size": {
           "bdata": "YpSpeK5ZzT8=",
           "dtype": "f8"
          },
          "sizemode": "area",
          "sizeref": 0.00008457183297947629,
          "symbol": "circle"
         },
         "mode": "markers",
         "name": "Lahore",
         "orientation": "v",
         "showlegend": true,
         "type": "scatter",
         "x": {
          "bdata": "3oQFAA==",
          "dtype": "i4"
         },
         "xaxis": "x",
         "y": {
          "bdata": "tAA=",
          "dtype": "i2"
         },
         "yaxis": "y"
        },
        {
         "hovertemplate": "<b>%{hovertext}</b><br><br>city=Lakki Marwat<br>sales=%{x}<br>quantity=%{y}<br>avg_quantity=%{marker.size}<extra></extra>",
         "hovertext": [
          "Lakki Marwat"
         ],
         "legendgroup": "Lakki Marwat",
         "marker": {
          "color": "#B6E880",
          "size": {
           "bdata": "ATzI+g/fVD8=",
           "dtype": "f8"
          },
          "sizemode": "area",
          "sizeref": 0.00008457183297947629,
          "symbol": "circle"
         },
         "mode": "markers",
         "name": "Lakki Marwat",
         "orientation": "v",
         "showlegend": true,
         "type": "scatter",
         "x": {
          "bdata": "CgU=",
          "dtype": "i2"
         },
         "xaxis": "x",
         "y": {
          "bdata": "AQ==",
          "dtype": "i1"
         },
         "yaxis": "y"
        },
        {
         "hovertemplate": "<b>%{hovertext}</b><br><br>city=Larkana<br>sales=%{x}<br>quantity=%{y}<br>avg_quantity=%{marker.size}<extra></extra>",
         "hovertext": [
          "Larkana"
         ],
         "legendgroup": "Larkana",
         "marker": {
          "color": "#FF97FF",
          "size": {
           "bdata": "ATzI+g/fVD8=",
           "dtype": "f8"
          },
          "sizemode": "area",
          "sizeref": 0.00008457183297947629,
          "symbol": "circle"
         },
         "mode": "markers",
         "name": "Larkana",
         "orientation": "v",
         "showlegend": true,
         "type": "scatter",
         "x": {
          "bdata": "NgY=",
          "dtype": "i2"
         },
         "xaxis": "x",
         "y": {
          "bdata": "AQ==",
          "dtype": "i1"
         },
         "yaxis": "y"
        },
        {
         "hovertemplate": "<b>%{hovertext}</b><br><br>city=Liaqatpur<br>sales=%{x}<br>quantity=%{y}<br>avg_quantity=%{marker.size}<extra></extra>",
         "hovertext": [
          "Liaqatpur"
         ],
         "legendgroup": "Liaqatpur",
         "marker": {
          "color": "#FECB52",
          "size": {
           "bdata": "ATzI+g/fVD8=",
           "dtype": "f8"
          },
          "sizemode": "area",
          "sizeref": 0.00008457183297947629,
          "symbol": "circle"
         },
         "mode": "markers",
         "name": "Liaqatpur",
         "orientation": "v",
         "showlegend": true,
         "type": "scatter",
         "x": {
          "bdata": "Pg0=",
          "dtype": "i2"
         },
         "xaxis": "x",
         "y": {
          "bdata": "AQ==",
          "dtype": "i1"
         },
         "yaxis": "y"
        },
        {
         "hovertemplate": "<b>%{hovertext}</b><br><br>city=Lodhran<br>sales=%{x}<br>quantity=%{y}<br>avg_quantity=%{marker.size}<extra></extra>",
         "hovertext": [
          "Lodhran"
         ],
         "legendgroup": "Lodhran",
         "marker": {
          "color": "#636efa",
          "size": {
           "bdata": "ATzI+g/fZD8=",
           "dtype": "f8"
          },
          "sizemode": "area",
          "sizeref": 0.00008457183297947629,
          "symbol": "circle"
         },
         "mode": "markers",
         "name": "Lodhran",
         "orientation": "v",
         "showlegend": true,
         "type": "scatter",
         "x": {
          "bdata": "GBo=",
          "dtype": "i2"
         },
         "xaxis": "x",
         "y": {
          "bdata": "Ag==",
          "dtype": "i1"
         },
         "yaxis": "y"
        },
        {
         "hovertemplate": "<b>%{hovertext}</b><br><br>city=MIRAN SHAH<br>sales=%{x}<br>quantity=%{y}<br>avg_quantity=%{marker.size}<extra></extra>",
         "hovertext": [
          "MIRAN SHAH"
         ],
         "legendgroup": "MIRAN SHAH",
         "marker": {
          "color": "#EF553B",
          "size": {
           "bdata": "ATzI+g/fVD8=",
           "dtype": "f8"
          },
          "sizemode": "area",
          "sizeref": 0.00008457183297947629,
          "symbol": "circle"
         },
         "mode": "markers",
         "name": "MIRAN SHAH",
         "orientation": "v",
         "showlegend": true,
         "type": "scatter",
         "x": {
          "bdata": "CgU=",
          "dtype": "i2"
         },
         "xaxis": "x",
         "y": {
          "bdata": "AQ==",
          "dtype": "i1"
         },
         "yaxis": "y"
        },
        {
         "hovertemplate": "<b>%{hovertext}</b><br><br>city=Mailsi<br>sales=%{x}<br>quantity=%{y}<br>avg_quantity=%{marker.size}<extra></extra>",
         "hovertext": [
          "Mailsi"
         ],
         "legendgroup": "Mailsi",
         "marker": {
          "color": "#00cc96",
          "size": {
           "bdata": "ATzI+g/fVD8=",
           "dtype": "f8"
          },
          "sizemode": "area",
          "sizeref": 0.00008457183297947629,
          "symbol": "circle"
         },
         "mode": "markers",
         "name": "Mailsi",
         "orientation": "v",
         "showlegend": true,
         "type": "scatter",
         "x": {
          "bdata": "bgU=",
          "dtype": "i2"
         },
         "xaxis": "x",
         "y": {
          "bdata": "AQ==",
          "dtype": "i1"
         },
         "yaxis": "y"
        },
        {
         "hovertemplate": "<b>%{hovertext}</b><br><br>city=Mandi Bahauddin<br>sales=%{x}<br>quantity=%{y}<br>avg_quantity=%{marker.size}<extra></extra>",
         "hovertext": [
          "Mandi Bahauddin"
         ],
         "legendgroup": "Mandi Bahauddin",
         "marker": {
          "color": "#ab63fa",
          "size": {
           "bdata": "ATzI+g/fVD8=",
           "dtype": "f8"
          },
          "sizemode": "area",
          "sizeref": 0.00008457183297947629,
          "symbol": "circle"
         },
         "mode": "markers",
         "name": "Mandi Bahauddin",
         "orientation": "v",
         "showlegend": true,
         "type": "scatter",
         "x": {
          "bdata": "3gM=",
          "dtype": "i2"
         },
         "xaxis": "x",
         "y": {
          "bdata": "AQ==",
          "dtype": "i1"
         },
         "yaxis": "y"
        },
        {
         "hovertemplate": "<b>%{hovertext}</b><br><br>city=Mansehra<br>sales=%{x}<br>quantity=%{y}<br>avg_quantity=%{marker.size}<extra></extra>",
         "hovertext": [
          "Mansehra"
         ],
         "legendgroup": "Mansehra",
         "marker": {
          "color": "#FFA15A",
          "size": {
           "bdata": "ATzI+g/fZD8=",
           "dtype": "f8"
          },
          "sizemode": "area",
          "sizeref": 0.00008457183297947629,
          "symbol": "circle"
         },
         "mode": "markers",
         "name": "Mansehra",
         "orientation": "v",
         "showlegend": true,
         "type": "scatter",
         "x": {
          "bdata": "CAw=",
          "dtype": "i2"
         },
         "xaxis": "x",
         "y": {
          "bdata": "Ag==",
          "dtype": "i1"
         },
         "yaxis": "y"
        },
        {
         "hovertemplate": "<b>%{hovertext}</b><br><br>city=Mardan<br>sales=%{x}<br>quantity=%{y}<br>avg_quantity=%{marker.size}<extra></extra>",
         "hovertext": [
          "Mardan"
         ],
         "legendgroup": "Mardan",
         "marker": {
          "color": "#19d3f3",
          "size": {
           "bdata": "Alos+JdObz8=",
           "dtype": "f8"
          },
          "sizemode": "area",
          "sizeref": 0.00008457183297947629,
          "symbol": "circle"
         },
         "mode": "markers",
         "name": "Mardan",
         "orientation": "v",
         "showlegend": true,
         "type": "scatter",
         "x": {
          "bdata": "UxA=",
          "dtype": "i2"
         },
         "xaxis": "x",
         "y": {
          "bdata": "Aw==",
          "dtype": "i1"
         },
         "yaxis": "y"
        },
        {
         "hovertemplate": "<b>%{hovertext}</b><br><br>city=Mianwali<br>sales=%{x}<br>quantity=%{y}<br>avg_quantity=%{marker.size}<extra></extra>",
         "hovertext": [
          "Mianwali"
         ],
         "legendgroup": "Mianwali",
         "marker": {
          "color": "#FF6692",
          "size": {
           "bdata": "Alos+JdObz8=",
           "dtype": "f8"
          },
          "sizemode": "area",
          "sizeref": 0.00008457183297947629,
          "symbol": "circle"
         },
         "mode": "markers",
         "name": "Mianwali",
         "orientation": "v",
         "showlegend": true,
         "type": "scatter",
         "x": {
          "bdata": "ohI=",
          "dtype": "i2"
         },
         "xaxis": "x",
         "y": {
          "bdata": "Aw==",
          "dtype": "i1"
         },
         "yaxis": "y"
        },
        {
         "hovertemplate": "<b>%{hovertext}</b><br><br>city=Mingora (swat)<br>sales=%{x}<br>quantity=%{y}<br>avg_quantity=%{marker.size}<extra></extra>",
         "hovertext": [
          "Mingora (swat)"
         ],
         "legendgroup": "Mingora (swat)",
         "marker": {
          "color": "#B6E880",
          "size": {
           "bdata": "Akt6+dMWej8=",
           "dtype": "f8"
          },
          "sizemode": "area",
          "sizeref": 0.00008457183297947629,
          "symbol": "circle"
         },
         "mode": "markers",
         "name": "Mingora (swat)",
         "orientation": "v",
         "showlegend": true,
         "type": "scatter",
         "x": {
          "bdata": "Gh0=",
          "dtype": "i2"
         },
         "xaxis": "x",
         "y": {
          "bdata": "BQ==",
          "dtype": "i1"
         },
         "yaxis": "y"
        },
        {
         "hovertemplate": "<b>%{hovertext}</b><br><br>city=Mirpur (a. K)<br>sales=%{x}<br>quantity=%{y}<br>avg_quantity=%{marker.size}<extra></extra>",
         "hovertext": [
          "Mirpur (a. K)"
         ],
         "legendgroup": "Mirpur (a. K)",
         "marker": {
          "color": "#FF97FF",
          "size": {
           "bdata": "ATzI+g/fZD8=",
           "dtype": "f8"
          },
          "sizemode": "area",
          "sizeref": 0.00008457183297947629,
          "symbol": "circle"
         },
         "mode": "markers",
         "name": "Mirpur (a. K)",
         "orientation": "v",
         "showlegend": true,
         "type": "scatter",
         "x": {
          "bdata": "3Ao=",
          "dtype": "i2"
         },
         "xaxis": "x",
         "y": {
          "bdata": "Ag==",
          "dtype": "i1"
         },
         "yaxis": "y"
        },
        {
         "hovertemplate": "<b>%{hovertext}</b><br><br>city=Mirpur Khas<br>sales=%{x}<br>quantity=%{y}<br>avg_quantity=%{marker.size}<extra></extra>",
         "hovertext": [
          "Mirpur Khas"
         ],
         "legendgroup": "Mirpur Khas",
         "marker": {
          "color": "#FECB52",
          "size": {
           "bdata": "ATzI+g/fVD8=",
           "dtype": "f8"
          },
          "sizemode": "area",
          "sizeref": 0.00008457183297947629,
          "symbol": "circle"
         },
         "mode": "markers",
         "name": "Mirpur Khas",
         "orientation": "v",
         "showlegend": true,
         "type": "scatter",
         "x": {
          "bdata": "NgY=",
          "dtype": "i2"
         },
         "xaxis": "x",
         "y": {
          "bdata": "AQ==",
          "dtype": "i1"
         },
         "yaxis": "y"
        },
        {
         "hovertemplate": "<b>%{hovertext}</b><br><br>city=Moro<br>sales=%{x}<br>quantity=%{y}<br>avg_quantity=%{marker.size}<extra></extra>",
         "hovertext": [
          "Moro"
         ],
         "legendgroup": "Moro",
         "marker": {
          "color": "#636efa",
          "size": {
           "bdata": "ATzI+g/fVD8=",
           "dtype": "f8"
          },
          "sizemode": "area",
          "sizeref": 0.00008457183297947629,
          "symbol": "circle"
         },
         "mode": "markers",
         "name": "Moro",
         "orientation": "v",
         "showlegend": true,
         "type": "scatter",
         "x": {
          "bdata": "NgY=",
          "dtype": "i2"
         },
         "xaxis": "x",
         "y": {
          "bdata": "AQ==",
          "dtype": "i1"
         },
         "yaxis": "y"
        },
        {
         "hovertemplate": "<b>%{hovertext}</b><br><br>city=Multan<br>sales=%{x}<br>quantity=%{y}<br>avg_quantity=%{marker.size}<extra></extra>",
         "hovertext": [
          "Multan"
         ],
         "legendgroup": "Multan",
         "marker": {
          "color": "#EF553B",
          "size": {
           "bdata": "wb90+gAtlj8=",
           "dtype": "f8"
          },
          "sizemode": "area",
          "sizeref": 0.00008457183297947629,
          "symbol": "circle"
         },
         "mode": "markers",
         "name": "Multan",
         "orientation": "v",
         "showlegend": true,
         "type": "scatter",
         "x": {
          "bdata": "v48AAA==",
          "dtype": "i4"
         },
         "xaxis": "x",
         "y": {
          "bdata": "EQ==",
          "dtype": "i1"
         },
         "yaxis": "y"
        },
        {
         "hovertemplate": "<b>%{hovertext}</b><br><br>city=Muzaffargarh<br>sales=%{x}<br>quantity=%{y}<br>avg_quantity=%{marker.size}<extra></extra>",
         "hovertext": [
          "Muzaffargarh"
         ],
         "legendgroup": "Muzaffargarh",
         "marker": {
          "color": "#00cc96",
          "size": {
           "bdata": "ATzI+g/fZD8=",
           "dtype": "f8"
          },
          "sizemode": "area",
          "sizeref": 0.00008457183297947629,
          "symbol": "circle"
         },
         "mode": "markers",
         "name": "Muzaffargarh",
         "orientation": "v",
         "showlegend": true,
         "type": "scatter",
         "x": {
          "bdata": "vAc=",
          "dtype": "i2"
         },
         "xaxis": "x",
         "y": {
          "bdata": "Ag==",
          "dtype": "i1"
         },
         "yaxis": "y"
        },
        {
         "hovertemplate": "<b>%{hovertext}</b><br><br>city=Nawab Shah<br>sales=%{x}<br>quantity=%{y}<br>avg_quantity=%{marker.size}<extra></extra>",
         "hovertext": [
          "Nawab Shah"
         ],
         "legendgroup": "Nawab Shah",
         "marker": {
          "color": "#ab63fa",
          "size": {
           "bdata": "ATzI+g/fVD8=",
           "dtype": "f8"
          },
          "sizemode": "area",
          "sizeref": 0.00008457183297947629,
          "symbol": "circle"
         },
         "mode": "markers",
         "name": "Nawab Shah",
         "orientation": "v",
         "showlegend": true,
         "type": "scatter",
         "x": {
          "bdata": "jgg=",
          "dtype": "i2"
         },
         "xaxis": "x",
         "y": {
          "bdata": "AQ==",
          "dtype": "i1"
         },
         "yaxis": "y"
        },
        {
         "hovertemplate": "<b>%{hovertext}</b><br><br>city=Nowshera<br>sales=%{x}<br>quantity=%{y}<br>avg_quantity=%{marker.size}<extra></extra>",
         "hovertext": [
          "Nowshera"
         ],
         "legendgroup": "Nowshera",
         "marker": {
          "color": "#FFA15A",
          "size": {
           "bdata": "ATzI+g/fdD8=",
           "dtype": "f8"
          },
          "sizemode": "area",
          "sizeref": 0.00008457183297947629,
          "symbol": "circle"
         },
         "mode": "markers",
         "name": "Nowshera",
         "orientation": "v",
         "showlegend": true,
         "type": "scatter",
         "x": {
          "bdata": "eA8=",
          "dtype": "i2"
         },
         "xaxis": "x",
         "y": {
          "bdata": "BA==",
          "dtype": "i1"
         },
         "yaxis": "y"
        },
        {
         "hovertemplate": "<b>%{hovertext}</b><br><br>city=Nowshera virkan<br>sales=%{x}<br>quantity=%{y}<br>avg_quantity=%{marker.size}<extra></extra>",
         "hovertext": [
          "Nowshera virkan"
         ],
         "legendgroup": "Nowshera virkan",
         "marker": {
          "color": "#19d3f3",
          "size": {
           "bdata": "ATzI+g/fZD8=",
           "dtype": "f8"
          },
          "sizemode": "area",
          "sizeref": 0.00008457183297947629,
          "symbol": "circle"
         },
         "mode": "markers",
         "name": "Nowshera virkan",
         "orientation": "v",
         "showlegend": true,
         "type": "scatter",
         "x": {
          "bdata": "3Ao=",
          "dtype": "i2"
         },
         "xaxis": "x",
         "y": {
          "bdata": "Ag==",
          "dtype": "i1"
         },
         "yaxis": "y"
        },
        {
         "hovertemplate": "<b>%{hovertext}</b><br><br>city=Okara<br>sales=%{x}<br>quantity=%{y}<br>avg_quantity=%{marker.size}<extra></extra>",
         "hovertext": [
          "Okara"
         ],
         "legendgroup": "Okara",
         "marker": {
          "color": "#FF6692",
          "size": {
           "bdata": "ATzI+g/fZD8=",
           "dtype": "f8"
          },
          "sizemode": "area",
          "sizeref": 0.00008457183297947629,
          "symbol": "circle"
         },
         "mode": "markers",
         "name": "Okara",
         "orientation": "v",
         "showlegend": true,
         "type": "scatter",
         "x": {
          "bdata": "+Q8=",
          "dtype": "i2"
         },
         "xaxis": "x",
         "y": {
          "bdata": "Ag==",
          "dtype": "i1"
         },
         "yaxis": "y"
        },
        {
         "hovertemplate": "<b>%{hovertext}</b><br><br>city=Pakpattan<br>sales=%{x}<br>quantity=%{y}<br>avg_quantity=%{marker.size}<extra></extra>",
         "hovertext": [
          "Pakpattan"
         ],
         "legendgroup": "Pakpattan",
         "marker": {
          "color": "#B6E880",
          "size": {
           "bdata": "ATzI+g/fVD8=",
           "dtype": "f8"
          },
          "sizemode": "area",
          "sizeref": 0.00008457183297947629,
          "symbol": "circle"
         },
         "mode": "markers",
         "name": "Pakpattan",
         "orientation": "v",
         "showlegend": true,
         "type": "scatter",
         "x": {
          "bdata": "Pg0=",
          "dtype": "i2"
         },
         "xaxis": "x",
         "y": {
          "bdata": "AQ==",
          "dtype": "i1"
         },
         "yaxis": "y"
        },
        {
         "hovertemplate": "<b>%{hovertext}</b><br><br>city=Pattoki<br>sales=%{x}<br>quantity=%{y}<br>avg_quantity=%{marker.size}<extra></extra>",
         "hovertext": [
          "Pattoki"
         ],
         "legendgroup": "Pattoki",
         "marker": {
          "color": "#FF97FF",
          "size": {
           "bdata": "ATzI+g/fVD8=",
           "dtype": "f8"
          },
          "sizemode": "area",
          "sizeref": 0.00008457183297947629,
          "symbol": "circle"
         },
         "mode": "markers",
         "name": "Pattoki",
         "orientation": "v",
         "showlegend": true,
         "type": "scatter",
         "x": {
          "bdata": "bgU=",
          "dtype": "i2"
         },
         "xaxis": "x",
         "y": {
          "bdata": "AQ==",
          "dtype": "i1"
         },
         "yaxis": "y"
        },
        {
         "hovertemplate": "<b>%{hovertext}</b><br><br>city=Peshawar<br>sales=%{x}<br>quantity=%{y}<br>avg_quantity=%{marker.size}<extra></extra>",
         "hovertext": [
          "Peshawar"
         ],
         "legendgroup": "Peshawar",
         "marker": {
          "color": "#FECB52",
          "size": {
           "bdata": "wb90+gAtlj8=",
           "dtype": "f8"
          },
          "sizemode": "area",
          "sizeref": 0.00008457183297947629,
          "symbol": "circle"
         },
         "mode": "markers",
         "name": "Peshawar",
         "orientation": "v",
         "showlegend": true,
         "type": "scatter",
         "x": {
          "bdata": "yWw=",
          "dtype": "i2"
         },
         "xaxis": "x",
         "y": {
          "bdata": "EQ==",
          "dtype": "i1"
         },
         "yaxis": "y"
        },
        {
         "hovertemplate": "<b>%{hovertext}</b><br><br>city=Pindi bhattian<br>sales=%{x}<br>quantity=%{y}<br>avg_quantity=%{marker.size}<extra></extra>",
         "hovertext": [
          "Pindi bhattian"
         ],
         "legendgroup": "Pindi bhattian",
         "marker": {
          "color": "#636efa",
          "size": {
           "bdata": "ATzI+g/fVD8=",
           "dtype": "f8"
          },
          "sizemode": "area",
          "sizeref": 0.00008457183297947629,
          "symbol": "circle"
         },
         "mode": "markers",
         "name": "Pindi bhattian",
         "orientation": "v",
         "showlegend": true,
         "type": "scatter",
         "x": {
          "bdata": "CgU=",
          "dtype": "i2"
         },
         "xaxis": "x",
         "y": {
          "bdata": "AQ==",
          "dtype": "i1"
         },
         "yaxis": "y"
        },
        {
         "hovertemplate": "<b>%{hovertext}</b><br><br>city=Quetta<br>sales=%{x}<br>quantity=%{y}<br>avg_quantity=%{marker.size}<extra></extra>",
         "hovertext": [
          "Quetta"
         ],
         "legendgroup": "Quetta",
         "marker": {
          "color": "#EF553B",
          "size": {
           "bdata": "glLT+LWyjD8=",
           "dtype": "f8"
          },
          "sizemode": "area",
          "sizeref": 0.00008457183297947629,
          "symbol": "circle"
         },
         "mode": "markers",
         "name": "Quetta",
         "orientation": "v",
         "showlegend": true,
         "type": "scatter",
         "x": {
          "bdata": "BkA=",
          "dtype": "i2"
         },
         "xaxis": "x",
         "y": {
          "bdata": "Cw==",
          "dtype": "i1"
         },
         "yaxis": "y"
        },
        {
         "hovertemplate": "<b>%{hovertext}</b><br><br>city=RENALAKHURD<br>sales=%{x}<br>quantity=%{y}<br>avg_quantity=%{marker.size}<extra></extra>",
         "hovertext": [
          "RENALAKHURD"
         ],
         "legendgroup": "RENALAKHURD",
         "marker": {
          "color": "#00cc96",
          "size": {
           "bdata": "ATzI+g/fZD8=",
           "dtype": "f8"
          },
          "sizemode": "area",
          "sizeref": 0.00008457183297947629,
          "symbol": "circle"
         },
         "mode": "markers",
         "name": "RENALAKHURD",
         "orientation": "v",
         "showlegend": true,
         "type": "scatter",
         "x": {
          "bdata": "UBk=",
          "dtype": "i2"
         },
         "xaxis": "x",
         "y": {
          "bdata": "Ag==",
          "dtype": "i1"
         },
         "yaxis": "y"
        },
        {
         "hovertemplate": "<b>%{hovertext}</b><br><br>city=Rahim yar khan<br>sales=%{x}<br>quantity=%{y}<br>avg_quantity=%{marker.size}<extra></extra>",
         "hovertext": [
          "Rahim yar khan"
         ],
         "legendgroup": "Rahim yar khan",
         "marker": {
          "color": "#ab63fa",
          "size": {
           "bdata": "ATzI+g/fdD8=",
           "dtype": "f8"
          },
          "sizemode": "area",
          "sizeref": 0.00008457183297947629,
          "symbol": "circle"
         },
         "mode": "markers",
         "name": "Rahim yar khan",
         "orientation": "v",
         "showlegend": true,
         "type": "scatter",
         "x": {
          "bdata": "ayU=",
          "dtype": "i2"
         },
         "xaxis": "x",
         "y": {
          "bdata": "BA==",
          "dtype": "i1"
         },
         "yaxis": "y"
        },
        {
         "hovertemplate": "<b>%{hovertext}</b><br><br>city=Raiwind<br>sales=%{x}<br>quantity=%{y}<br>avg_quantity=%{marker.size}<extra></extra>",
         "hovertext": [
          "Raiwind"
         ],
         "legendgroup": "Raiwind",
         "marker": {
          "color": "#FFA15A",
          "size": {
           "bdata": "ATzI+g/fZD8=",
           "dtype": "f8"
          },
          "sizemode": "area",
          "sizeref": 0.00008457183297947629,
          "symbol": "circle"
         },
         "mode": "markers",
         "name": "Raiwind",
         "orientation": "v",
         "showlegend": true,
         "type": "scatter",
         "x": {
          "bdata": "QAs=",
          "dtype": "i2"
         },
         "xaxis": "x",
         "y": {
          "bdata": "Ag==",
          "dtype": "i1"
         },
         "yaxis": "y"
        },
        {
         "hovertemplate": "<b>%{hovertext}</b><br><br>city=Rawalpindi<br>sales=%{x}<br>quantity=%{y}<br>avg_quantity=%{marker.size}<extra></extra>",
         "hovertext": [
          "Rawalpindi"
         ],
         "legendgroup": "Rawalpindi",
         "marker": {
          "color": "#19d3f3",
          "size": {
           "bdata": "YpSpeK5ZrT8=",
           "dtype": "f8"
          },
          "sizemode": "area",
          "sizeref": 0.00008457183297947629,
          "symbol": "circle"
         },
         "mode": "markers",
         "name": "Rawalpindi",
         "orientation": "v",
         "showlegend": true,
         "type": "scatter",
         "x": {
          "bdata": "JTsBAA==",
          "dtype": "i4"
         },
         "xaxis": "x",
         "y": {
          "bdata": "LQ==",
          "dtype": "i1"
         },
         "yaxis": "y"
        },
        {
         "hovertemplate": "<b>%{hovertext}</b><br><br>city=Retra<br>sales=%{x}<br>quantity=%{y}<br>avg_quantity=%{marker.size}<extra></extra>",
         "hovertext": [
          "Retra"
         ],
         "legendgroup": "Retra",
         "marker": {
          "color": "#FF6692",
          "size": {
           "bdata": "ATzI+g/fVD8=",
           "dtype": "f8"
          },
          "sizemode": "area",
          "sizeref": 0.00008457183297947629,
          "symbol": "circle"
         },
         "mode": "markers",
         "name": "Retra",
         "orientation": "v",
         "showlegend": true,
         "type": "scatter",
         "x": {
          "bdata": "gwM=",
          "dtype": "i2"
         },
         "xaxis": "x",
         "y": {
          "bdata": "AQ==",
          "dtype": "i1"
         },
         "yaxis": "y"
        },
        {
         "hovertemplate": "<b>%{hovertext}</b><br><br>city=SANGHAR<br>sales=%{x}<br>quantity=%{y}<br>avg_quantity=%{marker.size}<extra></extra>",
         "hovertext": [
          "SANGHAR"
         ],
         "legendgroup": "SANGHAR",
         "marker": {
          "color": "#B6E880",
          "size": {
           "bdata": "ATzI+g/fVD8=",
           "dtype": "f8"
          },
          "sizemode": "area",
          "sizeref": 0.00008457183297947629,
          "symbol": "circle"
         },
         "mode": "markers",
         "name": "SANGHAR",
         "orientation": "v",
         "showlegend": true,
         "type": "scatter",
         "x": {
          "bdata": "NgY=",
          "dtype": "i2"
         },
         "xaxis": "x",
         "y": {
          "bdata": "AQ==",
          "dtype": "i1"
         },
         "yaxis": "y"
        },
        {
         "hovertemplate": "<b>%{hovertext}</b><br><br>city=Sadiqabad<br>sales=%{x}<br>quantity=%{y}<br>avg_quantity=%{marker.size}<extra></extra>",
         "hovertext": [
          "Sadiqabad"
         ],
         "legendgroup": "Sadiqabad",
         "marker": {
          "color": "#FF97FF",
          "size": {
           "bdata": "ATzI+g/fZD8=",
           "dtype": "f8"
          },
          "sizemode": "area",
          "sizeref": 0.00008457183297947629,
          "symbol": "circle"
         },
         "mode": "markers",
         "name": "Sadiqabad",
         "orientation": "v",
         "showlegend": true,
         "type": "scatter",
         "x": {
          "bdata": "sAk=",
          "dtype": "i2"
         },
         "xaxis": "x",
         "y": {
          "bdata": "Ag==",
          "dtype": "i1"
         },
         "yaxis": "y"
        },
        {
         "hovertemplate": "<b>%{hovertext}</b><br><br>city=Sahiwal<br>sales=%{x}<br>quantity=%{y}<br>avg_quantity=%{marker.size}<extra></extra>",
         "hovertext": [
          "Sahiwal"
         ],
         "legendgroup": "Sahiwal",
         "marker": {
          "color": "#FECB52",
          "size": {
           "bdata": "Alos+JdOfz8=",
           "dtype": "f8"
          },
          "sizemode": "area",
          "sizeref": 0.00008457183297947629,
          "symbol": "circle"
         },
         "mode": "markers",
         "name": "Sahiwal",
         "orientation": "v",
         "showlegend": true,
         "type": "scatter",
         "x": {
          "bdata": "JCI=",
          "dtype": "i2"
         },
         "xaxis": "x",
         "y": {
          "bdata": "Bg==",
          "dtype": "i1"
         },
         "yaxis": "y"
        },
        {
         "hovertemplate": "<b>%{hovertext}</b><br><br>city=Sambrial<br>sales=%{x}<br>quantity=%{y}<br>avg_quantity=%{marker.size}<extra></extra>",
         "hovertext": [
          "Sambrial"
         ],
         "legendgroup": "Sambrial",
         "marker": {
          "color": "#636efa",
          "size": {
           "bdata": "ATzI+g/fVD8=",
           "dtype": "f8"
          },
          "sizemode": "area",
          "sizeref": 0.00008457183297947629,
          "symbol": "circle"
         },
         "mode": "markers",
         "name": "Sambrial",
         "orientation": "v",
         "showlegend": true,
         "type": "scatter",
         "x": {
          "bdata": "gwM=",
          "dtype": "i2"
         },
         "xaxis": "x",
         "y": {
          "bdata": "AQ==",
          "dtype": "i1"
         },
         "yaxis": "y"
        },
        {
         "hovertemplate": "<b>%{hovertext}</b><br><br>city=Sargodha<br>sales=%{x}<br>quantity=%{y}<br>avg_quantity=%{marker.size}<extra></extra>",
         "hovertext": [
          "Sargodha"
         ],
         "legendgroup": "Sargodha",
         "marker": {
          "color": "#EF553B",
          "size": {
           "bdata": "Alos+JdObz8=",
           "dtype": "f8"
          },
          "sizemode": "area",
          "sizeref": 0.00008457183297947629,
          "symbol": "circle"
         },
         "mode": "markers",
         "name": "Sargodha",
         "orientation": "v",
         "showlegend": true,
         "type": "scatter",
         "x": {
          "bdata": "Hg8=",
          "dtype": "i2"
         },
         "xaxis": "x",
         "y": {
          "bdata": "Aw==",
          "dtype": "i1"
         },
         "yaxis": "y"
        },
        {
         "hovertemplate": "<b>%{hovertext}</b><br><br>city=Sehwan<br>sales=%{x}<br>quantity=%{y}<br>avg_quantity=%{marker.size}<extra></extra>",
         "hovertext": [
          "Sehwan"
         ],
         "legendgroup": "Sehwan",
         "marker": {
          "color": "#00cc96",
          "size": {
           "bdata": "ATzI+g/fVD8=",
           "dtype": "f8"
          },
          "sizemode": "area",
          "sizeref": 0.00008457183297947629,
          "symbol": "circle"
         },
         "mode": "markers",
         "name": "Sehwan",
         "orientation": "v",
         "showlegend": true,
         "type": "scatter",
         "x": {
          "bdata": "NgY=",
          "dtype": "i2"
         },
         "xaxis": "x",
         "y": {
          "bdata": "AQ==",
          "dtype": "i1"
         },
         "yaxis": "y"
        },
        {
         "hovertemplate": "<b>%{hovertext}</b><br><br>city=Sheikhupura<br>sales=%{x}<br>quantity=%{y}<br>avg_quantity=%{marker.size}<extra></extra>",
         "hovertext": [
          "Sheikhupura"
         ],
         "legendgroup": "Sheikhupura",
         "marker": {
          "color": "#ab63fa",
          "size": {
           "bdata": "ATzI+g/fdD8=",
           "dtype": "f8"
          },
          "sizemode": "area",
          "sizeref": 0.00008457183297947629,
          "symbol": "circle"
         },
         "mode": "markers",
         "name": "Sheikhupura",
         "orientation": "v",
         "showlegend": true,
         "type": "scatter",
         "x": {
          "bdata": "PhI=",
          "dtype": "i2"
         },
         "xaxis": "x",
         "y": {
          "bdata": "BA==",
          "dtype": "i1"
         },
         "yaxis": "y"
        },
        {
         "hovertemplate": "<b>%{hovertext}</b><br><br>city=Shikarpur<br>sales=%{x}<br>quantity=%{y}<br>avg_quantity=%{marker.size}<extra></extra>",
         "hovertext": [
          "Shikarpur"
         ],
         "legendgroup": "Shikarpur",
         "marker": {
          "color": "#FFA15A",
          "size": {
           "bdata": "ATzI+g/fVD8=",
           "dtype": "f8"
          },
          "sizemode": "area",
          "sizeref": 0.00008457183297947629,
          "symbol": "circle"
         },
         "mode": "markers",
         "name": "Shikarpur",
         "orientation": "v",
         "showlegend": true,
         "type": "scatter",
         "x": {
          "bdata": "bgU=",
          "dtype": "i2"
         },
         "xaxis": "x",
         "y": {
          "bdata": "AQ==",
          "dtype": "i1"
         },
         "yaxis": "y"
        },
        {
         "hovertemplate": "<b>%{hovertext}</b><br><br>city=Shorkot Cantt.<br>sales=%{x}<br>quantity=%{y}<br>avg_quantity=%{marker.size}<extra></extra>",
         "hovertext": [
          "Shorkot Cantt."
         ],
         "legendgroup": "Shorkot Cantt.",
         "marker": {
          "color": "#19d3f3",
          "size": {
           "bdata": "ATzI+g/fVD8=",
           "dtype": "f8"
          },
          "sizemode": "area",
          "sizeref": 0.00008457183297947629,
          "symbol": "circle"
         },
         "mode": "markers",
         "name": "Shorkot Cantt.",
         "orientation": "v",
         "showlegend": true,
         "type": "scatter",
         "x": {
          "bdata": "pgQ=",
          "dtype": "i2"
         },
         "xaxis": "x",
         "y": {
          "bdata": "AQ==",
          "dtype": "i1"
         },
         "yaxis": "y"
        },
        {
         "hovertemplate": "<b>%{hovertext}</b><br><br>city=Sialkot<br>sales=%{x}<br>quantity=%{y}<br>avg_quantity=%{marker.size}<extra></extra>",
         "hovertext": [
          "Sialkot"
         ],
         "legendgroup": "Sialkot",
         "marker": {
          "color": "#FF6692",
          "size": {
           "bdata": "Akt6+dMWmj8=",
           "dtype": "f8"
          },
          "sizemode": "area",
          "sizeref": 0.00008457183297947629,
          "symbol": "circle"
         },
         "mode": "markers",
         "name": "Sialkot",
         "orientation": "v",
         "showlegend": true,
         "type": "scatter",
         "x": {
          "bdata": "j4sAAA==",
          "dtype": "i4"
         },
         "xaxis": "x",
         "y": {
          "bdata": "FA==",
          "dtype": "i1"
         },
         "yaxis": "y"
        },
        {
         "hovertemplate": "<b>%{hovertext}</b><br><br>city=Sukkur<br>sales=%{x}<br>quantity=%{y}<br>avg_quantity=%{marker.size}<extra></extra>",
         "hovertext": [
          "Sukkur"
         ],
         "legendgroup": "Sukkur",
         "marker": {
          "color": "#B6E880",
          "size": {
           "bdata": "ATzI+g/fZD8=",
           "dtype": "f8"
          },
          "sizemode": "area",
          "sizeref": 0.00008457183297947629,
          "symbol": "circle"
         },
         "mode": "markers",
         "name": "Sukkur",
         "orientation": "v",
         "showlegend": true,
         "type": "scatter",
         "x": {
          "bdata": "CAw=",
          "dtype": "i2"
         },
         "xaxis": "x",
         "y": {
          "bdata": "Ag==",
          "dtype": "i1"
         },
         "yaxis": "y"
        },
        {
         "hovertemplate": "<b>%{hovertext}</b><br><br>city=Swabi<br>sales=%{x}<br>quantity=%{y}<br>avg_quantity=%{marker.size}<extra></extra>",
         "hovertext": [
          "Swabi"
         ],
         "legendgroup": "Swabi",
         "marker": {
          "color": "#FF97FF",
          "size": {
           "bdata": "ATzI+g/fZD8=",
           "dtype": "f8"
          },
          "sizemode": "area",
          "sizeref": 0.00008457183297947629,
          "symbol": "circle"
         },
         "mode": "markers",
         "name": "Swabi",
         "orientation": "v",
         "showlegend": true,
         "type": "scatter",
         "x": {
          "bdata": "uQk=",
          "dtype": "i2"
         },
         "xaxis": "x",
         "y": {
          "bdata": "Ag==",
          "dtype": "i1"
         },
         "yaxis": "y"
        },
        {
         "hovertemplate": "<b>%{hovertext}</b><br><br>city=Tando Adam<br>sales=%{x}<br>quantity=%{y}<br>avg_quantity=%{marker.size}<extra></extra>",
         "hovertext": [
          "Tando Adam"
         ],
         "legendgroup": "Tando Adam",
         "marker": {
          "color": "#FECB52",
          "size": {
           "bdata": "ATzI+g/fZD8=",
           "dtype": "f8"
          },
          "sizemode": "area",
          "sizeref": 0.00008457183297947629,
          "symbol": "circle"
         },
         "mode": "markers",
         "name": "Tando Adam",
         "orientation": "v",
         "showlegend": true,
         "type": "scatter",
         "x": {
          "bdata": "xA4=",
          "dtype": "i2"
         },
         "xaxis": "x",
         "y": {
          "bdata": "Ag==",
          "dtype": "i1"
         },
         "yaxis": "y"
        },
        {
         "hovertemplate": "<b>%{hovertext}</b><br><br>city=Tando ala yar<br>sales=%{x}<br>quantity=%{y}<br>avg_quantity=%{marker.size}<extra></extra>",
         "hovertext": [
          "Tando ala yar"
         ],
         "legendgroup": "Tando ala yar",
         "marker": {
          "color": "#636efa",
          "size": {
           "bdata": "ATzI+g/fVD8=",
           "dtype": "f8"
          },
          "sizemode": "area",
          "sizeref": 0.00008457183297947629,
          "symbol": "circle"
         },
         "mode": "markers",
         "name": "Tando ala yar",
         "orientation": "v",
         "showlegend": true,
         "type": "scatter",
         "x": {
          "bdata": "NgY=",
          "dtype": "i2"
         },
         "xaxis": "x",
         "y": {
          "bdata": "AQ==",
          "dtype": "i1"
         },
         "yaxis": "y"
        },
        {
         "hovertemplate": "<b>%{hovertext}</b><br><br>city=Taxila<br>sales=%{x}<br>quantity=%{y}<br>avg_quantity=%{marker.size}<extra></extra>",
         "hovertext": [
          "Taxila"
         ],
         "legendgroup": "Taxila",
         "marker": {
          "color": "#EF553B",
          "size": {
           "bdata": "ATzI+g/fZD8=",
           "dtype": "f8"
          },
          "sizemode": "area",
          "sizeref": 0.00008457183297947629,
          "symbol": "circle"
         },
         "mode": "markers",
         "name": "Taxila",
         "orientation": "v",
         "showlegend": true,
         "type": "scatter",
         "x": {
          "bdata": "KA8=",
          "dtype": "i2"
         },
         "xaxis": "x",
         "y": {
          "bdata": "Ag==",
          "dtype": "i1"
         },
         "yaxis": "y"
        },
        {
         "hovertemplate": "<b>%{hovertext}</b><br><br>city=Toba Tek Sing<br>sales=%{x}<br>quantity=%{y}<br>avg_quantity=%{marker.size}<extra></extra>",
         "hovertext": [
          "Toba Tek Sing"
         ],
         "legendgroup": "Toba Tek Sing",
         "marker": {
          "color": "#00cc96",
          "size": {
           "bdata": "ATzI+g/fZD8=",
           "dtype": "f8"
          },
          "sizemode": "area",
          "sizeref": 0.00008457183297947629,
          "symbol": "circle"
         },
         "mode": "markers",
         "name": "Toba Tek Sing",
         "orientation": "v",
         "showlegend": true,
         "type": "scatter",
         "x": {
          "bdata": "vAc=",
          "dtype": "i2"
         },
         "xaxis": "x",
         "y": {
          "bdata": "Ag==",
          "dtype": "i1"
         },
         "yaxis": "y"
        },
        {
         "hovertemplate": "<b>%{hovertext}</b><br><br>city=Turbat<br>sales=%{x}<br>quantity=%{y}<br>avg_quantity=%{marker.size}<extra></extra>",
         "hovertext": [
          "Turbat"
         ],
         "legendgroup": "Turbat",
         "marker": {
          "color": "#ab63fa",
          "size": {
           "bdata": "ATzI+g/fZD8=",
           "dtype": "f8"
          },
          "sizemode": "area",
          "sizeref": 0.00008457183297947629,
          "symbol": "circle"
         },
         "mode": "markers",
         "name": "Turbat",
         "orientation": "v",
         "showlegend": true,
         "type": "scatter",
         "x": {
          "bdata": "CAw=",
          "dtype": "i2"
         },
         "xaxis": "x",
         "y": {
          "bdata": "Ag==",
          "dtype": "i1"
         },
         "yaxis": "y"
        },
        {
         "hovertemplate": "<b>%{hovertext}</b><br><br>city=Vehari<br>sales=%{x}<br>quantity=%{y}<br>avg_quantity=%{marker.size}<extra></extra>",
         "hovertext": [
          "Vehari"
         ],
         "legendgroup": "Vehari",
         "marker": {
          "color": "#FFA15A",
          "size": {
           "bdata": "ATzI+g/fVD8=",
           "dtype": "f8"
          },
          "sizemode": "area",
          "sizeref": 0.00008457183297947629,
          "symbol": "circle"
         },
         "mode": "markers",
         "name": "Vehari",
         "orientation": "v",
         "showlegend": true,
         "type": "scatter",
         "x": {
          "bdata": "Hgo=",
          "dtype": "i2"
         },
         "xaxis": "x",
         "y": {
          "bdata": "AQ==",
          "dtype": "i1"
         },
         "yaxis": "y"
        },
        {
         "hovertemplate": "<b>%{hovertext}</b><br><br>city=Wah Cantt<br>sales=%{x}<br>quantity=%{y}<br>avg_quantity=%{marker.size}<extra></extra>",
         "hovertext": [
          "Wah Cantt"
         ],
         "legendgroup": "Wah Cantt",
         "marker": {
          "color": "#19d3f3",
          "size": {
           "bdata": "Alos+JdOfz8=",
           "dtype": "f8"
          },
          "sizemode": "area",
          "sizeref": 0.00008457183297947629,
          "symbol": "circle"
         },
         "mode": "markers",
         "name": "Wah Cantt",
         "orientation": "v",
         "showlegend": true,
         "type": "scatter",
         "x": {
          "bdata": "FC0=",
          "dtype": "i2"
         },
         "xaxis": "x",
         "y": {
          "bdata": "Bg==",
          "dtype": "i1"
         },
         "yaxis": "y"
        },
        {
         "hovertemplate": "<b>%{hovertext}</b><br><br>city=Zaida<br>sales=%{x}<br>quantity=%{y}<br>avg_quantity=%{marker.size}<extra></extra>",
         "hovertext": [
          "Zaida"
         ],
         "legendgroup": "Zaida",
         "marker": {
          "color": "#FF6692",
          "size": {
           "bdata": "ATzI+g/fVD8=",
           "dtype": "f8"
          },
          "sizemode": "area",
          "sizeref": 0.00008457183297947629,
          "symbol": "circle"
         },
         "mode": "markers",
         "name": "Zaida",
         "orientation": "v",
         "showlegend": true,
         "type": "scatter",
         "x": {
          "bdata": "gwM=",
          "dtype": "i2"
         },
         "xaxis": "x",
         "y": {
          "bdata": "AQ==",
          "dtype": "i1"
         },
         "yaxis": "y"
        },
        {
         "hovertemplate": "<b>%{hovertext}</b><br><br>city=bannu<br>sales=%{x}<br>quantity=%{y}<br>avg_quantity=%{marker.size}<extra></extra>",
         "hovertext": [
          "bannu"
         ],
         "legendgroup": "bannu",
         "marker": {
          "color": "#B6E880",
          "size": {
           "bdata": "ATzI+g/fVD8=",
           "dtype": "f8"
          },
          "sizemode": "area",
          "sizeref": 0.00008457183297947629,
          "symbol": "circle"
         },
         "mode": "markers",
         "name": "bannu",
         "orientation": "v",
         "showlegend": true,
         "type": "scatter",
         "x": {
          "bdata": "5wM=",
          "dtype": "i2"
         },
         "xaxis": "x",
         "y": {
          "bdata": "AQ==",
          "dtype": "i1"
         },
         "yaxis": "y"
        },
        {
         "hovertemplate": "<b>%{hovertext}</b><br><br>city=kot addu<br>sales=%{x}<br>quantity=%{y}<br>avg_quantity=%{marker.size}<extra></extra>",
         "hovertext": [
          "kot addu"
         ],
         "legendgroup": "kot addu",
         "marker": {
          "color": "#FF97FF",
          "size": {
           "bdata": "ATzI+g/fVD8=",
           "dtype": "f8"
          },
          "sizemode": "area",
          "sizeref": 0.00008457183297947629,
          "symbol": "circle"
         },
         "mode": "markers",
         "name": "kot addu",
         "orientation": "v",
         "showlegend": true,
         "type": "scatter",
         "x": {
          "bdata": "/gY=",
          "dtype": "i2"
         },
         "xaxis": "x",
         "y": {
          "bdata": "AQ==",
          "dtype": "i1"
         },
         "yaxis": "y"
        },
        {
         "hovertemplate": "<b>%{hovertext}</b><br><br>city=کھڈیاں خاص<br>sales=%{x}<br>quantity=%{y}<br>avg_quantity=%{marker.size}<extra></extra>",
         "hovertext": [
          "کھڈیاں خاص"
         ],
         "legendgroup": "کھڈیاں خاص",
         "marker": {
          "color": "#FECB52",
          "size": {
           "bdata": "ATzI+g/fVD8=",
           "dtype": "f8"
          },
          "sizemode": "area",
          "sizeref": 0.00008457183297947629,
          "symbol": "circle"
         },
         "mode": "markers",
         "name": "کھڈیاں خاص",
         "orientation": "v",
         "showlegend": true,
         "type": "scatter",
         "x": {
          "bdata": "NgY=",
          "dtype": "i2"
         },
         "xaxis": "x",
         "y": {
          "bdata": "AQ==",
          "dtype": "i1"
         },
         "yaxis": "y"
        }
       ],
       "layout": {
        "legend": {
         "itemsizing": "constant",
         "title": {
          "text": "city"
         },
         "tracegroupgap": 0
        },
        "template": {
         "data": {
          "bar": [
           {
            "error_x": {
             "color": "#2a3f5f"
            },
            "error_y": {
             "color": "#2a3f5f"
            },
            "marker": {
             "line": {
              "color": "#E5ECF6",
              "width": 0.5
             },
             "pattern": {
              "fillmode": "overlay",
              "size": 10,
              "solidity": 0.2
             }
            },
            "type": "bar"
           }
          ],
          "barpolar": [
           {
            "marker": {
             "line": {
              "color": "#E5ECF6",
              "width": 0.5
             },
             "pattern": {
              "fillmode": "overlay",
              "size": 10,
              "solidity": 0.2
             }
            },
            "type": "barpolar"
           }
          ],
          "carpet": [
           {
            "aaxis": {
             "endlinecolor": "#2a3f5f",
             "gridcolor": "white",
             "linecolor": "white",
             "minorgridcolor": "white",
             "startlinecolor": "#2a3f5f"
            },
            "baxis": {
             "endlinecolor": "#2a3f5f",
             "gridcolor": "white",
             "linecolor": "white",
             "minorgridcolor": "white",
             "startlinecolor": "#2a3f5f"
            },
            "type": "carpet"
           }
          ],
          "choropleth": [
           {
            "colorbar": {
             "outlinewidth": 0,
             "ticks": ""
            },
            "type": "choropleth"
           }
          ],
          "contour": [
           {
            "colorbar": {
             "outlinewidth": 0,
             "ticks": ""
            },
            "colorscale": [
             [
              0,
              "#0d0887"
             ],
             [
              0.1111111111111111,
              "#46039f"
             ],
             [
              0.2222222222222222,
              "#7201a8"
             ],
             [
              0.3333333333333333,
              "#9c179e"
             ],
             [
              0.4444444444444444,
              "#bd3786"
             ],
             [
              0.5555555555555556,
              "#d8576b"
             ],
             [
              0.6666666666666666,
              "#ed7953"
             ],
             [
              0.7777777777777778,
              "#fb9f3a"
             ],
             [
              0.8888888888888888,
              "#fdca26"
             ],
             [
              1,
              "#f0f921"
             ]
            ],
            "type": "contour"
           }
          ],
          "contourcarpet": [
           {
            "colorbar": {
             "outlinewidth": 0,
             "ticks": ""
            },
            "type": "contourcarpet"
           }
          ],
          "heatmap": [
           {
            "colorbar": {
             "outlinewidth": 0,
             "ticks": ""
            },
            "colorscale": [
             [
              0,
              "#0d0887"
             ],
             [
              0.1111111111111111,
              "#46039f"
             ],
             [
              0.2222222222222222,
              "#7201a8"
             ],
             [
              0.3333333333333333,
              "#9c179e"
             ],
             [
              0.4444444444444444,
              "#bd3786"
             ],
             [
              0.5555555555555556,
              "#d8576b"
             ],
             [
              0.6666666666666666,
              "#ed7953"
             ],
             [
              0.7777777777777778,
              "#fb9f3a"
             ],
             [
              0.8888888888888888,
              "#fdca26"
             ],
             [
              1,
              "#f0f921"
             ]
            ],
            "type": "heatmap"
           }
          ],
          "histogram": [
           {
            "marker": {
             "pattern": {
              "fillmode": "overlay",
              "size": 10,
              "solidity": 0.2
             }
            },
            "type": "histogram"
           }
          ],
          "histogram2d": [
           {
            "colorbar": {
             "outlinewidth": 0,
             "ticks": ""
            },
            "colorscale": [
             [
              0,
              "#0d0887"
             ],
             [
              0.1111111111111111,
              "#46039f"
             ],
             [
              0.2222222222222222,
              "#7201a8"
             ],
             [
              0.3333333333333333,
              "#9c179e"
             ],
             [
              0.4444444444444444,
              "#bd3786"
             ],
             [
              0.5555555555555556,
              "#d8576b"
             ],
             [
              0.6666666666666666,
              "#ed7953"
             ],
             [
              0.7777777777777778,
              "#fb9f3a"
             ],
             [
              0.8888888888888888,
              "#fdca26"
             ],
             [
              1,
              "#f0f921"
             ]
            ],
            "type": "histogram2d"
           }
          ],
          "histogram2dcontour": [
           {
            "colorbar": {
             "outlinewidth": 0,
             "ticks": ""
            },
            "colorscale": [
             [
              0,
              "#0d0887"
             ],
             [
              0.1111111111111111,
              "#46039f"
             ],
             [
              0.2222222222222222,
              "#7201a8"
             ],
             [
              0.3333333333333333,
              "#9c179e"
             ],
             [
              0.4444444444444444,
              "#bd3786"
             ],
             [
              0.5555555555555556,
              "#d8576b"
             ],
             [
              0.6666666666666666,
              "#ed7953"
             ],
             [
              0.7777777777777778,
              "#fb9f3a"
             ],
             [
              0.8888888888888888,
              "#fdca26"
             ],
             [
              1,
              "#f0f921"
             ]
            ],
            "type": "histogram2dcontour"
           }
          ],
          "mesh3d": [
           {
            "colorbar": {
             "outlinewidth": 0,
             "ticks": ""
            },
            "type": "mesh3d"
           }
          ],
          "parcoords": [
           {
            "line": {
             "colorbar": {
              "outlinewidth": 0,
              "ticks": ""
             }
            },
            "type": "parcoords"
           }
          ],
          "pie": [
           {
            "automargin": true,
            "type": "pie"
           }
          ],
          "scatter": [
           {
            "fillpattern": {
             "fillmode": "overlay",
             "size": 10,
             "solidity": 0.2
            },
            "type": "scatter"
           }
          ],
          "scatter3d": [
           {
            "line": {
             "colorbar": {
              "outlinewidth": 0,
              "ticks": ""
             }
            },
            "marker": {
             "colorbar": {
              "outlinewidth": 0,
              "ticks": ""
             }
            },
            "type": "scatter3d"
           }
          ],
          "scattercarpet": [
           {
            "marker": {
             "colorbar": {
              "outlinewidth": 0,
              "ticks": ""
             }
            },
            "type": "scattercarpet"
           }
          ],
          "scattergeo": [
           {
            "marker": {
             "colorbar": {
              "outlinewidth": 0,
              "ticks": ""
             }
            },
            "type": "scattergeo"
           }
          ],
          "scattergl": [
           {
            "marker": {
             "colorbar": {
              "outlinewidth": 0,
              "ticks": ""
             }
            },
            "type": "scattergl"
           }
          ],
          "scattermap": [
           {
            "marker": {
             "colorbar": {
              "outlinewidth": 0,
              "ticks": ""
             }
            },
            "type": "scattermap"
           }
          ],
          "scattermapbox": [
           {
            "marker": {
             "colorbar": {
              "outlinewidth": 0,
              "ticks": ""
             }
            },
            "type": "scattermapbox"
           }
          ],
          "scatterpolar": [
           {
            "marker": {
             "colorbar": {
              "outlinewidth": 0,
              "ticks": ""
             }
            },
            "type": "scatterpolar"
           }
          ],
          "scatterpolargl": [
           {
            "marker": {
             "colorbar": {
              "outlinewidth": 0,
              "ticks": ""
             }
            },
            "type": "scatterpolargl"
           }
          ],
          "scatterternary": [
           {
            "marker": {
             "colorbar": {
              "outlinewidth": 0,
              "ticks": ""
             }
            },
            "type": "scatterternary"
           }
          ],
          "surface": [
           {
            "colorbar": {
             "outlinewidth": 0,
             "ticks": ""
            },
            "colorscale": [
             [
              0,
              "#0d0887"
             ],
             [
              0.1111111111111111,
              "#46039f"
             ],
             [
              0.2222222222222222,
              "#7201a8"
             ],
             [
              0.3333333333333333,
              "#9c179e"
             ],
             [
              0.4444444444444444,
              "#bd3786"
             ],
             [
              0.5555555555555556,
              "#d8576b"
             ],
             [
              0.6666666666666666,
              "#ed7953"
             ],
             [
              0.7777777777777778,
              "#fb9f3a"
             ],
             [
              0.8888888888888888,
              "#fdca26"
             ],
             [
              1,
              "#f0f921"
             ]
            ],
            "type": "surface"
           }
          ],
          "table": [
           {
            "cells": {
             "fill": {
              "color": "#EBF0F8"
             },
             "line": {
              "color": "white"
             }
            },
            "header": {
             "fill": {
              "color": "#C8D4E3"
             },
             "line": {
              "color": "white"
             }
            },
            "type": "table"
           }
          ]
         },
         "layout": {
          "annotationdefaults": {
           "arrowcolor": "#2a3f5f",
           "arrowhead": 0,
           "arrowwidth": 1
          },
          "autotypenumbers": "strict",
          "coloraxis": {
           "colorbar": {
            "outlinewidth": 0,
            "ticks": ""
           }
          },
          "colorscale": {
           "diverging": [
            [
             0,
             "#8e0152"
            ],
            [
             0.1,
             "#c51b7d"
            ],
            [
             0.2,
             "#de77ae"
            ],
            [
             0.3,
             "#f1b6da"
            ],
            [
             0.4,
             "#fde0ef"
            ],
            [
             0.5,
             "#f7f7f7"
            ],
            [
             0.6,
             "#e6f5d0"
            ],
            [
             0.7,
             "#b8e186"
            ],
            [
             0.8,
             "#7fbc41"
            ],
            [
             0.9,
             "#4d9221"
            ],
            [
             1,
             "#276419"
            ]
           ],
           "sequential": [
            [
             0,
             "#0d0887"
            ],
            [
             0.1111111111111111,
             "#46039f"
            ],
            [
             0.2222222222222222,
             "#7201a8"
            ],
            [
             0.3333333333333333,
             "#9c179e"
            ],
            [
             0.4444444444444444,
             "#bd3786"
            ],
            [
             0.5555555555555556,
             "#d8576b"
            ],
            [
             0.6666666666666666,
             "#ed7953"
            ],
            [
             0.7777777777777778,
             "#fb9f3a"
            ],
            [
             0.8888888888888888,
             "#fdca26"
            ],
            [
             1,
             "#f0f921"
            ]
           ],
           "sequentialminus": [
            [
             0,
             "#0d0887"
            ],
            [
             0.1111111111111111,
             "#46039f"
            ],
            [
             0.2222222222222222,
             "#7201a8"
            ],
            [
             0.3333333333333333,
             "#9c179e"
            ],
            [
             0.4444444444444444,
             "#bd3786"
            ],
            [
             0.5555555555555556,
             "#d8576b"
            ],
            [
             0.6666666666666666,
             "#ed7953"
            ],
            [
             0.7777777777777778,
             "#fb9f3a"
            ],
            [
             0.8888888888888888,
             "#fdca26"
            ],
            [
             1,
             "#f0f921"
            ]
           ]
          },
          "colorway": [
           "#636efa",
           "#EF553B",
           "#00cc96",
           "#ab63fa",
           "#FFA15A",
           "#19d3f3",
           "#FF6692",
           "#B6E880",
           "#FF97FF",
           "#FECB52"
          ],
          "font": {
           "color": "#2a3f5f"
          },
          "geo": {
           "bgcolor": "white",
           "lakecolor": "white",
           "landcolor": "#E5ECF6",
           "showlakes": true,
           "showland": true,
           "subunitcolor": "white"
          },
          "hoverlabel": {
           "align": "left"
          },
          "hovermode": "closest",
          "mapbox": {
           "style": "light"
          },
          "paper_bgcolor": "white",
          "plot_bgcolor": "#E5ECF6",
          "polar": {
           "angularaxis": {
            "gridcolor": "white",
            "linecolor": "white",
            "ticks": ""
           },
           "bgcolor": "#E5ECF6",
           "radialaxis": {
            "gridcolor": "white",
            "linecolor": "white",
            "ticks": ""
           }
          },
          "scene": {
           "xaxis": {
            "backgroundcolor": "#E5ECF6",
            "gridcolor": "white",
            "gridwidth": 2,
            "linecolor": "white",
            "showbackground": true,
            "ticks": "",
            "zerolinecolor": "white"
           },
           "yaxis": {
            "backgroundcolor": "#E5ECF6",
            "gridcolor": "white",
            "gridwidth": 2,
            "linecolor": "white",
            "showbackground": true,
            "ticks": "",
            "zerolinecolor": "white"
           },
           "zaxis": {
            "backgroundcolor": "#E5ECF6",
            "gridcolor": "white",
            "gridwidth": 2,
            "linecolor": "white",
            "showbackground": true,
            "ticks": "",
            "zerolinecolor": "white"
           }
          },
          "shapedefaults": {
           "line": {
            "color": "#2a3f5f"
           }
          },
          "ternary": {
           "aaxis": {
            "gridcolor": "white",
            "linecolor": "white",
            "ticks": ""
           },
           "baxis": {
            "gridcolor": "white",
            "linecolor": "white",
            "ticks": ""
           },
           "bgcolor": "#E5ECF6",
           "caxis": {
            "gridcolor": "white",
            "linecolor": "white",
            "ticks": ""
           }
          },
          "title": {
           "x": 0.05
          },
          "xaxis": {
           "automargin": true,
           "gridcolor": "white",
           "linecolor": "white",
           "ticks": "",
           "title": {
            "standoff": 15
           },
           "zerolinecolor": "white",
           "zerolinewidth": 2
          },
          "yaxis": {
           "automargin": true,
           "gridcolor": "white",
           "linecolor": "white",
           "ticks": "",
           "title": {
            "standoff": 15
           },
           "zerolinecolor": "white",
           "zerolinewidth": 2
          }
         }
        },
        "title": {
         "text": "Sales vs. Quantity by City"
        },
        "xaxis": {
         "anchor": "y",
         "domain": [
          0,
          1
         ],
         "title": {
          "text": "sales"
         }
        },
        "yaxis": {
         "anchor": "x",
         "domain": [
          0,
          1
         ],
         "title": {
          "text": "quantity"
         }
        }
       }
      }
     },
     "metadata": {},
     "output_type": "display_data"
    }
   ],
   "source": [
    "bubble = df.groupby(\"city\").agg({\"sales\":\"sum\", \"quantity\":\"sum\"}).reset_index()\n",
    "bubble[\"avg_quantity\"] = bubble[\"quantity\"] / len(df)\n",
    "fig = px.scatter(bubble, x=\"sales\", y=\"quantity\", size=\"avg_quantity\", color=\"city\",\n",
    "                 title=\"Sales vs. Quantity by City\", hover_name=\"city\", size_max=60)\n",
    "fig.show()\n"
   ]
  },
  {
   "cell_type": "code",
   "execution_count": null,
   "id": "3bc02e32",
   "metadata": {},
   "outputs": [
    {
     "data": {
      "application/vnd.plotly.v1+json": {
       "config": {
        "plotlyServerURL": "https://plot.ly"
       },
       "data": [
        {
         "hovertemplate": "category=CK<br>sales=%{x}<br>order_date=%{y}<extra></extra>",
         "legendgroup": "CK",
         "line": {
          "color": "#636efa",
          "dash": "solid"
         },
         "marker": {
          "symbol": "circle"
         },
         "mode": "lines+markers",
         "name": "CK",
         "orientation": "h",
         "showlegend": true,
         "type": "scatter",
         "x": {
          "bdata": "NgaDA4MD3gPeA0IEQgRCBEIEQgSmBKYEpgSmBKYEpgSmBKYEpgSmBAoFCgUKBQoFCgUKBQoFCgVuBW4FbgXSBdIF0gXSBdIF0gXSBdIF0gXSBdIF0gU2BjYGNgY2BjYGNgY2BjYGNgY2BjYGNgY2BjYGNgY2BjYGNgY2BjYGNgY2BjYGNgY2BjYGNgb+Bo4IjgiOCI4IjgiDA4QD3gPeA0IEQgSmBKYEpgSmBAoFCgUKBQoFCgVuBdIF0gXSBdIF0gXSBdIF0gXSBdIF0gXSBdIFNgY2BjYGNgY2BjYGNgY2BjYGNgY2BjYGNgY2BjYGNgY2Bv4GYgdiB2IHYgeOCOAVgwODA4MDgwODA4MDgwPeA94D3gPeA94D3gPeA94D3gPeA94D3gNCBEIEpgSmBKYEpgSmBKYEpgSmBKYEpgSmBK8EsAQKBQoFCgUKBQoFCgUKBQoFCgUKBQoFCgUKBQoFbgVuBW4FbgVuBW4F0gXSBdIF0gXSBdIF0gXSBdIF0gXSBdIF0gXSBdIF0gXSBdIF0gXSBdIF0gXSBdIFNgY2BjYGNgY2BjYGNgY2BjYGNgY2BjYGNgY2BjYGNgY2BjYGNgY2BjYGNgY2BjYGNgY2BjYGNgY2BjYGNgY2BjYGNgY2BjYGNgY2BjYGNgY2BjYGNgY2BjYGNgY2BjYGNgZiB2IHYgeOCI4I3AqDA4MDgwODA4MD3gPeA94D3gPeA94DQgRCBKYEpgSmBKYECgUKBQoFCgVuBW4F0gXSBdIF0gXSBTYGNgY2BjYGNgY2BjYGNgY2BjYGNgY2BjYGNgY2BjYGNgZiB44Ijgg2BqYE0gU2BjYGvAfmCqQLbAx4Dw==",
          "dtype": "i2"
         },
         "xaxis": "x",
         "y": [
          "2025-01-04T00:00:00.000000000",
          "2025-01-08T00:00:00.000000000",
          "2025-01-19T00:00:00.000000000",
          "2025-02-05T00:00:00.000000000",
          "2025-02-16T00:00:00.000000000",
          "2025-01-25T00:00:00.000000000",
          "2025-02-03T00:00:00.000000000",
          "2025-02-08T00:00:00.000000000",
          "2025-02-26T00:00:00.000000000",
          "2025-05-23T00:00:00.000000000",
          "2025-01-13T00:00:00.000000000",
          "2025-01-15T00:00:00.000000000",
          "2025-01-19T00:00:00.000000000",
          "2025-01-28T00:00:00.000000000",
          "2025-02-06T00:00:00.000000000",
          "2025-02-07T00:00:00.000000000",
          "2025-02-21T00:00:00.000000000",
          "2025-02-27T00:00:00.000000000",
          "2025-02-28T00:00:00.000000000",
          "2025-04-16T00:00:00.000000000",
          "2025-01-16T00:00:00.000000000",
          "2025-01-19T00:00:00.000000000",
          "2025-01-24T00:00:00.000000000",
          "2025-01-29T00:00:00.000000000",
          "2025-02-05T00:00:00.000000000",
          "2025-02-05T00:00:00.000000000",
          "2025-02-15T00:00:00.000000000",
          "2025-04-12T00:00:00.000000000",
          "2025-01-04T00:00:00.000000000",
          "2025-01-15T00:00:00.000000000",
          "2025-04-12T00:00:00.000000000",
          "2025-01-09T00:00:00.000000000",
          "2025-01-11T00:00:00.000000000",
          "2025-01-15T00:00:00.000000000",
          "2025-01-18T00:00:00.000000000",
          "2025-01-18T00:00:00.000000000",
          "2025-01-24T00:00:00.000000000",
          "2025-01-25T00:00:00.000000000",
          "2025-01-31T00:00:00.000000000",
          "2025-02-05T00:00:00.000000000",
          "2025-02-16T00:00:00.000000000",
          "2025-02-21T00:00:00.000000000",
          "2025-02-27T00:00:00.000000000",
          "2025-01-04T00:00:00.000000000",
          "2025-01-04T00:00:00.000000000",
          "2025-01-07T00:00:00.000000000",
          "2025-01-09T00:00:00.000000000",
          "2025-01-12T00:00:00.000000000",
          "2025-01-12T00:00:00.000000000",
          "2025-01-13T00:00:00.000000000",
          "2025-01-15T00:00:00.000000000",
          "2025-01-18T00:00:00.000000000",
          "2025-01-20T00:00:00.000000000",
          "2025-01-23T00:00:00.000000000",
          "2025-01-26T00:00:00.000000000",
          "2025-01-28T00:00:00.000000000",
          "2025-01-29T00:00:00.000000000",
          "2025-02-05T00:00:00.000000000",
          "2025-02-09T00:00:00.000000000",
          "2025-02-16T00:00:00.000000000",
          "2025-02-20T00:00:00.000000000",
          "2025-02-21T00:00:00.000000000",
          "2025-02-21T00:00:00.000000000",
          "2025-02-24T00:00:00.000000000",
          "2025-02-26T00:00:00.000000000",
          "2025-04-08T00:00:00.000000000",
          "2025-04-11T00:00:00.000000000",
          "2025-04-14T00:00:00.000000000",
          "2025-04-14T00:00:00.000000000",
          "2025-01-27T00:00:00.000000000",
          "2025-03-05T00:00:00.000000000",
          "2025-01-15T00:00:00.000000000",
          "2025-01-21T00:00:00.000000000",
          "2025-02-08T00:00:00.000000000",
          "2025-02-15T00:00:00.000000000",
          "2025-02-25T00:00:00.000000000",
          "2025-01-19T00:00:00.000000000",
          "2025-01-12T00:00:00.000000000",
          "2025-01-26T00:00:00.000000000",
          "2025-01-28T00:00:00.000000000",
          "2025-04-09T00:00:00.000000000",
          "2025-04-10T00:00:00.000000000",
          "2025-01-05T00:00:00.000000000",
          "2025-01-12T00:00:00.000000000",
          "2025-01-22T00:00:00.000000000",
          "2025-04-15T00:00:00.000000000",
          "2025-01-03T00:00:00.000000000",
          "2025-01-29T00:00:00.000000000",
          "2025-01-29T00:00:00.000000000",
          "2025-02-03T00:00:00.000000000",
          "2025-04-15T00:00:00.000000000",
          "2025-01-13T00:00:00.000000000",
          "2025-01-11T00:00:00.000000000",
          "2025-01-12T00:00:00.000000000",
          "2025-01-13T00:00:00.000000000",
          "2025-01-30T00:00:00.000000000",
          "2025-02-03T00:00:00.000000000",
          "2025-02-15T00:00:00.000000000",
          "2025-02-17T00:00:00.000000000",
          "2025-02-18T00:00:00.000000000",
          "2025-02-19T00:00:00.000000000",
          "2025-02-24T00:00:00.000000000",
          "2025-04-15T00:00:00.000000000",
          "2025-04-16T00:00:00.000000000",
          "2025-04-17T00:00:00.000000000",
          "2025-01-02T00:00:00.000000000",
          "2025-01-02T00:00:00.000000000",
          "2025-01-04T00:00:00.000000000",
          "2025-01-11T00:00:00.000000000",
          "2025-01-12T00:00:00.000000000",
          "2025-01-13T00:00:00.000000000",
          "2025-01-15T00:00:00.000000000",
          "2025-01-18T00:00:00.000000000",
          "2025-01-19T00:00:00.000000000",
          "2025-01-24T00:00:00.000000000",
          "2025-01-29T00:00:00.000000000",
          "2025-02-02T00:00:00.000000000",
          "2025-02-04T00:00:00.000000000",
          "2025-02-04T00:00:00.000000000",
          "2025-02-19T00:00:00.000000000",
          "2025-04-13T00:00:00.000000000",
          "2025-03-20T00:00:00.000000000",
          "2025-02-24T00:00:00.000000000",
          "2025-02-05T00:00:00.000000000",
          "2025-02-15T00:00:00.000000000",
          "2025-02-17T00:00:00.000000000",
          "2025-04-10T00:00:00.000000000",
          "2025-02-14T00:00:00.000000000",
          "2025-02-15T00:00:00.000000000",
          "2025-01-02T00:00:00.000000000",
          "2025-01-04T00:00:00.000000000",
          "2025-01-13T00:00:00.000000000",
          "2025-01-23T00:00:00.000000000",
          "2025-01-26T00:00:00.000000000",
          "2025-01-31T00:00:00.000000000",
          "2025-02-07T00:00:00.000000000",
          "2025-01-11T00:00:00.000000000",
          "2025-01-11T00:00:00.000000000",
          "2025-01-18T00:00:00.000000000",
          "2025-01-27T00:00:00.000000000",
          "2025-02-05T00:00:00.000000000",
          "2025-02-18T00:00:00.000000000",
          "2025-02-23T00:00:00.000000000",
          "2025-02-23T00:00:00.000000000",
          "2025-02-27T00:00:00.000000000",
          "2025-04-08T00:00:00.000000000",
          "2025-04-08T00:00:00.000000000",
          "2025-04-18T00:00:00.000000000",
          "2025-01-07T00:00:00.000000000",
          "2025-03-01T00:00:00.000000000",
          "2025-01-04T00:00:00.000000000",
          "2025-01-08T00:00:00.000000000",
          "2025-01-14T00:00:00.000000000",
          "2025-01-15T00:00:00.000000000",
          "2025-01-30T00:00:00.000000000",
          "2025-01-30T00:00:00.000000000",
          "2025-02-21T00:00:00.000000000",
          "2025-02-26T00:00:00.000000000",
          "2025-02-28T00:00:00.000000000",
          "2025-02-28T00:00:00.000000000",
          "2025-04-17T00:00:00.000000000",
          "2025-01-26T00:00:00.000000000",
          "2025-01-20T00:00:00.000000000",
          "2025-01-03T00:00:00.000000000",
          "2025-01-20T00:00:00.000000000",
          "2025-01-22T00:00:00.000000000",
          "2025-01-22T00:00:00.000000000",
          "2025-01-23T00:00:00.000000000",
          "2025-01-23T00:00:00.000000000",
          "2025-01-23T00:00:00.000000000",
          "2025-01-28T00:00:00.000000000",
          "2025-02-02T00:00:00.000000000",
          "2025-02-07T00:00:00.000000000",
          "2025-02-15T00:00:00.000000000",
          "2025-02-21T00:00:00.000000000",
          "2025-02-24T00:00:00.000000000",
          "2025-02-27T00:00:00.000000000",
          "2025-01-30T00:00:00.000000000",
          "2025-02-06T00:00:00.000000000",
          "2025-02-08T00:00:00.000000000",
          "2025-02-19T00:00:00.000000000",
          "2025-02-21T00:00:00.000000000",
          "2025-04-09T00:00:00.000000000",
          "2025-01-02T00:00:00.000000000",
          "2025-01-03T00:00:00.000000000",
          "2025-01-03T00:00:00.000000000",
          "2025-01-08T00:00:00.000000000",
          "2025-01-11T00:00:00.000000000",
          "2025-01-12T00:00:00.000000000",
          "2025-01-13T00:00:00.000000000",
          "2025-01-13T00:00:00.000000000",
          "2025-01-15T00:00:00.000000000",
          "2025-01-18T00:00:00.000000000",
          "2025-01-21T00:00:00.000000000",
          "2025-01-23T00:00:00.000000000",
          "2025-01-29T00:00:00.000000000",
          "2025-01-31T00:00:00.000000000",
          "2025-02-08T00:00:00.000000000",
          "2025-02-14T00:00:00.000000000",
          "2025-02-17T00:00:00.000000000",
          "2025-02-18T00:00:00.000000000",
          "2025-02-20T00:00:00.000000000",
          "2025-02-20T00:00:00.000000000",
          "2025-02-22T00:00:00.000000000",
          "2025-02-24T00:00:00.000000000",
          "2025-02-26T00:00:00.000000000",
          "2025-04-09T00:00:00.000000000",
          "2025-01-02T00:00:00.000000000",
          "2025-01-03T00:00:00.000000000",
          "2025-01-04T00:00:00.000000000",
          "2025-01-05T00:00:00.000000000",
          "2025-01-05T00:00:00.000000000",
          "2025-01-06T00:00:00.000000000",
          "2025-01-09T00:00:00.000000000",
          "2025-01-11T00:00:00.000000000",
          "2025-01-11T00:00:00.000000000",
          "2025-01-11T00:00:00.000000000",
          "2025-01-12T00:00:00.000000000",
          "2025-01-13T00:00:00.000000000",
          "2025-01-14T00:00:00.000000000",
          "2025-01-15T00:00:00.000000000",
          "2025-01-15T00:00:00.000000000",
          "2025-01-18T00:00:00.000000000",
          "2025-01-19T00:00:00.000000000",
          "2025-01-20T00:00:00.000000000",
          "2025-01-23T00:00:00.000000000",
          "2025-01-23T00:00:00.000000000",
          "2025-01-24T00:00:00.000000000",
          "2025-01-24T00:00:00.000000000",
          "2025-01-26T00:00:00.000000000",
          "2025-01-27T00:00:00.000000000",
          "2025-01-29T00:00:00.000000000",
          "2025-01-29T00:00:00.000000000",
          "2025-01-30T00:00:00.000000000",
          "2025-01-31T00:00:00.000000000",
          "2025-02-05T00:00:00.000000000",
          "2025-02-05T00:00:00.000000000",
          "2025-02-08T00:00:00.000000000",
          "2025-02-10T00:00:00.000000000",
          "2025-02-14T00:00:00.000000000",
          "2025-02-14T00:00:00.000000000",
          "2025-02-14T00:00:00.000000000",
          "2025-02-15T00:00:00.000000000",
          "2025-02-16T00:00:00.000000000",
          "2025-02-18T00:00:00.000000000",
          "2025-02-21T00:00:00.000000000",
          "2025-02-21T00:00:00.000000000",
          "2025-02-22T00:00:00.000000000",
          "2025-02-23T00:00:00.000000000",
          "2025-02-26T00:00:00.000000000",
          "2025-02-26T00:00:00.000000000",
          "2025-04-09T00:00:00.000000000",
          "2025-04-12T00:00:00.000000000",
          "2025-04-14T00:00:00.000000000",
          "2025-04-15T00:00:00.000000000",
          "2025-01-03T00:00:00.000000000",
          "2025-01-02T00:00:00.000000000",
          "2025-01-27T00:00:00.000000000",
          "2025-01-30T00:00:00.000000000",
          "2025-01-05T00:00:00.000000000",
          "2025-01-16T00:00:00.000000000",
          "2025-02-17T00:00:00.000000000",
          "2025-01-25T00:00:00.000000000",
          "2025-01-26T00:00:00.000000000",
          "2025-02-13T00:00:00.000000000",
          "2025-02-23T00:00:00.000000000",
          "2025-02-28T00:00:00.000000000",
          "2025-01-08T00:00:00.000000000",
          "2025-01-12T00:00:00.000000000",
          "2025-01-27T00:00:00.000000000",
          "2025-01-30T00:00:00.000000000",
          "2025-01-30T00:00:00.000000000",
          "2025-04-13T00:00:00.000000000",
          "2025-01-21T00:00:00.000000000",
          "2025-04-17T00:00:00.000000000",
          "2025-01-26T00:00:00.000000000",
          "2025-02-13T00:00:00.000000000",
          "2025-02-13T00:00:00.000000000",
          "2025-04-10T00:00:00.000000000",
          "2025-01-13T00:00:00.000000000",
          "2025-01-19T00:00:00.000000000",
          "2025-02-27T00:00:00.000000000",
          "2025-04-08T00:00:00.000000000",
          "2025-01-15T00:00:00.000000000",
          "2025-01-17T00:00:00.000000000",
          "2025-01-04T00:00:00.000000000",
          "2025-02-10T00:00:00.000000000",
          "2025-02-25T00:00:00.000000000",
          "2025-04-08T00:00:00.000000000",
          "2025-04-10T00:00:00.000000000",
          "2025-01-04T00:00:00.000000000",
          "2025-01-05T00:00:00.000000000",
          "2025-01-06T00:00:00.000000000",
          "2025-01-08T00:00:00.000000000",
          "2025-01-12T00:00:00.000000000",
          "2025-01-13T00:00:00.000000000",
          "2025-01-15T00:00:00.000000000",
          "2025-01-23T00:00:00.000000000",
          "2025-01-25T00:00:00.000000000",
          "2025-01-27T00:00:00.000000000",
          "2025-02-09T00:00:00.000000000",
          "2025-02-13T00:00:00.000000000",
          "2025-02-13T00:00:00.000000000",
          "2025-02-25T00:00:00.000000000",
          "2025-02-27T00:00:00.000000000",
          "2025-04-10T00:00:00.000000000",
          "2025-04-14T00:00:00.000000000",
          "2025-01-12T00:00:00.000000000",
          "2025-02-16T00:00:00.000000000",
          "2025-04-12T00:00:00.000000000",
          "2025-01-31T00:00:00.000000000",
          "2025-01-26T00:00:00.000000000",
          "2025-02-13T00:00:00.000000000",
          "2025-01-29T00:00:00.000000000",
          "2025-02-26T00:00:00.000000000",
          "2025-02-10T00:00:00.000000000",
          "2025-02-24T00:00:00.000000000",
          "2025-01-24T00:00:00.000000000",
          "2025-01-06T00:00:00.000000000",
          "2025-04-08T00:00:00.000000000"
         ],
         "yaxis": "y"
        },
        {
         "hovertemplate": "category=GfT<br>sales=%{x}<br>order_date=%{y}<extra></extra>",
         "legendgroup": "GfT",
         "line": {
          "color": "#EF553B",
          "dash": "solid"
         },
         "marker": {
          "symbol": "circle"
         },
         "mode": "lines+markers",
         "name": "GfT",
         "orientation": "h",
         "showlegend": true,
         "type": "scatter",
         "x": {
          "bdata": "5wOOCOcD5wOmBK8ErwTWBo4I5wPnA+cD5wPnA+cD5wPnA+cDjgj6D/oP5wPnA+cDrwTnA+cD5wOmBK8EjgiKEaYE",
          "dtype": "i2"
         },
         "xaxis": "x",
         "y": [
          "2025-03-19T00:00:00.000000000",
          "2025-03-20T00:00:00.000000000",
          "2025-03-20T00:00:00.000000000",
          "2025-03-21T00:00:00.000000000",
          "2025-03-21T00:00:00.000000000",
          "2025-03-19T00:00:00.000000000",
          "2025-03-20T00:00:00.000000000",
          "2025-03-22T00:00:00.000000000",
          "2025-03-21T00:00:00.000000000",
          "2025-03-19T00:00:00.000000000",
          "2025-03-19T00:00:00.000000000",
          "2025-03-20T00:00:00.000000000",
          "2025-03-20T00:00:00.000000000",
          "2025-03-21T00:00:00.000000000",
          "2025-03-21T00:00:00.000000000",
          "2025-03-22T00:00:00.000000000",
          "2025-03-22T00:00:00.000000000",
          "2025-03-22T00:00:00.000000000",
          "2025-03-21T00:00:00.000000000",
          "2025-03-19T00:00:00.000000000",
          "2025-03-21T00:00:00.000000000",
          "2025-03-19T00:00:00.000000000",
          "2025-03-21T00:00:00.000000000",
          "2025-03-22T00:00:00.000000000",
          "2025-03-22T00:00:00.000000000",
          "2025-03-21T00:00:00.000000000",
          "2025-03-22T00:00:00.000000000",
          "2025-03-28T00:00:00.000000000",
          "2025-03-28T00:00:00.000000000",
          "2025-03-21T00:00:00.000000000",
          "2025-03-22T00:00:00.000000000",
          "2025-03-28T00:00:00.000000000",
          "2025-03-28T00:00:00.000000000"
         ],
         "yaxis": "y"
        },
        {
         "hovertemplate": "category=WD<br>sales=%{x}<br>order_date=%{y}<extra></extra>",
         "legendgroup": "WD",
         "line": {
          "color": "#00cc96",
          "dash": "solid"
         },
         "marker": {
          "symbol": "circle"
         },
         "mode": "lines+markers",
         "name": "WD",
         "orientation": "h",
         "showlegend": true,
         "type": "scatter",
         "x": {
          "bdata": "QgSmBAoFbgVuBdIFNgbeAwoFbgVuBdIF/gb+BqIN3gNCBJwEpgSmBKYEpgSmBG4FbgVuBdIFNgb+Bv4GbgX+BkwJ8g2YEvYi",
          "dtype": "i2"
         },
         "xaxis": "x",
         "y": [
          "2025-03-05T00:00:00.000000000",
          "2025-02-06T00:00:00.000000000",
          "2025-01-13T00:00:00.000000000",
          "2025-01-21T00:00:00.000000000",
          "2025-02-15T00:00:00.000000000",
          "2025-02-20T00:00:00.000000000",
          "2025-02-20T00:00:00.000000000",
          "2025-02-05T00:00:00.000000000",
          "2025-02-15T00:00:00.000000000",
          "2025-01-03T00:00:00.000000000",
          "2025-01-11T00:00:00.000000000",
          "2025-02-05T00:00:00.000000000",
          "2025-01-03T00:00:00.000000000",
          "2025-01-20T00:00:00.000000000",
          "2025-01-13T00:00:00.000000000",
          "2025-01-26T00:00:00.000000000",
          "2025-02-05T00:00:00.000000000",
          "2025-02-16T00:00:00.000000000",
          "2025-01-02T00:00:00.000000000",
          "2025-01-21T00:00:00.000000000",
          "2025-01-26T00:00:00.000000000",
          "2025-02-05T00:00:00.000000000",
          "2025-06-03T00:00:00.000000000",
          "2025-01-15T00:00:00.000000000",
          "2025-01-22T00:00:00.000000000",
          "2025-02-10T00:00:00.000000000",
          "2025-01-28T00:00:00.000000000",
          "2025-01-28T00:00:00.000000000",
          "2025-01-07T00:00:00.000000000",
          "2025-02-05T00:00:00.000000000",
          "2025-01-27T00:00:00.000000000",
          "2025-01-16T00:00:00.000000000",
          "2025-01-25T00:00:00.000000000",
          "2025-02-16T00:00:00.000000000",
          "2025-01-08T00:00:00.000000000",
          "2025-01-07T00:00:00.000000000"
         ],
         "yaxis": "y"
        },
        {
         "hovertemplate": "category=HNS<br>sales=%{x}<br>order_date=%{y}<extra></extra>",
         "legendgroup": "HNS",
         "line": {
          "color": "#ab63fa",
          "dash": "solid"
         },
         "marker": {
          "symbol": "circle"
         },
         "mode": "lines+markers",
         "name": "HNS",
         "orientation": "h",
         "showlegend": true,
         "type": "scatter",
         "x": {
          "bdata": "pgSmBKYEpgSmBKYEpgSmBKYEpgSmBKYECgVuBW4FbgVuBW4FbgVuBW4FbgVuBW4FeAXSBdIF0gXSBdIF0gXSBdIF0gXSBdIFmgaaBpoGmgaaBv4G/gb+Bv4G/gb+Bv4G/gb+Bv4G/gb+Bv4G/gb+Bv4GYgfGB8YHxgfGB8YHxgfGB8YHxgeOCI4IjgiOCI4IjgiOCI4IjgiOCB4KHgoeCh4KHgoeCh4KHgoeCh4KHgoeCh4KHgoeCh4KHgoeCh4KHgoeCh4KggpKC0oLSgtKC3YMPg0+DT4NPg0+DT4Nag7oA6YEpgSmBKYEpgQKBW4FbgVuBW4FbgXSBdIF0gXSBdIFmgaaBpoGmgaaBpoGmgb+Bv4GxgfGB8YHjgiOCI4IjgiOCI4IjgiOCPIIVgm6CboJHgoeCh4KHgoeCh4KHgoeCh4KHgoeCh4KHgoeCh4KSgtKC0oLSgt2DD4NPg0+DT4NPg0+DT4NPg1IDWoOag5QFKgWLhjwI6YEpgSmBKYEpgSmBKYECgVuBW4FbgVuBW4FbgVuBW4FbgXSBdIF0gXSBdIF0gXSBdIF0gXSBdIF0gXSBdIF0gXSBZoGmgaaBpoGmgaaBpoGmgb+Bv4G/gb+Bv4G/gb+Bv4G/gb+Bv4G/gb+Bv4G/gb+Bv4G/gb+BmIHYgdiB8YHxgeOCI4IjgiOCI4IjgiOCI4IjgiOCI4Ijgi6CboJHgoeCh4KHgoeCh4KHgoeCh4KHgoeCh4KHgoeCh4KHgoeCh4KHgoeCh4KHgooCoIK5gpKC0oLSgtKC0oLSgtKC0oLrgsSDD4NPg0+DT4NPg0+DT4NPg0+DT4NPg0+DT4NPg0+DaYOaBAuGKYEpgSmBG4FbgXSBdIF0gXSBdIF0gXSBdIF0gXSBdIFmgaaBv4G/gb+Bv4G/gbGB9AHjgiOCI4IjgiOCF8JHgoeCh4KHgoeCh4KHgoeCigK5gpKC0oLSgtKC0oLSgtKC0oLSgsSDD4NPg3SBWIHYgeOCFYJSgt2DD4NPg1qDj4NSA38DXwavCAcJXwuvDQ=",
          "dtype": "i2"
         },
         "xaxis": "x",
         "y": [
          "2025-01-17T00:00:00.000000000",
          "2025-02-21T00:00:00.000000000",
          "2025-03-12T00:00:00.000000000",
          "2025-03-20T00:00:00.000000000",
          "2025-04-03T00:00:00.000000000",
          "2025-04-06T00:00:00.000000000",
          "2025-04-28T00:00:00.000000000",
          "2025-05-02T00:00:00.000000000",
          "2025-05-12T00:00:00.000000000",
          "2025-05-18T00:00:00.000000000",
          "2025-05-23T00:00:00.000000000",
          "2025-05-31T00:00:00.000000000",
          "2025-06-06T00:00:00.000000000",
          "2025-01-11T00:00:00.000000000",
          "2025-01-19T00:00:00.000000000",
          "2025-03-09T00:00:00.000000000",
          "2025-04-06T00:00:00.000000000",
          "2025-04-15T00:00:00.000000000",
          "2025-04-16T00:00:00.000000000",
          "2025-05-19T00:00:00.000000000",
          "2025-05-24T00:00:00.000000000",
          "2025-05-30T00:00:00.000000000",
          "2025-02-20T00:00:00.000000000",
          "2025-04-08T00:00:00.000000000",
          "2025-04-29T00:00:00.000000000",
          "2025-01-20T00:00:00.000000000",
          "2025-01-21T00:00:00.000000000",
          "2025-04-09T00:00:00.000000000",
          "2025-04-09T00:00:00.000000000",
          "2025-04-15T00:00:00.000000000",
          "2025-04-25T00:00:00.000000000",
          "2025-05-16T00:00:00.000000000",
          "2025-05-17T00:00:00.000000000",
          "2025-05-29T00:00:00.000000000",
          "2025-05-29T00:00:00.000000000",
          "2025-04-09T00:00:00.000000000",
          "2025-04-12T00:00:00.000000000",
          "2025-04-12T00:00:00.000000000",
          "2025-04-20T00:00:00.000000000",
          "2025-05-11T00:00:00.000000000",
          "2025-05-12T00:00:00.000000000",
          "2025-01-11T00:00:00.000000000",
          "2025-01-19T00:00:00.000000000",
          "2025-01-22T00:00:00.000000000",
          "2025-01-27T00:00:00.000000000",
          "2025-04-09T00:00:00.000000000",
          "2025-04-09T00:00:00.000000000",
          "2025-04-10T00:00:00.000000000",
          "2025-04-14T00:00:00.000000000",
          "2025-04-24T00:00:00.000000000",
          "2025-04-24T00:00:00.000000000",
          "2025-04-26T00:00:00.000000000",
          "2025-05-09T00:00:00.000000000",
          "2025-05-09T00:00:00.000000000",
          "2025-05-19T00:00:00.000000000",
          "2025-05-23T00:00:00.000000000",
          "2025-06-02T00:00:00.000000000",
          "2025-06-09T00:00:00.000000000",
          "2025-01-02T00:00:00.000000000",
          "2025-01-03T00:00:00.000000000",
          "2025-02-08T00:00:00.000000000",
          "2025-01-19T00:00:00.000000000",
          "2025-02-11T00:00:00.000000000",
          "2025-04-08T00:00:00.000000000",
          "2025-04-08T00:00:00.000000000",
          "2025-04-10T00:00:00.000000000",
          "2025-05-28T00:00:00.000000000",
          "2025-01-06T00:00:00.000000000",
          "2025-01-26T00:00:00.000000000",
          "2025-02-15T00:00:00.000000000",
          "2025-03-18T00:00:00.000000000",
          "2025-04-06T00:00:00.000000000",
          "2025-04-08T00:00:00.000000000",
          "2025-04-15T00:00:00.000000000",
          "2025-04-30T00:00:00.000000000",
          "2025-05-30T00:00:00.000000000",
          "2025-05-02T00:00:00.000000000",
          "2025-01-01T00:00:00.000000000",
          "2025-01-18T00:00:00.000000000",
          "2025-01-22T00:00:00.000000000",
          "2025-01-29T00:00:00.000000000",
          "2025-02-10T00:00:00.000000000",
          "2025-02-15T00:00:00.000000000",
          "2025-02-17T00:00:00.000000000",
          "2025-02-23T00:00:00.000000000",
          "2025-04-04T00:00:00.000000000",
          "2025-04-05T00:00:00.000000000",
          "2025-04-09T00:00:00.000000000",
          "2025-04-10T00:00:00.000000000",
          "2025-04-11T00:00:00.000000000",
          "2025-04-20T00:00:00.000000000",
          "2025-04-28T00:00:00.000000000",
          "2025-04-30T00:00:00.000000000",
          "2025-05-03T00:00:00.000000000",
          "2025-05-09T00:00:00.000000000",
          "2025-05-13T00:00:00.000000000",
          "2025-05-16T00:00:00.000000000",
          "2025-05-21T00:00:00.000000000",
          "2025-05-25T00:00:00.000000000",
          "2025-03-23T00:00:00.000000000",
          "2025-02-20T00:00:00.000000000",
          "2025-04-07T00:00:00.000000000",
          "2025-04-30T00:00:00.000000000",
          "2025-05-14T00:00:00.000000000",
          "2025-01-15T00:00:00.000000000",
          "2025-01-11T00:00:00.000000000",
          "2025-04-08T00:00:00.000000000",
          "2025-04-11T00:00:00.000000000",
          "2025-05-01T00:00:00.000000000",
          "2025-05-12T00:00:00.000000000",
          "2025-05-16T00:00:00.000000000",
          "2025-06-09T00:00:00.000000000",
          "2025-04-25T00:00:00.000000000",
          "2025-01-11T00:00:00.000000000",
          "2025-01-15T00:00:00.000000000",
          "2025-03-14T00:00:00.000000000",
          "2025-04-02T00:00:00.000000000",
          "2025-04-02T00:00:00.000000000",
          "2025-06-08T00:00:00.000000000",
          "2025-01-02T00:00:00.000000000",
          "2025-02-17T00:00:00.000000000",
          "2025-02-18T00:00:00.000000000",
          "2025-05-23T00:00:00.000000000",
          "2025-05-29T00:00:00.000000000",
          "2025-04-05T00:00:00.000000000",
          "2025-04-05T00:00:00.000000000",
          "2025-04-10T00:00:00.000000000",
          "2025-05-12T00:00:00.000000000",
          "2025-05-29T00:00:00.000000000",
          "2025-01-22T00:00:00.000000000",
          "2025-01-23T00:00:00.000000000",
          "2025-02-10T00:00:00.000000000",
          "2025-02-24T00:00:00.000000000",
          "2025-04-22T00:00:00.000000000",
          "2025-05-01T00:00:00.000000000",
          "2025-05-08T00:00:00.000000000",
          "2025-04-19T00:00:00.000000000",
          "2025-05-24T00:00:00.000000000",
          "2025-02-15T00:00:00.000000000",
          "2025-03-21T00:00:00.000000000",
          "2025-05-02T00:00:00.000000000",
          "2025-01-30T00:00:00.000000000",
          "2025-04-02T00:00:00.000000000",
          "2025-04-03T00:00:00.000000000",
          "2025-04-08T00:00:00.000000000",
          "2025-04-17T00:00:00.000000000",
          "2025-04-24T00:00:00.000000000",
          "2025-04-27T00:00:00.000000000",
          "2025-05-08T00:00:00.000000000",
          "2025-04-12T00:00:00.000000000",
          "2025-06-06T00:00:00.000000000",
          "2025-05-30T00:00:00.000000000",
          "2025-06-10T00:00:00.000000000",
          "2025-01-11T00:00:00.000000000",
          "2025-01-19T00:00:00.000000000",
          "2025-02-06T00:00:00.000000000",
          "2025-04-03T00:00:00.000000000",
          "2025-04-03T00:00:00.000000000",
          "2025-04-05T00:00:00.000000000",
          "2025-04-06T00:00:00.000000000",
          "2025-04-09T00:00:00.000000000",
          "2025-04-20T00:00:00.000000000",
          "2025-04-23T00:00:00.000000000",
          "2025-04-28T00:00:00.000000000",
          "2025-05-04T00:00:00.000000000",
          "2025-05-06T00:00:00.000000000",
          "2025-05-28T00:00:00.000000000",
          "2025-05-30T00:00:00.000000000",
          "2025-03-29T00:00:00.000000000",
          "2025-04-07T00:00:00.000000000",
          "2025-05-10T00:00:00.000000000",
          "2025-05-19T00:00:00.000000000",
          "2025-06-07T00:00:00.000000000",
          "2025-04-02T00:00:00.000000000",
          "2025-04-07T00:00:00.000000000",
          "2025-04-08T00:00:00.000000000",
          "2025-05-06T00:00:00.000000000",
          "2025-05-17T00:00:00.000000000",
          "2025-05-30T00:00:00.000000000",
          "2025-04-18T00:00:00.000000000",
          "2025-04-18T00:00:00.000000000",
          "2025-01-10T00:00:00.000000000",
          "2025-06-06T00:00:00.000000000",
          "2025-05-30T00:00:00.000000000",
          "2025-01-29T00:00:00.000000000",
          "2025-05-25T00:00:00.000000000",
          "2025-06-08T00:00:00.000000000",
          "2025-04-18T00:00:00.000000000",
          "2025-02-01T00:00:00.000000000",
          "2025-02-03T00:00:00.000000000",
          "2025-03-17T00:00:00.000000000",
          "2025-05-01T00:00:00.000000000",
          "2025-05-04T00:00:00.000000000",
          "2025-06-01T00:00:00.000000000",
          "2025-04-09T00:00:00.000000000",
          "2025-06-06T00:00:00.000000000",
          "2025-01-13T00:00:00.000000000",
          "2025-01-15T00:00:00.000000000",
          "2025-02-02T00:00:00.000000000",
          "2025-02-07T00:00:00.000000000",
          "2025-02-09T00:00:00.000000000",
          "2025-02-13T00:00:00.000000000",
          "2025-04-07T00:00:00.000000000",
          "2025-05-23T00:00:00.000000000",
          "2025-01-29T00:00:00.000000000",
          "2025-01-03T00:00:00.000000000",
          "2025-01-18T00:00:00.000000000",
          "2025-01-25T00:00:00.000000000",
          "2025-02-06T00:00:00.000000000",
          "2025-02-14T00:00:00.000000000",
          "2025-02-15T00:00:00.000000000",
          "2025-03-19T00:00:00.000000000",
          "2025-03-26T00:00:00.000000000",
          "2025-04-02T00:00:00.000000000",
          "2025-04-15T00:00:00.000000000",
          "2025-04-23T00:00:00.000000000",
          "2025-04-25T00:00:00.000000000",
          "2025-04-27T00:00:00.000000000",
          "2025-04-27T00:00:00.000000000",
          "2025-05-03T00:00:00.000000000",
          "2025-05-29T00:00:00.000000000",
          "2025-01-13T00:00:00.000000000",
          "2025-03-11T00:00:00.000000000",
          "2025-04-06T00:00:00.000000000",
          "2025-04-08T00:00:00.000000000",
          "2025-05-12T00:00:00.000000000",
          "2025-05-12T00:00:00.000000000",
          "2025-05-16T00:00:00.000000000",
          "2025-05-24T00:00:00.000000000",
          "2025-01-05T00:00:00.000000000",
          "2025-01-15T00:00:00.000000000",
          "2025-01-26T00:00:00.000000000",
          "2025-02-06T00:00:00.000000000",
          "2025-03-05T00:00:00.000000000",
          "2025-03-09T00:00:00.000000000",
          "2025-03-15T00:00:00.000000000",
          "2025-04-02T00:00:00.000000000",
          "2025-04-03T00:00:00.000000000",
          "2025-04-05T00:00:00.000000000",
          "2025-04-07T00:00:00.000000000",
          "2025-04-28T00:00:00.000000000",
          "2025-05-01T00:00:00.000000000",
          "2025-05-04T00:00:00.000000000",
          "2025-05-10T00:00:00.000000000",
          "2025-05-23T00:00:00.000000000",
          "2025-05-25T00:00:00.000000000",
          "2025-05-28T00:00:00.000000000",
          "2025-05-30T00:00:00.000000000",
          "2025-06-06T00:00:00.000000000",
          "2025-06-06T00:00:00.000000000",
          "2025-06-10T00:00:00.000000000",
          "2025-01-29T00:00:00.000000000",
          "2025-03-14T00:00:00.000000000",
          "2025-01-02T00:00:00.000000000",
          "2025-01-08T00:00:00.000000000",
          "2025-01-13T00:00:00.000000000",
          "2025-01-22T00:00:00.000000000",
          "2025-01-23T00:00:00.000000000",
          "2025-02-09T00:00:00.000000000",
          "2025-02-13T00:00:00.000000000",
          "2025-02-18T00:00:00.000000000",
          "2025-04-03T00:00:00.000000000",
          "2025-04-06T00:00:00.000000000",
          "2025-04-09T00:00:00.000000000",
          "2025-04-20T00:00:00.000000000",
          "2025-06-06T00:00:00.000000000",
          "2025-06-09T00:00:00.000000000",
          "2025-01-11T00:00:00.000000000",
          "2025-01-11T00:00:00.000000000",
          "2025-01-27T00:00:00.000000000",
          "2025-01-28T00:00:00.000000000",
          "2025-03-17T00:00:00.000000000",
          "2025-04-03T00:00:00.000000000",
          "2025-04-03T00:00:00.000000000",
          "2025-04-03T00:00:00.000000000",
          "2025-04-07T00:00:00.000000000",
          "2025-04-08T00:00:00.000000000",
          "2025-04-11T00:00:00.000000000",
          "2025-04-17T00:00:00.000000000",
          "2025-04-25T00:00:00.000000000",
          "2025-05-10T00:00:00.000000000",
          "2025-05-12T00:00:00.000000000",
          "2025-05-17T00:00:00.000000000",
          "2025-05-23T00:00:00.000000000",
          "2025-05-29T00:00:00.000000000",
          "2025-06-06T00:00:00.000000000",
          "2025-06-07T00:00:00.000000000",
          "2025-02-17T00:00:00.000000000",
          "2025-02-24T00:00:00.000000000",
          "2025-01-20T00:00:00.000000000",
          "2025-04-02T00:00:00.000000000",
          "2025-06-07T00:00:00.000000000",
          "2025-01-16T00:00:00.000000000",
          "2025-03-18T00:00:00.000000000",
          "2025-04-10T00:00:00.000000000",
          "2025-04-27T00:00:00.000000000",
          "2025-05-08T00:00:00.000000000",
          "2025-05-12T00:00:00.000000000",
          "2025-05-28T00:00:00.000000000",
          "2025-05-30T00:00:00.000000000",
          "2025-01-30T00:00:00.000000000",
          "2025-05-14T00:00:00.000000000",
          "2025-01-07T00:00:00.000000000",
          "2025-02-07T00:00:00.000000000",
          "2025-02-11T00:00:00.000000000",
          "2025-03-15T00:00:00.000000000",
          "2025-04-02T00:00:00.000000000",
          "2025-04-03T00:00:00.000000000",
          "2025-04-10T00:00:00.000000000",
          "2025-04-23T00:00:00.000000000",
          "2025-04-27T00:00:00.000000000",
          "2025-04-29T00:00:00.000000000",
          "2025-05-08T00:00:00.000000000",
          "2025-05-08T00:00:00.000000000",
          "2025-05-24T00:00:00.000000000",
          "2025-05-25T00:00:00.000000000",
          "2025-05-09T00:00:00.000000000",
          "2025-02-08T00:00:00.000000000",
          "2025-04-11T00:00:00.000000000",
          "2025-06-06T00:00:00.000000000",
          "2025-06-06T00:00:00.000000000",
          "2025-02-09T00:00:00.000000000",
          "2025-06-02T00:00:00.000000000",
          "2025-03-12T00:00:00.000000000",
          "2025-05-23T00:00:00.000000000",
          "2025-01-29T00:00:00.000000000",
          "2025-01-30T00:00:00.000000000",
          "2025-03-14T00:00:00.000000000",
          "2025-04-19T00:00:00.000000000",
          "2025-04-25T00:00:00.000000000",
          "2025-04-25T00:00:00.000000000",
          "2025-04-27T00:00:00.000000000",
          "2025-05-12T00:00:00.000000000",
          "2025-05-12T00:00:00.000000000",
          "2025-05-15T00:00:00.000000000",
          "2025-05-30T00:00:00.000000000",
          "2025-01-13T00:00:00.000000000",
          "2025-01-23T00:00:00.000000000",
          "2025-01-04T00:00:00.000000000",
          "2025-03-16T00:00:00.000000000",
          "2025-04-11T00:00:00.000000000",
          "2025-05-17T00:00:00.000000000",
          "2025-05-25T00:00:00.000000000",
          "2025-05-24T00:00:00.000000000",
          "2025-04-30T00:00:00.000000000",
          "2025-01-22T00:00:00.000000000",
          "2025-03-14T00:00:00.000000000",
          "2025-03-23T00:00:00.000000000",
          "2025-05-03T00:00:00.000000000",
          "2025-05-12T00:00:00.000000000",
          "2025-01-27T00:00:00.000000000",
          "2025-01-06T00:00:00.000000000",
          "2025-03-16T00:00:00.000000000",
          "2025-04-04T00:00:00.000000000",
          "2025-04-05T00:00:00.000000000",
          "2025-04-22T00:00:00.000000000",
          "2025-04-29T00:00:00.000000000",
          "2025-05-14T00:00:00.000000000",
          "2025-05-29T00:00:00.000000000",
          "2025-01-20T00:00:00.000000000",
          "2025-06-09T00:00:00.000000000",
          "2025-02-20T00:00:00.000000000",
          "2025-04-02T00:00:00.000000000",
          "2025-04-04T00:00:00.000000000",
          "2025-04-10T00:00:00.000000000",
          "2025-04-10T00:00:00.000000000",
          "2025-04-20T00:00:00.000000000",
          "2025-05-01T00:00:00.000000000",
          "2025-05-26T00:00:00.000000000",
          "2025-05-28T00:00:00.000000000",
          "2025-05-01T00:00:00.000000000",
          "2025-04-03T00:00:00.000000000",
          "2025-04-25T00:00:00.000000000",
          "2025-04-24T00:00:00.000000000",
          "2025-06-09T00:00:00.000000000",
          "2025-06-09T00:00:00.000000000",
          "2025-04-25T00:00:00.000000000",
          "2025-06-06T00:00:00.000000000",
          "2025-05-28T00:00:00.000000000",
          "2025-06-09T00:00:00.000000000",
          "2025-01-19T00:00:00.000000000",
          "2025-05-07T00:00:00.000000000",
          "2025-06-08T00:00:00.000000000",
          "2025-05-08T00:00:00.000000000",
          "2025-01-10T00:00:00.000000000",
          "2025-03-09T00:00:00.000000000",
          "2025-05-04T00:00:00.000000000",
          "2025-02-11T00:00:00.000000000",
          "2025-01-27T00:00:00.000000000",
          "2025-03-14T00:00:00.000000000",
          "2025-04-18T00:00:00.000000000"
         ],
         "yaxis": "y"
        },
        {
         "hovertemplate": "category=Uncategorized<br>sales=%{x}<br>order_date=%{y}<extra></extra>",
         "legendgroup": "Uncategorized",
         "line": {
          "color": "#FFA15A",
          "dash": "solid"
         },
         "marker": {
          "symbol": "circle"
         },
         "mode": "lines+markers",
         "name": "Uncategorized",
         "orientation": "h",
         "showlegend": true,
         "type": "scatter",
         "x": {
          "bdata": "5AyiDaINog1OGw==",
          "dtype": "i2"
         },
         "xaxis": "x",
         "y": [
          "2025-02-25T00:00:00.000000000",
          "2025-01-12T00:00:00.000000000",
          "2025-01-21T00:00:00.000000000",
          "2025-02-13T00:00:00.000000000",
          "2025-02-23T00:00:00.000000000"
         ],
         "yaxis": "y"
        }
       ],
       "layout": {
        "legend": {
         "title": {
          "text": "category"
         },
         "tracegroupgap": 0
        },
        "template": {
         "data": {
          "bar": [
           {
            "error_x": {
             "color": "#2a3f5f"
            },
            "error_y": {
             "color": "#2a3f5f"
            },
            "marker": {
             "line": {
              "color": "#E5ECF6",
              "width": 0.5
             },
             "pattern": {
              "fillmode": "overlay",
              "size": 10,
              "solidity": 0.2
             }
            },
            "type": "bar"
           }
          ],
          "barpolar": [
           {
            "marker": {
             "line": {
              "color": "#E5ECF6",
              "width": 0.5
             },
             "pattern": {
              "fillmode": "overlay",
              "size": 10,
              "solidity": 0.2
             }
            },
            "type": "barpolar"
           }
          ],
          "carpet": [
           {
            "aaxis": {
             "endlinecolor": "#2a3f5f",
             "gridcolor": "white",
             "linecolor": "white",
             "minorgridcolor": "white",
             "startlinecolor": "#2a3f5f"
            },
            "baxis": {
             "endlinecolor": "#2a3f5f",
             "gridcolor": "white",
             "linecolor": "white",
             "minorgridcolor": "white",
             "startlinecolor": "#2a3f5f"
            },
            "type": "carpet"
           }
          ],
          "choropleth": [
           {
            "colorbar": {
             "outlinewidth": 0,
             "ticks": ""
            },
            "type": "choropleth"
           }
          ],
          "contour": [
           {
            "colorbar": {
             "outlinewidth": 0,
             "ticks": ""
            },
            "colorscale": [
             [
              0,
              "#0d0887"
             ],
             [
              0.1111111111111111,
              "#46039f"
             ],
             [
              0.2222222222222222,
              "#7201a8"
             ],
             [
              0.3333333333333333,
              "#9c179e"
             ],
             [
              0.4444444444444444,
              "#bd3786"
             ],
             [
              0.5555555555555556,
              "#d8576b"
             ],
             [
              0.6666666666666666,
              "#ed7953"
             ],
             [
              0.7777777777777778,
              "#fb9f3a"
             ],
             [
              0.8888888888888888,
              "#fdca26"
             ],
             [
              1,
              "#f0f921"
             ]
            ],
            "type": "contour"
           }
          ],
          "contourcarpet": [
           {
            "colorbar": {
             "outlinewidth": 0,
             "ticks": ""
            },
            "type": "contourcarpet"
           }
          ],
          "heatmap": [
           {
            "colorbar": {
             "outlinewidth": 0,
             "ticks": ""
            },
            "colorscale": [
             [
              0,
              "#0d0887"
             ],
             [
              0.1111111111111111,
              "#46039f"
             ],
             [
              0.2222222222222222,
              "#7201a8"
             ],
             [
              0.3333333333333333,
              "#9c179e"
             ],
             [
              0.4444444444444444,
              "#bd3786"
             ],
             [
              0.5555555555555556,
              "#d8576b"
             ],
             [
              0.6666666666666666,
              "#ed7953"
             ],
             [
              0.7777777777777778,
              "#fb9f3a"
             ],
             [
              0.8888888888888888,
              "#fdca26"
             ],
             [
              1,
              "#f0f921"
             ]
            ],
            "type": "heatmap"
           }
          ],
          "histogram": [
           {
            "marker": {
             "pattern": {
              "fillmode": "overlay",
              "size": 10,
              "solidity": 0.2
             }
            },
            "type": "histogram"
           }
          ],
          "histogram2d": [
           {
            "colorbar": {
             "outlinewidth": 0,
             "ticks": ""
            },
            "colorscale": [
             [
              0,
              "#0d0887"
             ],
             [
              0.1111111111111111,
              "#46039f"
             ],
             [
              0.2222222222222222,
              "#7201a8"
             ],
             [
              0.3333333333333333,
              "#9c179e"
             ],
             [
              0.4444444444444444,
              "#bd3786"
             ],
             [
              0.5555555555555556,
              "#d8576b"
             ],
             [
              0.6666666666666666,
              "#ed7953"
             ],
             [
              0.7777777777777778,
              "#fb9f3a"
             ],
             [
              0.8888888888888888,
              "#fdca26"
             ],
             [
              1,
              "#f0f921"
             ]
            ],
            "type": "histogram2d"
           }
          ],
          "histogram2dcontour": [
           {
            "colorbar": {
             "outlinewidth": 0,
             "ticks": ""
            },
            "colorscale": [
             [
              0,
              "#0d0887"
             ],
             [
              0.1111111111111111,
              "#46039f"
             ],
             [
              0.2222222222222222,
              "#7201a8"
             ],
             [
              0.3333333333333333,
              "#9c179e"
             ],
             [
              0.4444444444444444,
              "#bd3786"
             ],
             [
              0.5555555555555556,
              "#d8576b"
             ],
             [
              0.6666666666666666,
              "#ed7953"
             ],
             [
              0.7777777777777778,
              "#fb9f3a"
             ],
             [
              0.8888888888888888,
              "#fdca26"
             ],
             [
              1,
              "#f0f921"
             ]
            ],
            "type": "histogram2dcontour"
           }
          ],
          "mesh3d": [
           {
            "colorbar": {
             "outlinewidth": 0,
             "ticks": ""
            },
            "type": "mesh3d"
           }
          ],
          "parcoords": [
           {
            "line": {
             "colorbar": {
              "outlinewidth": 0,
              "ticks": ""
             }
            },
            "type": "parcoords"
           }
          ],
          "pie": [
           {
            "automargin": true,
            "type": "pie"
           }
          ],
          "scatter": [
           {
            "fillpattern": {
             "fillmode": "overlay",
             "size": 10,
             "solidity": 0.2
            },
            "type": "scatter"
           }
          ],
          "scatter3d": [
           {
            "line": {
             "colorbar": {
              "outlinewidth": 0,
              "ticks": ""
             }
            },
            "marker": {
             "colorbar": {
              "outlinewidth": 0,
              "ticks": ""
             }
            },
            "type": "scatter3d"
           }
          ],
          "scattercarpet": [
           {
            "marker": {
             "colorbar": {
              "outlinewidth": 0,
              "ticks": ""
             }
            },
            "type": "scattercarpet"
           }
          ],
          "scattergeo": [
           {
            "marker": {
             "colorbar": {
              "outlinewidth": 0,
              "ticks": ""
             }
            },
            "type": "scattergeo"
           }
          ],
          "scattergl": [
           {
            "marker": {
             "colorbar": {
              "outlinewidth": 0,
              "ticks": ""
             }
            },
            "type": "scattergl"
           }
          ],
          "scattermap": [
           {
            "marker": {
             "colorbar": {
              "outlinewidth": 0,
              "ticks": ""
             }
            },
            "type": "scattermap"
           }
          ],
          "scattermapbox": [
           {
            "marker": {
             "colorbar": {
              "outlinewidth": 0,
              "ticks": ""
             }
            },
            "type": "scattermapbox"
           }
          ],
          "scatterpolar": [
           {
            "marker": {
             "colorbar": {
              "outlinewidth": 0,
              "ticks": ""
             }
            },
            "type": "scatterpolar"
           }
          ],
          "scatterpolargl": [
           {
            "marker": {
             "colorbar": {
              "outlinewidth": 0,
              "ticks": ""
             }
            },
            "type": "scatterpolargl"
           }
          ],
          "scatterternary": [
           {
            "marker": {
             "colorbar": {
              "outlinewidth": 0,
              "ticks": ""
             }
            },
            "type": "scatterternary"
           }
          ],
          "surface": [
           {
            "colorbar": {
             "outlinewidth": 0,
             "ticks": ""
            },
            "colorscale": [
             [
              0,
              "#0d0887"
             ],
             [
              0.1111111111111111,
              "#46039f"
             ],
             [
              0.2222222222222222,
              "#7201a8"
             ],
             [
              0.3333333333333333,
              "#9c179e"
             ],
             [
              0.4444444444444444,
              "#bd3786"
             ],
             [
              0.5555555555555556,
              "#d8576b"
             ],
             [
              0.6666666666666666,
              "#ed7953"
             ],
             [
              0.7777777777777778,
              "#fb9f3a"
             ],
             [
              0.8888888888888888,
              "#fdca26"
             ],
             [
              1,
              "#f0f921"
             ]
            ],
            "type": "surface"
           }
          ],
          "table": [
           {
            "cells": {
             "fill": {
              "color": "#EBF0F8"
             },
             "line": {
              "color": "white"
             }
            },
            "header": {
             "fill": {
              "color": "#C8D4E3"
             },
             "line": {
              "color": "white"
             }
            },
            "type": "table"
           }
          ]
         },
         "layout": {
          "annotationdefaults": {
           "arrowcolor": "#2a3f5f",
           "arrowhead": 0,
           "arrowwidth": 1
          },
          "autotypenumbers": "strict",
          "coloraxis": {
           "colorbar": {
            "outlinewidth": 0,
            "ticks": ""
           }
          },
          "colorscale": {
           "diverging": [
            [
             0,
             "#8e0152"
            ],
            [
             0.1,
             "#c51b7d"
            ],
            [
             0.2,
             "#de77ae"
            ],
            [
             0.3,
             "#f1b6da"
            ],
            [
             0.4,
             "#fde0ef"
            ],
            [
             0.5,
             "#f7f7f7"
            ],
            [
             0.6,
             "#e6f5d0"
            ],
            [
             0.7,
             "#b8e186"
            ],
            [
             0.8,
             "#7fbc41"
            ],
            [
             0.9,
             "#4d9221"
            ],
            [
             1,
             "#276419"
            ]
           ],
           "sequential": [
            [
             0,
             "#0d0887"
            ],
            [
             0.1111111111111111,
             "#46039f"
            ],
            [
             0.2222222222222222,
             "#7201a8"
            ],
            [
             0.3333333333333333,
             "#9c179e"
            ],
            [
             0.4444444444444444,
             "#bd3786"
            ],
            [
             0.5555555555555556,
             "#d8576b"
            ],
            [
             0.6666666666666666,
             "#ed7953"
            ],
            [
             0.7777777777777778,
             "#fb9f3a"
            ],
            [
             0.8888888888888888,
             "#fdca26"
            ],
            [
             1,
             "#f0f921"
            ]
           ],
           "sequentialminus": [
            [
             0,
             "#0d0887"
            ],
            [
             0.1111111111111111,
             "#46039f"
            ],
            [
             0.2222222222222222,
             "#7201a8"
            ],
            [
             0.3333333333333333,
             "#9c179e"
            ],
            [
             0.4444444444444444,
             "#bd3786"
            ],
            [
             0.5555555555555556,
             "#d8576b"
            ],
            [
             0.6666666666666666,
             "#ed7953"
            ],
            [
             0.7777777777777778,
             "#fb9f3a"
            ],
            [
             0.8888888888888888,
             "#fdca26"
            ],
            [
             1,
             "#f0f921"
            ]
           ]
          },
          "colorway": [
           "#636efa",
           "#EF553B",
           "#00cc96",
           "#ab63fa",
           "#FFA15A",
           "#19d3f3",
           "#FF6692",
           "#B6E880",
           "#FF97FF",
           "#FECB52"
          ],
          "font": {
           "color": "#2a3f5f"
          },
          "geo": {
           "bgcolor": "white",
           "lakecolor": "white",
           "landcolor": "#E5ECF6",
           "showlakes": true,
           "showland": true,
           "subunitcolor": "white"
          },
          "hoverlabel": {
           "align": "left"
          },
          "hovermode": "closest",
          "mapbox": {
           "style": "light"
          },
          "paper_bgcolor": "white",
          "plot_bgcolor": "#E5ECF6",
          "polar": {
           "angularaxis": {
            "gridcolor": "white",
            "linecolor": "white",
            "ticks": ""
           },
           "bgcolor": "#E5ECF6",
           "radialaxis": {
            "gridcolor": "white",
            "linecolor": "white",
            "ticks": ""
           }
          },
          "scene": {
           "xaxis": {
            "backgroundcolor": "#E5ECF6",
            "gridcolor": "white",
            "gridwidth": 2,
            "linecolor": "white",
            "showbackground": true,
            "ticks": "",
            "zerolinecolor": "white"
           },
           "yaxis": {
            "backgroundcolor": "#E5ECF6",
            "gridcolor": "white",
            "gridwidth": 2,
            "linecolor": "white",
            "showbackground": true,
            "ticks": "",
            "zerolinecolor": "white"
           },
           "zaxis": {
            "backgroundcolor": "#E5ECF6",
            "gridcolor": "white",
            "gridwidth": 2,
            "linecolor": "white",
            "showbackground": true,
            "ticks": "",
            "zerolinecolor": "white"
           }
          },
          "shapedefaults": {
           "line": {
            "color": "#2a3f5f"
           }
          },
          "ternary": {
           "aaxis": {
            "gridcolor": "white",
            "linecolor": "white",
            "ticks": ""
           },
           "baxis": {
            "gridcolor": "white",
            "linecolor": "white",
            "ticks": ""
           },
           "bgcolor": "#E5ECF6",
           "caxis": {
            "gridcolor": "white",
            "linecolor": "white",
            "ticks": ""
           }
          },
          "title": {
           "x": 0.05
          },
          "xaxis": {
           "automargin": true,
           "gridcolor": "white",
           "linecolor": "white",
           "ticks": "",
           "title": {
            "standoff": 15
           },
           "zerolinecolor": "white",
           "zerolinewidth": 2
          },
          "yaxis": {
           "automargin": true,
           "gridcolor": "white",
           "linecolor": "white",
           "ticks": "",
           "title": {
            "standoff": 15
           },
           "zerolinecolor": "white",
           "zerolinewidth": 2
          }
         }
        },
        "title": {
         "text": "Sales Trends by Category"
        },
        "xaxis": {
         "anchor": "y",
         "domain": [
          0,
          1
         ],
         "title": {
          "text": "sales"
         }
        },
        "yaxis": {
         "anchor": "x",
         "domain": [
          0,
          1
         ],
         "title": {
          "text": "order_date"
         }
        }
       }
      }
     },
     "metadata": {},
     "output_type": "display_data"
    }
   ],
   "source": [
    "import plotly.express as px\n",
    "fig = px.line(df, x=\"sales\", y=\"order_date\", color=\"category\", title=\"Sales Trends by Category\")\n",
    "fig.update_traces(mode=\"lines+markers\")\n",
    "fig.show()"
   ]
  },
  {
   "cell_type": "code",
   "execution_count": 66,
   "id": "9f85884a",
   "metadata": {},
   "outputs": [
    {
     "data": {
      "image/png": "[encoded data removed]",
      "text/plain": [
       "<Figure size 1000x600 with 1 Axes>"
      ]
     },
     "metadata": {},
     "output_type": "display_data"
    }
   ],
   "source": [
    "import matplotlib.pyplot as plt\n",
    "\n",
    "plt.figure(figsize=(10,6))\n",
    "plt.plot(df[\"order_date\"], df[\"sales\"], color=\"teal\", marker='o', linestyle='-')\n",
    "plt.title(\"Sales Over Time\")\n",
    "plt.xlabel(\"Order Date\")\n",
    "plt.ylabel(\"Sales\")\n",
    "plt.xticks(rotation=45)\n",
    "plt.grid(True)\n",
    "plt.tight_layout()\n",
    "plt.show()\n"
   ]
  },
  {
   "cell_type": "code",
   "execution_count": 65,
   "id": "faf78668",
   "metadata": {},
   "outputs": [
    {
     "data": {
      "application/vnd.plotly.v1+json": {
       "config": {
        "plotlyServerURL": "https://plot.ly"
       },
       "data": [
        {
         "coloraxis": "coloraxis",
         "hovertemplate": "order_weekday_name: %{x}<br>city: %{y}<br>color: %{z}<extra></extra>",
         "name": "0",
         "texttemplate": "%{z}",
         "type": "heatmap",
         "x": [
          "Friday",
          "Monday",
          "Saturday",
          "Sunday",
          "Thursday",
          "Tuesday",
          "Wednesday"
         ],
         "xaxis": "x",
         "y": [
          "ABDUL HAKIM",
          "Abbottabad",
          "Arifwala",
          "BHAKKAR",
          "Bahawalnagar",
          "Bahawalpur",
          "Batkhela",
          "Batkhela Distt Malakand",
          "Burewala",
          "Chakwal",
          "Charsadda",
          "Chicha Watni",
          "Chistian",
          "DARGAI",
          "DAULAT PUR",
          "DIGRI",
          "Depalpur",
          "Dera Ghazi Khan",
          "Dera Ismail Khan",
          "Dera ala yar",
          "Dharki",
          "Faisalabad",
          "GILGIT",
          "Ghotki",
          "Gujar Khan",
          "Gujranwala",
          "Gujrat",
          "Hafizabad",
          "Hasilpur",
          "Hyderabad",
          "Islamabad",
          "Jampur",
          "Jamshoro",
          "Jhelum",
          "KAMBER ALI KHAN",
          "KHAIR PUR MEERU",
          "Kabir Wala",
          "Kamoki",
          "Kandhkot",
          "Karachi",
          "Kark",
          "Kasur",
          "Khairpur",
          "Khanewal",
          "Khanpur",
          "Kharian",
          "Lahore",
          "Lakki Marwat",
          "Larkana",
          "Liaqatpur",
          "Lodhran",
          "MIRAN SHAH",
          "Mailsi",
          "Mandi Bahauddin",
          "Mansehra",
          "Mardan",
          "Mianwali",
          "Mingora (swat)",
          "Mirpur (a. K)",
          "Mirpur Khas",
          "Moro",
          "Multan",
          "Muzaffargarh",
          "Nawab Shah",
          "Nowshera",
          "Nowshera virkan",
          "Okara",
          "Pakpattan",
          "Pattoki",
          "Peshawar",
          "Pindi bhattian",
          "Quetta",
          "RENALAKHURD",
          "Rahim yar khan",
          "Raiwind",
          "Rawalpindi",
          "Retra",
          "SANGHAR",
          "Sadiqabad",
          "Sahiwal",
          "Sambrial",
          "Sargodha",
          "Sehwan",
          "Sheikhupura",
          "Shikarpur",
          "Shorkot Cantt.",
          "Sialkot",
          "Sukkur",
          "Swabi",
          "Tando Adam",
          "Tando ala yar",
          "Taxila",
          "Toba Tek Sing",
          "Turbat",
          "Vehari",
          "Wah Cantt",
          "Zaida",
          "bannu",
          "kot addu",
          "کھڈیاں خاص"
         ],
         "yaxis": "y",
         "z": {
          "bdata": "AAAAAAAA+H8AAAAAAEiXQAAAAAAAAPh/AAAAAAAA+H8AAAAAAAD4fwAAAAAASJdAAAAAAABIl0AAAAAAAAD4fwAAAAAA4K9AAAAAAAAA+H8AAAAAAAD4fwAAAAAAlKZAAAAAAAAA+H8AAAAAAJS2QAAAAAAAAPh/AAAAAAAA+H8AAAAAAAD4fwAAAAAAAPh/AAAAAAAA+H8AAAAAAAD4fwAAAAAAuJVAAAAAAAAA+H8AAAAAAAD4fwAAAAAAAPh/AAAAAAAA+H8AAAAAAAD4fwAAAAAAAPh/AAAAAADYmEAAAAAAAAD4fwAAAAAAuJVAAAAAAAAcoUAAAAAAAAD4fwAAAAAAAPh/AAAAAAAA+H8AAAAAAAD4fwAAAAAAXLdAAAAAAAB0o0AAAAAAAAD4fwAAAAAAmJJAAAAAAAA4j0AAAAAAADykQAAAAAAAAPh/AAAAAAAA+H8AAAAAALilQAAAAAAAAPh/AAAAAAAA+H8AAAAAANiYQAAAAAAAAPh/AAAAAAAA+H8AAAAAAAD4fwAAAAAAAPh/AAAAAAAA+H8AAAAAAAD4fwAAAAAA2JhAAAAAAAAA+H8AAAAAAAD4fwAAAAAAAPh/AAAAAAAA+H8AAAAAAAiRQAAAAAAAAPh/AAAAAAAA+H8AAAAAAAD4fwAAAAAAAPh/AAAAAAAA+H8AAAAAAIidQAAAAAAAAPh/AAAAAAAA+H8AAAAAAAD4fwAAAAAAAPh/AAAAAAAA+H8AAAAAACiUQAAAAAAA8I5AAAAAAAAA+H8AAAAAAAD4fwAAAAAAAPh/AAAAAAAA+H8AAAAAAAD4fwAAAAAAAPh/AAAAAAAA+H8AAAAAAAD4fwAAAAAAfKpAAAAAAAAA+H8AAAAAAAD4fwAAAAAA+JtAAAAAAAAA+H8AAAAAAAD4fwAAAAAAAPh/AAAAAAAA+H8AAAAAANiYQAAAAAAAAPh/AAAAAAAA+H8AAAAAAAD4fwAAAAAAAPh/AAAAAAA8pEAAAAAAAAD4fwAAAAAAAPh/AAAAAAAA+H8AAAAAAAD4fwAAAAAAKJRAAAAAAAAA+H8AAAAAAAD4fwAAAAAAAPh/AAAAAAAA+H8AAAAAAAD4fwAAAAAAAPh/AAAAAAAA+H8AAAAAAAD4fwAAAAAAAPh/AAAAAACYokAAAAAAAAD4fwAAAAAAAPh/AAAAAAAA+H8AAAAAANiYQAAAAAAAAPh/AAAAAAAA+H8AAAAAAAD4fwAAAAAAAPh/AAAAAAAA+H8AAAAAAAD4fwAAAAAAzLVAAAAAAAAA+H8AAAAAAAD4fwAAAAAAAPh/AAAAAAAA+H8AAAAAAAD4fwAAAAAAAPh/AAAAAAB8qkAAAAAAAAD4fwAAAAAAAPh/AAAAAAAA+H8AAAAAAAD4fwAAAAAAAPh/AAAAAAAA+H8AAAAAAAD4fwAAAAAAAPh/AAAAAAAA+H8AAAAAAAD4fwAAAAAAAPh/AAAAAADYmEAAAAAAANiYQAAAAAAAAPh/AAAAAAAA+H8AAAAAAAD4fwAAAAAAAPh/AAAAAAAA+H8AAAAAAAD4fwAAAAAAmJJAAAAAAICm0EAAAAAAAFC0QAAAAAAASKdAAAAAAAAcsUAAAAAAAJiiQAAAAAAAirZAAAAAAAA7tEAAAAAAAAD4fwAAAAAAAPh/AAAAAAAA+H8AAAAAAAD4fwAAAAAASJdAAAAAAAAA+H8AAAAAAHyqQAAAAAAAXspAAAAAAACOwkAAAAAAAAD4fwAAAAAAAPh/AAAAAAAA+H8AAAAAAAD4fwAAAAAAAPh/AAAAAAAA+H8AAAAAAAD4fwAAAAAA2JhAAAAAAAAA+H8AAAAAAAD4fwAAAAAAAPh/AAAAAAAA+H8AAAAAAAD4fwAAAAAAqrlAAAAAAADgv0AAAAAAAAD4fwAAAAAAELNAAAAAAADYmEAAAAAAAP+9QAAAAAAAAPh/AAAAAAA8pEAAAAAAAAD4fwAAAAAAHKFAAAAAAAAA+H8AAAAAAAiRQAAAAAAAjKlAAAAAAAAA+H8AAAAAAAD4fwAAAAAAAPh/AAAAAAD4q0AAAAAAAAD4fwAAAAAAAPh/AAAAAAAA+H8AAAAAAAD4fwAAAAAAAPh/AAAAAADYmEAAAAAAAAD4fwAAAAAAAPh/AAAAAAAA+H8AAAAAAAD4fwAAAAAAv7xAAAAAAACAsUAAAAAAABiMQAAAAAAA7L1AAAAAAAAjvUAAAAAAAHyqQAAAAAAAarNAAAAAAIDq10AAAAAAgDLRQAAAAABAJtNAAAAAAACKy0AAAAAAQIbXQAAAAAAAacRAAAAAAACkz0AAAAAAAAD4fwAAAAAAGIxAAAAAAADYmEAAAAAAAAD4fwAAAAAAAPh/AAAAAAAA+H8AAAAAAAD4fwAAAAAAAPh/AAAAAAAA+H8AAAAAAAD4fwAAAAAAAPh/AAAAAACYkkAAAAAAAAD4fwAAAAAAAPh/AAAAAABIl0AAAAAAAAD4fwAAAAAASJdAAAAAAAAA+H8AAAAAAJiSQAAAAAAAAPh/AAAAAAAA+H8AAAAAAAD4fwAAAAAASJdAAAAAAAAA+H8AAAAAAAD4fwAAAAAAAPh/AAAAAAAA+H8AAAAAAAD4fwAAAAAAAPh/AAAAAAAA+H8AAAAAAAD4fwAAAAAAvJJAAAAAAAAA+H8AAAAAAAD4fwAAAAAAAPh/AAAAAAAA+H8AAAAAAAD4fwAAAAAAAPh/AAAAAAAA+H8AAAAAAAD4fwAAAAAAAPh/AAAAAADYmEAAAAAAAPCkQAAAAAAAAPh/AAAAAAAA+H8AAAAAAAD4fwAAAAAAAPh/AAAAAAAA+H8AAAAAAAD4fwAAAAAAAPh/AAAAAAAA+H8AAAAAAAD4fwAAAAAAAPh/AAAAAAAA+H8AAAAAAEiXQAAAAAAAAPh/AAAAAEC170AAAAAAQMnpQAAAAABgUe9AAAAAAIAn8EAAAAAAgCPrQAAAAACAZuRAAAAAAKBV8kAAAAAAACikQAAAAAAAAPh/AAAAAAAA+H8AAAAAAAD4fwAAAAAAAPh/AAAAAAAA+H8AAAAAAAD4fwAAAAAAAPh/AAAAAAAA+H8AAAAAAEiXQAAAAAAAAPh/AAAAAAAA+H8AAAAAAAD4fwAAAAAAAPh/AAAAAAAA+H8AAAAAAAD4fwAAAAAASJdAAAAAAADYmEAAAAAAAAD4fwAAAAAAAPh/AAAAAAAA+H8AAAAAABifQAAAAAAAAPh/AAAAAAAA+H8AAAAAAAD4fwAAAAAAHKFAAAAAAAAA+H8AAAAAAAD4fwAAAAAAAPh/AAAAAAAA+H8AAAAAADykQAAAAAAAAPh/AAAAAAAA+H8AAAAAAAD4fwAAAAAASJdAAAAAAAAA+H8AAAAAAAD4fwAAAAAAAPh/AAAAAABIl0AAAAAAAAD4fwAAAAAAAPh/AAAAAAAA+H8AAAAAACPyQAAAAADAgOlAAAAAAMAD6UAAAAAAIIzlQAAAAAAAi+tAAAAAAIAo4UAAAAAAoJHnQAAAAAAAAPh/AAAAAAAA+H8AAAAAAAD4fwAAAAAAKJRAAAAAAAAA+H8AAAAAAAD4fwAAAAAAAPh/AAAAAAAA+H8AAAAAAAD4fwAAAAAA2JhAAAAAAAAA+H8AAAAAAAD4fwAAAAAAAPh/AAAAAAAA+H8AAAAAAAD4fwAAAAAAAPh/AAAAAAAA+H8AAAAAAAD4fwAAAAAAfKpAAAAAAAAA+H8AAAAAAAD4fwAAAAAAirFAAAAAAAAA+H8AAAAAAAD4fwAAAAAAAPh/AAAAAAAcoUAAAAAAAAD4fwAAAAAAAPh/AAAAAAAA+H8AAAAAAAD4fwAAAAAAAPh/AAAAAAAA+H8AAAAAAAD4fwAAAAAAAPh/AAAAAAAolEAAAAAAAAD4fwAAAAAAAPh/AAAAAAC4lUAAAAAAAAD4fwAAAAAAAPh/AAAAAAAA+H8AAAAAAAD4fwAAAAAAAPh/AAAAAAAA+H8AAAAAAAD4fwAAAAAA8I5AAAAAAAAA+H8AAAAAAAD4fwAAAAAAAPh/AAAAAAD4m0AAAAAAAAD4fwAAAAAAAPh/AAAAAAAA+H8AAAAAACiUQAAAAAAAAPh/AAAAAAAA+H8AAAAAADqkQAAAAAAAAPh/AAAAAAAA+H8AAAAAAAD4fwAAAAAAAPh/AAAAAAAA+H8AAAAAANiYQAAAAAAArKJAAAAAAAAA+H8AAAAAAAD4fwAAAAAAAPh/AAAAAACYkkAAAAAAAJiSQAAAAAAAAPh/AAAAAAAA+H8AAAAAAAD4fwAAAAAAaKpAAAAAAAAA+H8AAAAAABCoQAAAAAAA8I5AAAAAAAAA+H8AAAAAAAD4fwAAAAAAAPh/AAAAAADYmEAAAAAAAAD4fwAAAAAAAPh/AAAAAAAA+H8AAAAAAJiSQAAAAAAAAPh/AAAAAADYmEAAAAAAAAD4fwAAAAAAAPh/AAAAAAAA+H8AAAAAAAD4fwAAAAAAAPh/AAAAAAAA+H8AAAAAAAD4fwAAAAAAAPh/AAAAAAAA+H8AAAAAANiYQAAAAAAAAPh/AAAAAAAA+H8AAAAAAByhQAAAAAAA08NAAAAAAADZu0AAAAAAANiYQAAAAAAAyrxAAAAAAABEq0AAAAAAABCzQAAAAAAAAPh/AAAAAAAA+H8AAAAAAPCeQAAAAAAAAPh/AAAAAAAA+H8AAAAAAAD4fwAAAAAAAPh/AAAAAAAA+H8AAAAAAAD4fwAAAAAAAPh/AAAAAAAA+H8AAAAAAAD4fwAAAAAAAPh/AAAAAAAcoUAAAAAAAAD4fwAAAAAAAPh/AAAAAAAA+H8AAAAAAAD4fwAAAAAAAPh/AAAAAADwrkAAAAAAAAD4fwAAAAAAuKVAAAAAAAAA+H8AAAAAAAD4fwAAAAAAAPh/AAAAAAAA+H8AAAAAAAD4fwAAAAAAAPh/AAAAAAAA+H8AAAAAAOyoQAAAAAAAAPh/AAAAAAAYjEAAAAAAAAD4fwAAAAAAAPh/AAAAAAAA+H8AAAAAAAD4fwAAAAAAAPh/AAAAAAAA+H8AAAAAAAD4fwAAAAAAfKpAAAAAAAAA+H8AAAAAAAD4fwAAAAAAAPh/AAAAAAAA+H8AAAAAAAD4fwAAAAAAAPh/AAAAAAAA+H8AAAAAAAD4fwAAAAAAuJVAAAAAAAAolEAAAAAAAGi6QAAAAAAAJbFAAAAAAABIl0AAAAAAAOTBQAAAAAAAAPh/AAAAAACYskAAAAAAAAD4fwAAAAAAKJRAAAAAAAAA+H8AAAAAAAD4fwAAAAAAAPh/AAAAAAAA+H8AAAAAAAD4fwAAAAAASKdAAAAAAADYmEAAAAAAAEiXQAAAAAAASLdAAAAAAADYmEAAAAAAAAD4fwAAAAAAuKVAAAAAAAAA+H8AAAAAAAD4fwAAAAAAAPh/AAAAAAB8qkAAAAAAAAD4fwAAAAAAAPh/AAAAAAAkqEAAAAAAAOGzQAAAAAAAAPh/AAAAAAAA+H8AAAAAAAD4fwAAAAAAAPh/AAAAAACKsUAAAAAAAAD4fwAAAAAAAPh/AAAAAADYmEAAAAAAAAD4fwAAAAAAAPh/AAAAAAAA+H8AAAAAAAD4fwAAAAAAKJRAAAAAAIDHxEAAAAAAAJiSQAAAAAAAIcBAAAAAAABr10AAAAAAAFTAQAAAAAAALNVAAAAAAACquUAAAAAAAAD4fwAAAAAAAPh/AAAAAAAA+H8AAAAAAAD4fwAAAAAAGIxAAAAAAAAA+H8AAAAAAAD4fwAAAAAAAPh/AAAAAADYmEAAAAAAAAD4fwAAAAAAAPh/AAAAAAAA+H8AAAAAAAD4fwAAAAAAAPh/AAAAAAAA+H8AAAAAAEiXQAAAAAAAAPh/AAAAAADwjkAAAAAAAAD4fwAAAAAAAPh/AAAAAAAA+H8AAAAAAPibQAAAAAAAmJJAAAAAAAAA+H8AAAAAAAD4fwAAAAAArrBAAAAAAABIl0AAAAAAAAD4fwAAAAAAAPh/AAAAAAAA+H8AAAAAAAD4fwAAAAAAGIxAAAAAAAAA+H8AAAAAAAD4fwAAAAAAAPh/AAAAAAAA+H8AAAAAAAD4fwAAAAAA8I5AAAAAAAC4lUAAAAAAAAD4fwAAAAAAAPh/AAAAAABIl0AAAAAAAAD4fwAAAAAAAPh/AAAAAADYmEAAAAAAAAD4fwAAAAAAAPh/AAAAAAAA+H8AAAAAAAD4fwAAAAAASJdAAAAAAAAA+H8AAAAAAAD4fwAAAAAAAPh/AAAAAAAA+H8AAAAAAAD4fwAAAAAA2KhAAAAAAAC4lUAAAAAAAAD4fwAAAAAAAPh/AAAAAAAA+H8AAAAAAAD4fwAAAAAAAPh/AAAAAAAA+H8AAAAAAAD4fwAAAAAAAPh/AAAAAAAA+H8AAAAAAAD4fwAAAAAAAPh/AAAAAACYkkAAAAAAAAD4fwAAAAAA4bhAAAAAAACzuUAAAAAAAOCvQAAAAAAA+JtAAAAAAAChw0AAAAAAAAD4fwAAAAAAy7pAAAAAAAAA+H8AAAAAAAD4fwAAAAAAAPh/AAAAAAAA+H8AAAAAABCoQAAAAAAAAPh/AAAAAAAA+H8AAAAAAAD4fwAAAAAAAPh/AAAAAAAA+H8AAAAAANiYQAAAAAAAGIxAAAAAAAAA+H8AAAAAAAD4fwAAAAAAAPh/AAAAAAAA+H8AAAAAANiYQAAAAAAAAPh/AAAAAAAcoUAAAAAAAAD4fwAAAAAAAPh/AAAAAAAA+H8AAAAAANiYQAAAAAAAAPh/AAAAAAAA+H8AAAAAAAD4fwAAAAAAAPh/AAAAAAAA+H8AAAAAAAD4fwAAAAAAAPh/AAAAAAAA+H8AAAAAAAD4fwAAAAAAKJRAAAAAAAA8pEAAAAAAAAD4fwAAAAAAAPh/AAAAAADwnkAAAAAAAAD4fwAAAAAAAPh/AAAAAAAA+H8AAAAAAAD4fwAAAAAAAPh/AAAAAAAA+H8AAAAAAAD4fwAAAAAAAPh/AAAAAAAA+H8AAAAAAAD4fwAAAAAAEKhAAAAAAAAA+H8AAAAAAAD4fwAAAAAAAPh/AAAAAAAA+H8AAAAAAAD4fwAAAAAAAPh/AAAAAAA8pEAAAAAAAAD4fwAAAAAA2JhAAAAAAAAA+H8AAAAAAAD4fwAAAAAAAPh/AAAAAAB8qkAAAAAAAAD4fwAAAAAAoLlAAAAAAAAYjEAAAAAAAAD4fwAAAAAAAPh/AAAAAAAA+H8AAAAAAAD4fwAAAAAAAPh/AAAAAAAA+H8AAAAAAAD4fwAAAAAAAPh/AAAAAAA4j0AAAAAAAAD4fwAAAAAAAPh/AAAAAAAA+H8AAAAAAAD4fwAAAAAAAPh/AAAAAAAA+H8AAAAAAAD4fwAAAAAA+JtAAAAAAAAA+H8AAAAAAAD4fwAAAAAAAPh/AAAAAAAA+H8AAAAAAAD4fwAAAAAAAPh/AAAAAAAA+H8AAAAAANiYQAAAAAAAAPh/AAAAAAAA+H8=",
          "dtype": "f8",
          "shape": "100, 7"
         }
        }
       ],
       "layout": {
        "coloraxis": {
         "colorscale": [
          [
           0,
           "#440154"
          ],
          [
           0.1111111111111111,
           "#482878"
          ],
          [
           0.2222222222222222,
           "#3e4989"
          ],
          [
           0.3333333333333333,
           "#31688e"
          ],
          [
           0.4444444444444444,
           "#26828e"
          ],
          [
           0.5555555555555556,
           "#1f9e89"
          ],
          [
           0.6666666666666666,
           "#35b779"
          ],
          [
           0.7777777777777778,
           "#6ece58"
          ],
          [
           0.8888888888888888,
           "#b5de2b"
          ],
          [
           1,
           "#fde725"
          ]
         ]
        },
        "template": {
         "data": {
          "bar": [
           {
            "error_x": {
             "color": "#2a3f5f"
            },
            "error_y": {
             "color": "#2a3f5f"
            },
            "marker": {
             "line": {
              "color": "#E5ECF6",
              "width": 0.5
             },
             "pattern": {
              "fillmode": "overlay",
              "size": 10,
              "solidity": 0.2
             }
            },
            "type": "bar"
           }
          ],
          "barpolar": [
           {
            "marker": {
             "line": {
              "color": "#E5ECF6",
              "width": 0.5
             },
             "pattern": {
              "fillmode": "overlay",
              "size": 10,
              "solidity": 0.2
             }
            },
            "type": "barpolar"
           }
          ],
          "carpet": [
           {
            "aaxis": {
             "endlinecolor": "#2a3f5f",
             "gridcolor": "white",
             "linecolor": "white",
             "minorgridcolor": "white",
             "startlinecolor": "#2a3f5f"
            },
            "baxis": {
             "endlinecolor": "#2a3f5f",
             "gridcolor": "white",
             "linecolor": "white",
             "minorgridcolor": "white",
             "startlinecolor": "#2a3f5f"
            },
            "type": "carpet"
           }
          ],
          "choropleth": [
           {
            "colorbar": {
             "outlinewidth": 0,
             "ticks": ""
            },
            "type": "choropleth"
           }
          ],
          "contour": [
           {
            "colorbar": {
             "outlinewidth": 0,
             "ticks": ""
            },
            "colorscale": [
             [
              0,
              "#0d0887"
             ],
             [
              0.1111111111111111,
              "#46039f"
             ],
             [
              0.2222222222222222,
              "#7201a8"
             ],
             [
              0.3333333333333333,
              "#9c179e"
             ],
             [
              0.4444444444444444,
              "#bd3786"
             ],
             [
              0.5555555555555556,
              "#d8576b"
             ],
             [
              0.6666666666666666,
              "#ed7953"
             ],
             [
              0.7777777777777778,
              "#fb9f3a"
             ],
             [
              0.8888888888888888,
              "#fdca26"
             ],
             [
              1,
              "#f0f921"
             ]
            ],
            "type": "contour"
           }
          ],
          "contourcarpet": [
           {
            "colorbar": {
             "outlinewidth": 0,
             "ticks": ""
            },
            "type": "contourcarpet"
           }
          ],
          "heatmap": [
           {
            "colorbar": {
             "outlinewidth": 0,
             "ticks": ""
            },
            "colorscale": [
             [
              0,
              "#0d0887"
             ],
             [
              0.1111111111111111,
              "#46039f"
             ],
             [
              0.2222222222222222,
              "#7201a8"
             ],
             [
              0.3333333333333333,
              "#9c179e"
             ],
             [
              0.4444444444444444,
              "#bd3786"
             ],
             [
              0.5555555555555556,
              "#d8576b"
             ],
             [
              0.6666666666666666,
              "#ed7953"
             ],
             [
              0.7777777777777778,
              "#fb9f3a"
             ],
             [
              0.8888888888888888,
              "#fdca26"
             ],
             [
              1,
              "#f0f921"
             ]
            ],
            "type": "heatmap"
           }
          ],
          "histogram": [
           {
            "marker": {
             "pattern": {
              "fillmode": "overlay",
              "size": 10,
              "solidity": 0.2
             }
            },
            "type": "histogram"
           }
          ],
          "histogram2d": [
           {
            "colorbar": {
             "outlinewidth": 0,
             "ticks": ""
            },
            "colorscale": [
             [
              0,
              "#0d0887"
             ],
             [
              0.1111111111111111,
              "#46039f"
             ],
             [
              0.2222222222222222,
              "#7201a8"
             ],
             [
              0.3333333333333333,
              "#9c179e"
             ],
             [
              0.4444444444444444,
              "#bd3786"
             ],
             [
              0.5555555555555556,
              "#d8576b"
             ],
             [
              0.6666666666666666,
              "#ed7953"
             ],
             [
              0.7777777777777778,
              "#fb9f3a"
             ],
             [
              0.8888888888888888,
              "#fdca26"
             ],
             [
              1,
              "#f0f921"
             ]
            ],
            "type": "histogram2d"
           }
          ],
          "histogram2dcontour": [
           {
            "colorbar": {
             "outlinewidth": 0,
             "ticks": ""
            },
            "colorscale": [
             [
              0,
              "#0d0887"
             ],
             [
              0.1111111111111111,
              "#46039f"
             ],
             [
              0.2222222222222222,
              "#7201a8"
             ],
             [
              0.3333333333333333,
              "#9c179e"
             ],
             [
              0.4444444444444444,
              "#bd3786"
             ],
             [
              0.5555555555555556,
              "#d8576b"
             ],
             [
              0.6666666666666666,
              "#ed7953"
             ],
             [
              0.7777777777777778,
              "#fb9f3a"
             ],
             [
              0.8888888888888888,
              "#fdca26"
             ],
             [
              1,
              "#f0f921"
             ]
            ],
            "type": "histogram2dcontour"
           }
          ],
          "mesh3d": [
           {
            "colorbar": {
             "outlinewidth": 0,
             "ticks": ""
            },
            "type": "mesh3d"
           }
          ],
          "parcoords": [
           {
            "line": {
             "colorbar": {
              "outlinewidth": 0,
              "ticks": ""
             }
            },
            "type": "parcoords"
           }
          ],
          "pie": [
           {
            "automargin": true,
            "type": "pie"
           }
          ],
          "scatter": [
           {
            "fillpattern": {
             "fillmode": "overlay",
             "size": 10,
             "solidity": 0.2
            },
            "type": "scatter"
           }
          ],
          "scatter3d": [
           {
            "line": {
             "colorbar": {
              "outlinewidth": 0,
              "ticks": ""
             }
            },
            "marker": {
             "colorbar": {
              "outlinewidth": 0,
              "ticks": ""
             }
            },
            "type": "scatter3d"
           }
          ],
          "scattercarpet": [
           {
            "marker": {
             "colorbar": {
              "outlinewidth": 0,
              "ticks": ""
             }
            },
            "type": "scattercarpet"
           }
          ],
          "scattergeo": [
           {
            "marker": {
             "colorbar": {
              "outlinewidth": 0,
              "ticks": ""
             }
            },
            "type": "scattergeo"
           }
          ],
          "scattergl": [
           {
            "marker": {
             "colorbar": {
              "outlinewidth": 0,
              "ticks": ""
             }
            },
            "type": "scattergl"
           }
          ],
          "scattermap": [
           {
            "marker": {
             "colorbar": {
              "outlinewidth": 0,
              "ticks": ""
             }
            },
            "type": "scattermap"
           }
          ],
          "scattermapbox": [
           {
            "marker": {
             "colorbar": {
              "outlinewidth": 0,
              "ticks": ""
             }
            },
            "type": "scattermapbox"
           }
          ],
          "scatterpolar": [
           {
            "marker": {
             "colorbar": {
              "outlinewidth": 0,
              "ticks": ""
             }
            },
            "type": "scatterpolar"
           }
          ],
          "scatterpolargl": [
           {
            "marker": {
             "colorbar": {
              "outlinewidth": 0,
              "ticks": ""
             }
            },
            "type": "scatterpolargl"
           }
          ],
          "scatterternary": [
           {
            "marker": {
             "colorbar": {
              "outlinewidth": 0,
              "ticks": ""
             }
            },
            "type": "scatterternary"
           }
          ],
          "surface": [
           {
            "colorbar": {
             "outlinewidth": 0,
             "ticks": ""
            },
            "colorscale": [
             [
              0,
              "#0d0887"
             ],
             [
              0.1111111111111111,
              "#46039f"
             ],
             [
              0.2222222222222222,
              "#7201a8"
             ],
             [
              0.3333333333333333,
              "#9c179e"
             ],
             [
              0.4444444444444444,
              "#bd3786"
             ],
             [
              0.5555555555555556,
              "#d8576b"
             ],
             [
              0.6666666666666666,
              "#ed7953"
             ],
             [
              0.7777777777777778,
              "#fb9f3a"
             ],
             [
              0.8888888888888888,
              "#fdca26"
             ],
             [
              1,
              "#f0f921"
             ]
            ],
            "type": "surface"
           }
          ],
          "table": [
           {
            "cells": {
             "fill": {
              "color": "#EBF0F8"
             },
             "line": {
              "color": "white"
             }
            },
            "header": {
             "fill": {
              "color": "#C8D4E3"
             },
             "line": {
              "color": "white"
             }
            },
            "type": "table"
           }
          ]
         },
         "layout": {
          "annotationdefaults": {
           "arrowcolor": "#2a3f5f",
           "arrowhead": 0,
           "arrowwidth": 1
          },
          "autotypenumbers": "strict",
          "coloraxis": {
           "colorbar": {
            "outlinewidth": 0,
            "ticks": ""
           }
          },
          "colorscale": {
           "diverging": [
            [
             0,
             "#8e0152"
            ],
            [
             0.1,
             "#c51b7d"
            ],
            [
             0.2,
             "#de77ae"
            ],
            [
             0.3,
             "#f1b6da"
            ],
            [
             0.4,
             "#fde0ef"
            ],
            [
             0.5,
             "#f7f7f7"
            ],
            [
             0.6,
             "#e6f5d0"
            ],
            [
             0.7,
             "#b8e186"
            ],
            [
             0.8,
             "#7fbc41"
            ],
            [
             0.9,
             "#4d9221"
            ],
            [
             1,
             "#276419"
            ]
           ],
           "sequential": [
            [
             0,
             "#0d0887"
            ],
            [
             0.1111111111111111,
             "#46039f"
            ],
            [
             0.2222222222222222,
             "#7201a8"
            ],
            [
             0.3333333333333333,
             "#9c179e"
            ],
            [
             0.4444444444444444,
             "#bd3786"
            ],
            [
             0.5555555555555556,
             "#d8576b"
            ],
            [
             0.6666666666666666,
             "#ed7953"
            ],
            [
             0.7777777777777778,
             "#fb9f3a"
            ],
            [
             0.8888888888888888,
             "#fdca26"
            ],
            [
             1,
             "#f0f921"
            ]
           ],
           "sequentialminus": [
            [
             0,
             "#0d0887"
            ],
            [
             0.1111111111111111,
             "#46039f"
            ],
            [
             0.2222222222222222,
             "#7201a8"
            ],
            [
             0.3333333333333333,
             "#9c179e"
            ],
            [
             0.4444444444444444,
             "#bd3786"
            ],
            [
             0.5555555555555556,
             "#d8576b"
            ],
            [
             0.6666666666666666,
             "#ed7953"
            ],
            [
             0.7777777777777778,
             "#fb9f3a"
            ],
            [
             0.8888888888888888,
             "#fdca26"
            ],
            [
             1,
             "#f0f921"
            ]
           ]
          },
          "colorway": [
           "#636efa",
           "#EF553B",
           "#00cc96",
           "#ab63fa",
           "#FFA15A",
           "#19d3f3",
           "#FF6692",
           "#B6E880",
           "#FF97FF",
           "#FECB52"
          ],
          "font": {
           "color": "#2a3f5f"
          },
          "geo": {
           "bgcolor": "white",
           "lakecolor": "white",
           "landcolor": "#E5ECF6",
           "showlakes": true,
           "showland": true,
           "subunitcolor": "white"
          },
          "hoverlabel": {
           "align": "left"
          },
          "hovermode": "closest",
          "mapbox": {
           "style": "light"
          },
          "paper_bgcolor": "white",
          "plot_bgcolor": "#E5ECF6",
          "polar": {
           "angularaxis": {
            "gridcolor": "white",
            "linecolor": "white",
            "ticks": ""
           },
           "bgcolor": "#E5ECF6",
           "radialaxis": {
            "gridcolor": "white",
            "linecolor": "white",
            "ticks": ""
           }
          },
          "scene": {
           "xaxis": {
            "backgroundcolor": "#E5ECF6",
            "gridcolor": "white",
            "gridwidth": 2,
            "linecolor": "white",
            "showbackground": true,
            "ticks": "",
            "zerolinecolor": "white"
           },
           "yaxis": {
            "backgroundcolor": "#E5ECF6",
            "gridcolor": "white",
            "gridwidth": 2,
            "linecolor": "white",
            "showbackground": true,
            "ticks": "",
            "zerolinecolor": "white"
           },
           "zaxis": {
            "backgroundcolor": "#E5ECF6",
            "gridcolor": "white",
            "gridwidth": 2,
            "linecolor": "white",
            "showbackground": true,
            "ticks": "",
            "zerolinecolor": "white"
           }
          },
          "shapedefaults": {
           "line": {
            "color": "#2a3f5f"
           }
          },
          "ternary": {
           "aaxis": {
            "gridcolor": "white",
            "linecolor": "white",
            "ticks": ""
           },
           "baxis": {
            "gridcolor": "white",
            "linecolor": "white",
            "ticks": ""
           },
           "bgcolor": "#E5ECF6",
           "caxis": {
            "gridcolor": "white",
            "linecolor": "white",
            "ticks": ""
           }
          },
          "title": {
           "x": 0.05
          },
          "xaxis": {
           "automargin": true,
           "gridcolor": "white",
           "linecolor": "white",
           "ticks": "",
           "title": {
            "standoff": 15
           },
           "zerolinecolor": "white",
           "zerolinewidth": 2
          },
          "yaxis": {
           "automargin": true,
           "gridcolor": "white",
           "linecolor": "white",
           "ticks": "",
           "title": {
            "standoff": 15
           },
           "zerolinecolor": "white",
           "zerolinewidth": 2
          }
         }
        },
        "title": {
         "text": "Sales Heatmap by City & Weekday"
        },
        "xaxis": {
         "anchor": "y",
         "constrain": "domain",
         "domain": [
          0,
          1
         ],
         "scaleanchor": "y",
         "title": {
          "text": "order_weekday_name"
         }
        },
        "yaxis": {
         "anchor": "x",
         "autorange": "reversed",
         "constrain": "domain",
         "domain": [
          0,
          1
         ],
         "title": {
          "text": "city"
         }
        }
       }
      }
     },
     "metadata": {},
     "output_type": "display_data"
    }
   ],
   "source": [
    "import plotly.express as px\n",
    "pivot = df.pivot_table(index=\"city\", columns=\"order_weekday_name\", values=\"sales\", aggfunc=\"sum\")\n",
    "fig = px.imshow(pivot, text_auto=True, color_continuous_scale=\"Viridis\", title=\"Sales Heatmap by City & Weekday\")\n",
    "fig.show()\n"
   ]
  }
 ],
 "metadata": {
  "kernelspec": {
   "display_name": "Python 3",
   "language": "python",
   "name": "python3"
  },
  "language_info": {
   "codemirror_mode": {
    "name": "ipython",
    "version": 3
   },
   "file_extension": ".py",
   "mimetype": "text/x-python",
   "name": "python",
   "nbconvert_exporter": "python",
   "pygments_lexer": "ipython3",
   "version": "3.12.4"
  }
 },
 "nbformat": 4,
 "nbformat_minor": 5
}
